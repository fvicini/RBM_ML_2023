{
 "cells": [
  {
   "cell_type": "markdown",
   "id": "89ccb3ca",
   "metadata": {
    "slideshow": {
     "slide_type": "slide"
    }
   },
   "source": [
    "# Python - Introduction"
   ]
  },
  {
   "cell_type": "markdown",
   "id": "47b9063e",
   "metadata": {
    "slideshow": {
     "slide_type": "subslide"
    }
   },
   "source": [
    "## Python\n",
    "\n",
    "[Python](https://www.python.org/) is a **Programming language**:\n",
    "\n",
    "1. **General-purpose** - write software in variety of application domains\n",
    "1. **High-Level** - abstraction from the details of the computer\n",
    "1. **Multi-Paradigm** - procedural, object-oriented, ecc.\n",
    "1. **Interpreted** - the interpreter shall be installed\n",
    "1. **Open Source** - free to use and modify\n",
    "1. **Cross-Platform** - as it is interpreted"
   ]
  },
  {
   "cell_type": "markdown",
   "id": "fb0fc334",
   "metadata": {
    "slideshow": {
     "slide_type": "subslide"
    }
   },
   "source": [
    "### History\n",
    "\n",
    "* **1990**: First implementation by Guido Van Rossum\n",
    "* **2001**: Python Software Foundation License (Python 2.1)\n",
    "* **2008**: Modern Python 3.0 is released\n",
    "* <div class=\"alert alert-block alert-success\"> <b>Today</b>: Python 3.11 released </div>\n",
    "\n",
    "#### Other Information\n",
    "* Documentation: https://docs.python.org/3/\n",
    "* Exercises: https://www.w3resource.com/python-exercises/\n",
    "* Installation: https://www.python.org/downloads/\n",
    "\n",
    "<div class=\"alert alert-block alert-warning\"> <b>Is Python trendy?</b> <a href=\"https://www.tiobe.com/tiobe-index/\">https://www.tiobe.com/tiobe-index/</a>. </div>"
   ]
  },
  {
   "cell_type": "markdown",
   "id": "5618cf6e",
   "metadata": {
    "slideshow": {
     "slide_type": "subslide"
    }
   },
   "source": [
    "### Hello world"
   ]
  },
  {
   "cell_type": "code",
   "execution_count": null,
   "id": "e725bf4b",
   "metadata": {
    "slideshow": {
     "slide_type": "-"
    }
   },
   "outputs": [],
   "source": [
    "import builtins as blt\n",
    "\n",
    "# Main\n",
    "if __name__ == '__main__':\n",
    "    blt.print('Hello World!')"
   ]
  },
  {
   "cell_type": "markdown",
   "id": "0b7d450e",
   "metadata": {
    "slideshow": {
     "slide_type": "-"
    }
   },
   "source": [
    "* **Modules** - single file with group of functionalities\n",
    "* **Packages** - group of Modules"
   ]
  },
  {
   "cell_type": "code",
   "execution_count": null,
   "id": "56dc9598",
   "metadata": {
    "slideshow": {
     "slide_type": "-"
    }
   },
   "outputs": [],
   "source": [
    "import mdlName as mdlAlias"
   ]
  },
  {
   "cell_type": "markdown",
   "id": "f7f5471e",
   "metadata": {
    "slideshow": {
     "slide_type": "subslide"
    }
   },
   "source": [
    "### Readability\n",
    "\n",
    "<div class=\"alert alert-block alert-info\"> Readability of the code is <b>mandatory</b>, avoid Spaghetti Code! </div>\n",
    "\n",
    "Python has the _Python Enhancement Proposal_ ([**PEP20**](https://peps.python.org/pep-0020/)) rules for _\"beautiful coding\"_\n",
    "\n",
    "1. Beautiful is better than ugly\n",
    "2. Explicit is better than implicit\n",
    "3. Simple is better than complex\n",
    "4. ...\n",
    "\n",
    "And there exists different **Style Guidelines**, for example\n",
    "\n",
    "* `PEP08`: https://peps.python.org/pep-0008/"
   ]
  },
  {
   "cell_type": "markdown",
   "id": "bb5171c6",
   "metadata": {
    "slideshow": {
     "slide_type": "slide"
    }
   },
   "source": [
    "## Basics"
   ]
  },
  {
   "cell_type": "markdown",
   "id": "9b1377eb",
   "metadata": {
    "slideshow": {
     "slide_type": "subslide"
    }
   },
   "source": [
    "## Variables\n",
    "\n",
    "<div class=\"alert alert-block alert-warning\"><b>NOTE</b>: In Python all the variables are <b>pointers</b> without a fixed type. </div>\n",
    "\n",
    "<img src=\"Images/variables.png\" width=30% style=\"margin-left:auto; margin-right:auto\">"
   ]
  },
  {
   "cell_type": "code",
   "execution_count": null,
   "id": "f9dd27de",
   "metadata": {
    "scrolled": true,
    "slideshow": {
     "slide_type": "-"
    }
   },
   "outputs": [],
   "source": [
    "x = None # point to nothing\n",
    "print(\"Type\", type(x), \"Value\", x)\n",
    "x = 10 # point to int variable\n",
    "print(\"Type\", type(x), \"Value\", x)\n",
    "x = 13.2 # point to double variable\n",
    "print(\"Type\", type(x), \"Value\", x)\n",
    "x = 'a string' # point to string variable\n",
    "print(\"Type\", type(x), \"Value\", x)\n",
    "x = [1, 2, 3] # point to an array\n",
    "print(\"Type\", type(x), \"Value\", x)"
   ]
  },
  {
   "cell_type": "markdown",
   "id": "b085c6af",
   "metadata": {
    "slideshow": {
     "slide_type": "subslide"
    }
   },
   "source": [
    "## Garbage collector\n",
    "\n",
    "Automatic memory management with the Garbage Collector (**GC**).\n",
    "\n",
    "\n",
    "<img src=\"Images/gc.png\" width=30% style=\"margin-left:auto; margin-right:auto\">\n",
    "\n",
    "<div class=\"alert alert-block alert-warning\"><b>NOTE</b>: Two variables can refers to the <b>same memory location</b>. </div>"
   ]
  },
  {
   "cell_type": "markdown",
   "id": "3f848819",
   "metadata": {
    "slideshow": {
     "slide_type": "subslide"
    }
   },
   "source": [
    "### Blocks\n",
    "\n",
    "The Block is the **basic unit** of the code"
   ]
  },
  {
   "cell_type": "code",
   "execution_count": null,
   "id": "1ca18861",
   "metadata": {
    "slideshow": {
     "slide_type": "-"
    }
   },
   "outputs": [],
   "source": [
    "# Block identified by identation\n",
    "y: int = 0;\n",
    "def ABlock():\n",
    "    x: int = 0;\n",
    "    # Here x exists\n",
    "    \n",
    "# Here x does not exists\n",
    "# Here y exists\n",
    "print(y)\n",
    "print(x)"
   ]
  },
  {
   "cell_type": "markdown",
   "id": "c6052747",
   "metadata": {
    "slideshow": {
     "slide_type": "-"
    }
   },
   "source": [
    "<div class=\"alert alert-block alert-info\"> <b>GARBAGE COLLECTOR</b>: All the variables declared in a block are automatically deleted at the end of the block. </div>"
   ]
  },
  {
   "cell_type": "markdown",
   "id": "5350021f",
   "metadata": {
    "slideshow": {
     "slide_type": "subslide"
    }
   },
   "source": [
    "## Basic Conditionals\n",
    "\n",
    "Syntax for basic conditionals `if`, `else`, `elif`.\n",
    "\n",
    "* Boolean operators `and`, `or`, `!`\n",
    "\n",
    "<div class=\"alert alert-block alert-danger\"><b>REMARK:</b> Pay attention to indentation (<b>blocks</b>) and colon <code>:</code>. </div>"
   ]
  },
  {
   "cell_type": "code",
   "execution_count": null,
   "id": "b3029c77",
   "metadata": {
    "slideshow": {
     "slide_type": "-"
    }
   },
   "outputs": [],
   "source": [
    "petType = \"fish\"\n",
    "\n",
    "if petType == \"dog\" or petType == \"Dog\":\n",
    "    print(\"You have a dog.\")\n",
    "elif petType == \"fish\" and petType != \"hamster\":\n",
    "    print(\"You have a fish\")\n",
    "else:\n",
    "    print(\"Not sure!\")"
   ]
  },
  {
   "cell_type": "markdown",
   "id": "4f295269",
   "metadata": {
    "slideshow": {
     "slide_type": "subslide"
    }
   },
   "source": [
    "### The switch case\n",
    "\n",
    "<div class=\"alert alert-block alert-warning\"> Before <b>Python 3.10</b> the switch-case operator did not exist. </div>\n",
    "\n",
    "**Switch** operator is the `match` operator"
   ]
  },
  {
   "cell_type": "code",
   "execution_count": null,
   "id": "d2353be4",
   "metadata": {
    "slideshow": {
     "slide_type": "-"
    }
   },
   "outputs": [],
   "source": [
    "lang = input(\"What's the programming language you want to learn? \")\n",
    "\n",
    "match lang:\n",
    "    case \"JavaScript\":\n",
    "        print(\"You can become a web developer.\")\n",
    "    case \"Python\" | \"python\":\n",
    "        print(\"You can become a Data Scientist\")\n",
    "    case \"PHP\":\n",
    "        print(\"You can become a backend developer\")\n",
    "    case \"Solidity\":\n",
    "        print(\"You can become a Blockchain developer\")\n",
    "    case item if item in [\"Java\", \"java\"]:\n",
    "        print(\"You can become a mobile app developer\")\n",
    "    case _:\n",
    "        print(\"The language doesn't matter, what matters is solving problems.\")"
   ]
  },
  {
   "cell_type": "markdown",
   "id": "9f316b7a",
   "metadata": {
    "slideshow": {
     "slide_type": "subslide"
    }
   },
   "source": [
    "## Loops - while, for\n",
    "\n",
    "Syntax for loops `while`, `for`.\n",
    "\n",
    "<div class=\"alert alert-block alert-danger\"><b>REMARK:</b> Pay attention to indentation (<b>blocks</b>) and colon <code>:</code>. </div>"
   ]
  },
  {
   "cell_type": "code",
   "execution_count": null,
   "id": "42c28c37",
   "metadata": {
    "slideshow": {
     "slide_type": "-"
    }
   },
   "outputs": [],
   "source": [
    "i = 1\n",
    "while i < 6:\n",
    "    if i % 2 == 0:\n",
    "        i += 1\n",
    "        continue\n",
    "    print(i)\n",
    "    if i == 3:\n",
    "        break\n",
    "    i += 1\n",
    "    \n",
    "for i in range(1,6):\n",
    "    if i % 2 == 0:\n",
    "        continue\n",
    "    print(i)\n",
    "    if i == 3:\n",
    "        break"
   ]
  },
  {
   "cell_type": "markdown",
   "id": "79bc1dd4",
   "metadata": {
    "slideshow": {
     "slide_type": "subslide"
    }
   },
   "source": [
    "## Functions\n",
    "\n",
    "Syntax for basic `functions`:"
   ]
  },
  {
   "cell_type": "code",
   "execution_count": null,
   "id": "51de63b9",
   "metadata": {
    "slideshow": {
     "slide_type": "-"
    }
   },
   "outputs": [],
   "source": [
    "# void function - Declaration and Implementation\n",
    "def printTest():\n",
    "    print(\"print test\")\n",
    "\n",
    "# argument function - Declaration and Implementation\n",
    "def sumAndDiff(a = 0, b = 0):\n",
    "    return (a + b), (a - b)\n",
    "\n",
    "# main\n",
    "if __name__ == '__main__':\n",
    "    printTest()\n",
    "    [s, d] = sumAndDiff(1, 3)\n",
    "    print(\"Sum:\", s, \"Diff:\", d)"
   ]
  },
  {
   "cell_type": "markdown",
   "id": "a6664735",
   "metadata": {
    "slideshow": {
     "slide_type": "subslide"
    }
   },
   "source": [
    "Function **arguments** can be:\n",
    "\n",
    "* **Immutable**: copy of original variable\n",
    "* **Mutable**: the original variable\n",
    "\n",
    "<div class=\"alert alert-block alert-warning\"><b>REMARK</b>: you cannot choose if an argument is mutable or not. It depends from the variable type. Example: <code>int</code> is Immutable </div>"
   ]
  },
  {
   "cell_type": "code",
   "execution_count": null,
   "id": "9fd1d108",
   "metadata": {
    "slideshow": {
     "slide_type": "subslide"
    }
   },
   "outputs": [],
   "source": [
    "def sumABC(a, b, c):\n",
    "    b = a + c\n",
    "    print(type(a))\n",
    "    match a:\n",
    "        case int():\n",
    "            a = 300\n",
    "        case float():\n",
    "            a = 258.55\n",
    "        case str():\n",
    "            a = \"HELLO\"\n",
    "        case list():\n",
    "            a[0] = 1528\n",
    "        case _:\n",
    "            raise Exception(\"Not implemented yet\")\n",
    "\n",
    "if __name__ == '__main__':\n",
    "    a = 10\n",
    "    b = 0\n",
    "    sumABC(a, b, 1)\n",
    "    print(\"a:\", a, \"b:\", b) # b is not 11!\n",
    "    \n",
    "    a = 10.2\n",
    "    b = 0.0\n",
    "    sumABC(a, b, 1.2)\n",
    "    print(\"a:\", a, \"b:\", b) # b is not 11.4!\n",
    "    \n",
    "    a = \"a\"\n",
    "    b = \"\"\n",
    "    sumABC(a, b, \"c\")\n",
    "    print(\"a:\", a, \"b:\", b) # b is not \"ac\"!\n",
    "    \n",
    "    a = [1,2]\n",
    "    b = []\n",
    "    sumABC(a, b, [3])\n",
    "    print(\"a:\", a, \"b:\", b) # b is not [1,2,3]!"
   ]
  },
  {
   "cell_type": "markdown",
   "id": "554c3b80",
   "metadata": {
    "slideshow": {
     "slide_type": "subslide"
    }
   },
   "source": [
    "## Generic Types\n",
    "\n",
    "Python works with **generic types**\n",
    "\n",
    "<div class=\"alert alert-block alert-info\"> <b>DUCK TYPING</b>: ”If it walks like a duck and it quacks like a duck, then <b>it must</b> be a duck”. </div>"
   ]
  },
  {
   "cell_type": "code",
   "execution_count": null,
   "id": "66e375d0",
   "metadata": {
    "slideshow": {
     "slide_type": "-"
    }
   },
   "outputs": [],
   "source": [
    "def maxFunc(a, b):\n",
    "    return a if a > b else b\n",
    "\n",
    "def maxFuncType(a, b, required_type):\n",
    "    return \"ERROR\" if (required_type is str) else required_type(maxFunc(a, b))\n",
    "\n",
    "if __name__ == '__main__':\n",
    "    print(maxFunc(10.2, 12.9)) # Output: 12.9\n",
    "    print(maxFuncType(10.2, 12.9, int)) # Output: 12\n",
    "    print(maxFunc(10, 12)) # Output: 12\n",
    "    print(maxFuncType(\"T1\", \"T2\", str)) # Output: ERROR"
   ]
  },
  {
   "cell_type": "markdown",
   "id": "1241305e",
   "metadata": {
    "slideshow": {
     "slide_type": "subslide"
    }
   },
   "source": [
    "## Casting Operators\n",
    "\n",
    "A **cast** is a special operator that forces one data type to be converted into another.\n",
    "\n",
    "<div class=\"alert alert-block alert-warning\"><b>REMARK</b>: Pay attention to the <b>rounding number</b> operations.</div>"
   ]
  },
  {
   "cell_type": "code",
   "execution_count": null,
   "id": "83046dc4",
   "metadata": {
    "slideshow": {
     "slide_type": "-"
    }
   },
   "outputs": [],
   "source": [
    "# Cast of numbers\n",
    "a: int = int(21.99399)\n",
    "b: int = int(10.20)\n",
    "# Cast to string\n",
    "c: str = str(21.99399)\n",
    "print(\"a:\", a, \"b:\", b, \"c:\", c)"
   ]
  },
  {
   "cell_type": "markdown",
   "id": "f64b7bc7",
   "metadata": {
    "slideshow": {
     "slide_type": "slide"
    }
   },
   "source": [
    "## Object Oriented"
   ]
  },
  {
   "cell_type": "markdown",
   "id": "ded5b271",
   "metadata": {
    "slideshow": {
     "slide_type": "subslide"
    }
   },
   "source": [
    "Object-Oriented programming (**OOP**) is based on the concept of **class** and **object**.\n",
    "\n",
    "* **Class** - the definition for \n",
    "    * **attributes** - the properties\n",
    "    * **methods** - the procedures\n",
    "* **Object** - instance of a class\n",
    "\n",
    "<img src=\"Images/class_object.png\" width=30% style=\"margin-left:auto; margin-right:auto\">"
   ]
  },
  {
   "cell_type": "code",
   "execution_count": null,
   "id": "51811d04",
   "metadata": {
    "slideshow": {
     "slide_type": "subslide"
    }
   },
   "outputs": [],
   "source": [
    "class Person:\n",
    "    \"\"\"\n",
    "    A class used to represent a Person\n",
    "    \n",
    "    Attributes\n",
    "    ----------\n",
    "    _name : str\n",
    "        the name of the person\n",
    "    _age : int\n",
    "        the age of the person\n",
    "    \"\"\"\n",
    "    \n",
    "    def __init__(self, name, age):\n",
    "        self._name = name # name attribute\n",
    "        self._age = age # age attribute\n",
    "        \n",
    "    def introduce_yourself(self): # method example\n",
    "        \"\"\"Prints the name and the age of the person\"\"\"\n",
    "        print(\"My name is\", self._name, \"and I am\", self._age)\n",
    "\n",
    "if __name__ == '__main__':\n",
    "    help(Person)\n",
    "    \n",
    "    p1 = Person(\"John\", 36)\n",
    "    p1.introduce_yourself()"
   ]
  },
  {
   "cell_type": "markdown",
   "id": "541a35bf",
   "metadata": {
    "slideshow": {
     "slide_type": "subslide"
    }
   },
   "source": [
    "## Constructor and Destructor\n",
    "\n",
    "* An object is always created using a method called **Constructor** `__init__`.\n",
    "* An object is always deleted using a method called **Destructor** `__del__`."
   ]
  },
  {
   "cell_type": "code",
   "execution_count": null,
   "id": "33ad2aeb",
   "metadata": {
    "slideshow": {
     "slide_type": "-"
    }
   },
   "outputs": [],
   "source": [
    "class Something:\n",
    "    def __init__(self):\n",
    "        print(\"Creating...\")\n",
    "    def __del__(self):\n",
    "        print(\"Removing...\")\n",
    "        \n",
    "if __name__ == \"__main__\":\n",
    "    test = Something()"
   ]
  },
  {
   "cell_type": "markdown",
   "id": "bb523368",
   "metadata": {
    "slideshow": {
     "slide_type": "slide"
    }
   },
   "source": [
    "## Linear Algebra - `numpy` and `scipy`"
   ]
  },
  {
   "cell_type": "markdown",
   "id": "0b2317d4",
   "metadata": {
    "slideshow": {
     "slide_type": "subslide"
    }
   },
   "source": [
    "[`NumPy`](https://numpy.org/) and [`SciPy`](https://scipy.org/) are Python libraries used for working with linear algebra (arrays, matrices, linear systems...).\n",
    "\n",
    "<div class=\"alert alert-block alert-success\"> <b>NOTE</b>: NumPy and SciPy are written partially in Python, but most of the parts that require fast computation are written in C or C++. </div>"
   ]
  },
  {
   "cell_type": "code",
   "execution_count": null,
   "id": "c8a7469c",
   "metadata": {
    "slideshow": {
     "slide_type": "-"
    }
   },
   "outputs": [],
   "source": [
    "import numpy as np\n",
    "import scipy as sp\n",
    "\n",
    "if __name__ == \"__main__\":\n",
    "    print(np.__version__)\n",
    "    print(sp.__version__)"
   ]
  },
  {
   "cell_type": "markdown",
   "id": "5b376414",
   "metadata": {
    "slideshow": {
     "slide_type": "subslide"
    }
   },
   "source": [
    "### Arrays\n",
    "\n",
    "The array class in `NumPy` is called `ndarray`.\n",
    "\n",
    "* The size of the array is given by the `shape` attribute.\n",
    "\n",
    "<div class=\"alert alert-block alert-warning\">It supports array of $n$-dimension, taken with attribute <code>ndim</code>.</div>\n",
    "\n",
    "The sparse array library in `SciPy` is called `sparse`\n",
    "\n",
    "<div class=\"alert alert-block alert-warning\">It supports different formats. Usually we use <code>csr_matrix</code> Compressed Sparse Row matrix.</div>"
   ]
  },
  {
   "cell_type": "code",
   "execution_count": null,
   "id": "fa946341",
   "metadata": {
    "slideshow": {
     "slide_type": "subslide"
    }
   },
   "outputs": [],
   "source": [
    "import numpy as np\n",
    "import scipy.sparse\n",
    "\n",
    "if __name__ == \"__main__\":\n",
    "    arr0D = np.array(42);\n",
    "    print(\"Array Dim:\", arr0D.ndim, \"size:\", arr0D.shape, \":\\n\", arr0D)\n",
    "    arr1D = np.array([1, 2, 3, 4, 5])\n",
    "    print(\"Array Dim:\", arr1D.ndim, \"size:\", arr1D.shape, \":\\n\", arr1D)\n",
    "    arr2D = np.array([[1, 2, 3, 4, 5],[1, 2, 3, 4, 5]])\n",
    "    print(\"Array Dim:\", arr2D.ndim, \"size:\", arr2D.shape, \":\\n\", arr2D)\n",
    "    arr5D = np.array([1, 2, 3, 4], ndmin=5)\n",
    "    print(\"Array D:\", arr5D.ndim, \"size:\", arr5D.shape, \":\\n\", arr5D)\n",
    "    \n",
    "    row_ind = np.array([0, 1, 1, 3, 4])\n",
    "    col_ind = np.array([0, 2, 4, 3, 4])\n",
    "    values = np.array([1, 2, 3, 4, 5], dtype=float)\n",
    "    S = scipy.sparse.csr_matrix((values, (row_ind, col_ind)))\n",
    "    print(\"S\\n\", S)\n",
    "    print(type(S))\n",
    "    "
   ]
  },
  {
   "cell_type": "markdown",
   "id": "c9a4aeb3",
   "metadata": {
    "slideshow": {
     "slide_type": "subslide"
    }
   },
   "source": [
    "## Array element access\n",
    "\n",
    "* Square brackets `[]` are used to access to array elements;\n",
    "* Colon symbol `:` is used to get more than one element.\n",
    "\n",
    "<div class=\"alert alert-block alert-info\"> <b>NOTE</b> The indices always starts from $0$. </div>"
   ]
  },
  {
   "cell_type": "code",
   "execution_count": null,
   "id": "d86d5b17",
   "metadata": {
    "slideshow": {
     "slide_type": "-"
    }
   },
   "outputs": [],
   "source": [
    "import numpy as np\n",
    "\n",
    "if __name__ == \"__main__\":\n",
    "    arr = np.array([[1,2,3,4,5], [6,7,8,9,10]])\n",
    "    print(\"matrix\\n\", arr)\n",
    "    print(\"5th element on 2nd row:\", arr[1, 4])\n",
    "    print(\"Last element:\", arr[1, -1])\n",
    "    print(\"Access to first two elements of second row:\",arr[1,0:2])\n",
    "    print(\"Access to last two elements of all the rows:\\n\",arr[:,3:])\n",
    "    print(\"Access to first 4 elements of all the rows:\\n\",arr[:,0:-1])\n",
    "    print(\"Access to even columns:\\n\",arr[:,0:6:2])"
   ]
  },
  {
   "cell_type": "markdown",
   "id": "fdc07fac",
   "metadata": {
    "slideshow": {
     "slide_type": "subslide"
    }
   },
   "source": [
    "## Copy vs View\n",
    "\n",
    "* The `copy` method is used to create a copy of the array to an other variable.\n",
    "* The `reshape` method is used to read the array into an other shape.\n",
    "\n",
    "<div class=\"alert alert-block alert-warning\"><b>REMEMBER</b>: In Python all the variables are <b>pointers</b>. </div>\n",
    "\n",
    "The `base` attribute gives you the original array. For the original array the property is empty."
   ]
  },
  {
   "cell_type": "code",
   "execution_count": null,
   "id": "b345418a",
   "metadata": {
    "slideshow": {
     "slide_type": "-"
    }
   },
   "outputs": [],
   "source": [
    "import numpy as np\n",
    "\n",
    "if __name__ == \"__main__\":\n",
    "    a = np.array([1, 2, 3, 4, 5, 6])\n",
    "    b = a\n",
    "    c = a.copy()\n",
    "    d = a.reshape(2, 3)\n",
    "    a[0] = 42\n",
    "\n",
    "    print(\"a:\", a, \"b\", b, \"c\", c)\n",
    "    print(\"a.base\", a.base, \"b.base\", b.base, \"d.base\", d.base, \"d\\n\", d)"
   ]
  },
  {
   "cell_type": "markdown",
   "id": "282ea9d0",
   "metadata": {
    "slideshow": {
     "slide_type": "subslide"
    }
   },
   "source": [
    "## Array iterations\n",
    "\n",
    "There are different way to iterate on an array"
   ]
  },
  {
   "cell_type": "code",
   "execution_count": null,
   "id": "edd64d7b",
   "metadata": {
    "slideshow": {
     "slide_type": "-"
    }
   },
   "outputs": [],
   "source": [
    "import numpy as np\n",
    "\n",
    "if __name__ == \"__main__\":\n",
    "    arr = np.array([[1, 2, 3], [4, 5, 6]])\n",
    "    \n",
    "    for x in arr: # iteration on rows\n",
    "        print(x)\n",
    "    \n",
    "    for x in arr: # iteration on each element\n",
    "        for y in x:\n",
    "            print(y)\n",
    "    \n",
    "    for x in np.nditer(arr): # iteration on each element\n",
    "        print(x)\n",
    "    \n",
    "    for idx, x in np.ndenumerate(arr): # iteration on each element with index\n",
    "        print(idx, x, arr[idx])"
   ]
  },
  {
   "cell_type": "markdown",
   "id": "780dd78e",
   "metadata": {
    "slideshow": {
     "slide_type": "subslide"
    }
   },
   "source": [
    "## Other array operations\n",
    "\n",
    "* `concatenate`: join togheter two arrays, also in different dimensions;\n",
    "* `hstack`, `vstack`, `dstack`: concatenation of arrays in different directions; \n",
    "* `array_split`: split and array in sub-arrays;\n",
    "* `hsplit`, `vsplit`, `dsplit`: the opposite of stack functions;\n",
    "* `where`: search elements in an array, returns the index and can be use for filtering\n",
    "* `sort`: sort an array"
   ]
  },
  {
   "cell_type": "code",
   "execution_count": null,
   "id": "d9e8e03d",
   "metadata": {
    "scrolled": true,
    "slideshow": {
     "slide_type": "subslide"
    }
   },
   "outputs": [],
   "source": [
    "import numpy as np\n",
    "\n",
    "if __name__ == \"__main__\":\n",
    "    arr1 = np.array([1, 2, 3])\n",
    "    arr2 = np.array([4, 5, 6])\n",
    "    print(\"concatenate -\", np.concatenate((arr1, arr2)))\n",
    "    print(\"hstack -\", np.hstack((arr1, arr2)))\n",
    "    print(\"vstack -\", np.vstack((arr1, arr2)))\n",
    "    print(\"dstack -\", np.dstack((arr1, arr2)))\n",
    "    \n",
    "    arr1 = np.array([[1, 2], [3, 4]])\n",
    "    arr2 = np.array([[5, 6], [7, 8]])\n",
    "    print(\"concatenate axis 0 -\", np.concatenate((arr1, arr2), axis=0))\n",
    "    print(\"concatenate axis 1 -\", np.concatenate((arr1, arr2), axis=1))\n",
    "    \n",
    "    arr = np.array([1, 2, 3, 4, 5, 6])\n",
    "    print(\"array_split -\", np.array_split(arr, 3))\n",
    "    arr = np.array([[1, 2, 3], [4, 5, 6], [7, 8, 9], [10, 11, 12], [13, 14, 15], [16, 17, 18]])\n",
    "    print(\"vsplit -\", np.vsplit(arr, 3))\n",
    "    \n",
    "    arr = np.array([1, 2, 3, 4, 5, 6, 7, 8])\n",
    "    print(\"where -\", np.where(arr % 2 == 1, True, False))\n",
    "    print(\"filter -\",arr[np.where(arr % 2 == 1, True, False)])\n",
    "    \n",
    "    arr = np.array([3, 2, 0, 1])\n",
    "    print(\"sort - \", np.sort(arr))"
   ]
  },
  {
   "cell_type": "markdown",
   "id": "44174614",
   "metadata": {
    "slideshow": {
     "slide_type": "subslide"
    }
   },
   "source": [
    "## Matrix operations\n",
    "\n",
    "* `rand`: generate random matrix\n",
    "* `transpose` or `T`: transpose of a matrix\n",
    "* `@`: matrix multiplication\n",
    "* `*`, `/`, `**`: element-wise multiplication, division and exponential\n",
    "* `zeros`, `ones`, `eye`, `diag`: create zero, all ones, identity and diagonal matrix"
   ]
  },
  {
   "cell_type": "code",
   "execution_count": null,
   "id": "1a0280bd",
   "metadata": {
    "scrolled": true,
    "slideshow": {
     "slide_type": "subslide"
    }
   },
   "outputs": [],
   "source": [
    "import numpy as np\n",
    "\n",
    "if __name__ == \"__main__\":\n",
    "    A =  np.trunc(np.random.rand(3, 3) * 10.0 + 1.0)\n",
    "    B =  np.trunc(np.random.rand(3, 3) * 10.0 + 1.0)\n",
    "    print(\"A\\n\", A, \"\\nB\\n\", B)\n",
    "    print(\"A.T\\n\", A.T, \"\\nB.transpose\\n\", B.transpose())\n",
    "    print(\"A @ B\\n\", A @ B, \"\\nA * B\\n\", A * B, \"\\nA / B\\n\", A / B, \"\\nA ** 2\\n\", A ** 2)\n",
    "    print(\"zeros\\n\", np.zeros((2, 2)), \"\\nones\\n\", np.ones((2, 2)), \"\\neye\\n\", np.eye(2))\n",
    "    print(\"diag 0\\n\", np.diag([1,2,3], 0), \"\\ndiag 1\\n\", np.diag([1,2,3], 1), \"\\ndiag -1\\n\", np.diag([1,2,3], -1))"
   ]
  },
  {
   "cell_type": "markdown",
   "id": "8759c189",
   "metadata": {
    "slideshow": {
     "slide_type": "subslide"
    }
   },
   "source": [
    "## Linear algebra\n",
    "\n",
    "* `np.linalg.norm`: norm of array and matrices\n",
    "* `np.linalg.inv`, `linalg.pinv`: inversion and pseudo-inversion of matrix\n",
    "* `np.linalg.matrix_rank`: rank of the matrix\n",
    "* `np.linalg.solve`, `linalg.lstsq`: solvers for square/rectangular linear system\n",
    "* `sp.linalg.lu`: PA = LU decomposition, returns `P,L,U` \n",
    "* `np.linalg.cholesky`: Cholesky decomposition, returns `L`\n",
    "* `np.linalg.qr`: QR decomposition, returns `[Q, R]`\n",
    "* `np.linalg.svd`: svd decomposition, returns `[U, S, Vh]`, with `V=Vh.T`\n",
    "* `np.linalg.eig`, `scipy.sparse.linalg.eigs`: eigenvalues and eigenvectors, returns `D,V`"
   ]
  },
  {
   "cell_type": "code",
   "execution_count": null,
   "id": "8f3e080d",
   "metadata": {
    "slideshow": {
     "slide_type": "subslide"
    }
   },
   "outputs": [],
   "source": [
    "import numpy as np\n",
    "import scipy.linalg\n",
    "import scipy.sparse.linalg\n",
    "\n",
    "if __name__ == \"__main__\":\n",
    "    B =  np.trunc(np.random.rand(3, 3) * 10.0 + 1.0)\n",
    "    A = B.T @ B\n",
    "    b = A.sum(axis=1)\n",
    "    print(\"A\\n\", A)\n",
    "    print(\"A.sum axis 0:\", b, \"A.sum axis 1:\", b)\n",
    "    print(\"l2 norm(b):\", np.linalg.norm(b), \"fro norm(A):\", np.linalg.norm(A))\n",
    "    print(\"inv(A)*A=I\\n\", np.linalg.inv(A) @ A)\n",
    "    print(\"rank(A)\", np.linalg.matrix_rank(A))\n",
    "    print(\"x = inv(A) * b =\", np.linalg.solve(A, b))\n",
    "    print(\"L,U,P\\n\", scipy.linalg.lu(A))\n",
    "    print(\"Cholesky factor\\n\", np.linalg.cholesky(A))\n",
    "    print(\"Q, R\\n\", np.linalg.qr(A))\n",
    "    print(\"U, S, Vh\\n\", np.linalg.svd(A))\n",
    "    print(\"D, V\\n\", np.linalg.eig(A))\n",
    "    print(\"D, V\\n\", scipy.sparse.linalg.eigs(A, k=1))"
   ]
  }
 ],
 "metadata": {
  "celltoolbar": "Slideshow",
  "kernelspec": {
   "display_name": "course_env",
   "language": "python",
   "name": "course_env"
  },
  "language_info": {
   "codemirror_mode": {
    "name": "ipython",
    "version": 3
   },
   "file_extension": ".py",
   "mimetype": "text/x-python",
   "name": "python",
   "nbconvert_exporter": "python",
   "pygments_lexer": "ipython3",
   "version": "3.10.9"
  }
 },
 "nbformat": 4,
 "nbformat_minor": 5
}
