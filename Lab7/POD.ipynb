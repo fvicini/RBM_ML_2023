{
  "cells": [
    {
      "cell_type": "markdown",
      "metadata": {
        "id": "2IGuNCbv2QpF"
      },
      "source": [
        "# **Proper Orthogonal Decomposition (POD)**\n",
        "This lab focuses on performing POD on the parametric system we saw together in the previous lab.\n",
        "\n",
        "Once again, we need _a lot_ of FOM simulations this time. Let us import ``gedim``!"
      ]
    },
    {
      "cell_type": "code",
      "execution_count": null,
      "metadata": {
        "id": "HOKm4Cpr0agg"
      },
      "outputs": [],
      "source": [
        "!git clone https://github.com/fvicini/CppToPython.git\n",
        "%cd CppToPython"
      ]
    },
    {
      "cell_type": "code",
      "execution_count": null,
      "metadata": {
        "id": "gVlYTB8mifCl"
      },
      "outputs": [],
      "source": [
        "!git submodule init\n",
        "!git submodule update"
      ]
    },
    {
      "cell_type": "code",
      "execution_count": null,
      "metadata": {
        "id": "Xezfpm75i_FG"
      },
      "outputs": [],
      "source": [
        "!mkdir -p externals\n",
        "%cd externals\n",
        "!cmake -DINSTALL_VTK=OFF -DINSTALL_LAPACK=OFF ../gedim/3rd_party_libraries\n",
        "!make -j4\n",
        "%cd .."
      ]
    },
    {
      "cell_type": "code",
      "execution_count": null,
      "metadata": {
        "id": "2LamP-IF1tLt"
      },
      "outputs": [],
      "source": [
        "!mkdir -p release\n",
        "%cd release \n",
        "!cmake -DCMAKE_PREFIX_PATH=\"/content/CppToPython/externals/Main_Install/eigen3;/content/CppToPython/externals/Main_Install/triangle;/content/CppToPython/externals/Main_Install/tetgen;/content/CppToPython/externals/Main_Install/googletest\" ../\n",
        "!make -j4 GeDiM4Py\n",
        "%cd .."
      ]
    },
    {
      "cell_type": "code",
      "execution_count": null,
      "metadata": {
        "id": "BeaV-lky4gkR"
      },
      "outputs": [],
      "source": [
        "import numpy as np\n",
        "import GeDiM4Py as gedim"
      ]
    },
    {
      "cell_type": "code",
      "execution_count": null,
      "metadata": {
        "id": "13zM04WMQ5hJ"
      },
      "outputs": [],
      "source": [
        "lib = gedim.ImportLibrary(\"./release/GeDiM4Py.so\")\n",
        "\n",
        "config = { 'GeometricTolerance': 1.0e-8 }\n",
        "gedim.Initialize(config, lib)"
      ]
    },
    {
      "cell_type": "markdown",
      "metadata": {
        "id": "Ubq1Ge_iQkak"
      },
      "source": [
        "## The parametric version of the heat conductivity equation\n",
        "\n",
        "Solve the following equation on square ${\\Omega} = (-1, +1) \\times (-1, +1)$\n",
        "\n",
        "$$\n",
        "\\begin{cases}\n",
        "\\nabla \\cdot (k_{\\mu} \\nabla u) = 0 & \\text{in } \\Omega\\\\\n",
        "k_{\\mu} \\nabla u \\cdot n_1 = \\mu_2 & \\text{in } \\Gamma_{base}\\\\\n",
        "u = 0 & \\text{in } \\Gamma_{top}\\\\\n",
        "k_{\\mu} \\nabla u \\cdot n_2 = 0 & \\text{otherwise} \n",
        "\\end{cases}\n",
        "$$\n",
        "\n",
        "where $k_{\\mu} = \\mu_1$ if $x^2 + y^2 \\leq R^2$ and $k = 1$ otherwise. \n",
        "The parametric space is $\\mathcal P = [0.1, 10] \\times [-1,1]$.\n",
        "\n",
        "<img src=\"https://drive.google.com/uc?id=1j98eKPtRy8IqsLMKkue2dINRy6yNS20j\"\n",
        " style=\"float:center;width:50px;height:50px;\" align=\"center\">\n",
        "\n",
        "\n",
        "The parameter $\\boldsymbol \\mu \\in \\mathcal P$ is physical and changes the features of the flow: \n",
        "\n",
        "1. $\\mu_1$ the conductivity in $\\Omega_1$;\n",
        "2. $\\mu_2$ describes the heat flux in the bottom part of the boundary.\n",
        "\n",
        "First thing: we define two subdomains $\\Omega_1$ and $\\Omega_2$, such that\n",
        "1. $\\Omega_1$ is a disk in the origin with radius $r_0=0.5$, and\n",
        "2. $\\Omega_2=\\Omega/\\ \\overline{\\Omega_1}$.\n",
        "3. $\\Gamma_{base}$ to define where we will change the heat flux.\n"
      ]
    },
    {
      "cell_type": "code",
      "execution_count": null,
      "metadata": {
        "id": "JOPeoKRlRNMo"
      },
      "outputs": [],
      "source": [
        "def Heat_R():\n",
        "\treturn 0.5\n",
        "\n",
        "\n",
        "def Omega1(numPoints, points):\n",
        "\tmatPoints = gedim.make_nd_matrix(points, (3, numPoints), np.double)\n",
        "\tvalues = np.ones(numPoints)\n",
        "\tfor p in range(0, numPoints):\n",
        "\t\tif (matPoints[0,p] * matPoints[0,p] + matPoints[1,p] * matPoints[1,p]) > (Heat_R() * Heat_R() + 1.0e-16):\n",
        "\t\t\tvalues[p] = 0.\n",
        "\treturn values.ctypes.data\n",
        "\n",
        "def Omega2(numPoints, points):\n",
        "\tmatPoints = gedim.make_nd_matrix(points, (3, numPoints), np.double)\n",
        "\tvalues = np.ones(numPoints)\n",
        "\tfor p in range(0, numPoints):\n",
        "\t\tif (matPoints[0,p] * matPoints[0,p] + matPoints[1,p] * matPoints[1,p]) <= (Heat_R() * Heat_R() + 1.0e-16):\n",
        "\t\t\tvalues[p] = 0. \n",
        "\treturn values.ctypes.data\n",
        "\n",
        "def Gamma_base(numPoints, points):\n",
        "\tvalues = np.ones(numPoints)\n",
        "\treturn values.ctypes.data\n",
        "\n",
        "##### needed for the inner product #####\n",
        "\n",
        "def Domain(numPoints, points):\n",
        "\tmatPoints = gedim.make_nd_matrix(points, (3, numPoints), np.double)\n",
        "\tvalues = np.ones(numPoints)\n",
        "\treturn values.ctypes.data\t"
      ]
    },
    {
      "cell_type": "markdown",
      "source": [
        "**Goal**: build the ROM space where many simulations for several parameters can be performed in a smaller amount of time. \n",
        "\n",
        "**Strategy**: $w(\\boldsymbol  \\mu)  \\xrightarrow[]{\\text{FOM} (\\dim = \\mathcal N)} w^{\\mathcal N}(\\boldsymbol \\mu)\n",
        "\\xrightarrow[\\lvert \\lvert {w(\\boldsymbol \\mu) - w^\\mathcal{N}(\\boldsymbol  \\mu)\\rvert \\rvert } \\rightarrow 0]{\\text{ROM } (\\dim N)} w_N(\\boldsymbol  \\mu)$.\n",
        "\n",
        "The goal can be reached by means of several techniques. \n",
        "\n",
        "Today we will focus on POD.\n",
        "\n",
        "POD is an _explore_ and _compress_ algorithm based on two different stages:\n",
        "1. we _explore_ the information related to the solution varying with respect to $\\boldsymbol \\mu$ (_snapshots_) in a finite dimensional set $\\mathcal P_{train} \\subset \\mathcal P$.\n",
        "2. We compress the redundant information and retain only the most significant \"linear directions\", building a linear subspace $\\mathbb V_N \\subset \\mathbb V^{\\mathcal N}$ of dimension $N \\ll \\mathcal N$.\n",
        "\n",
        "Building the space and store the $\\boldsymbol \\mu-$independent quantities is the so called _offline phase_ (possibly costly).\n",
        "\n",
        "Once the space is built, a fast _online phase_ occurs, where I can compute **many solutions in real-time**.\n",
        "\n",
        "How is it possible? By means of the affine decomposition! Indeed we know that our system can be written as\n",
        "\n",
        "$$\n",
        "\\sum_{i=1}^{q_a} \\theta_i^a(\\boldsymbol \\mu)a_i(u,v) = \\sum_{i=0}^{q_f} \\theta_i^f(\\boldsymbol \\mu)f_i(v),\n",
        "$$\n",
        "\n",
        "i.e., algebraic-wise\n",
        "\n",
        "$$\n",
        "\\sum_{i=1}^{q_a} \\theta_i^a(\\boldsymbol \\mu)\\mathsf A_i = \\sum_{i=0}^{q_f} \\theta_i^f(\\boldsymbol \\mu)\\mathsf f_i,\n",
        "$$\n",
        "where $\\mathsf A_i$ and $\\mathsf f_i$ are the assembled matrices and vectors of the system.\n",
        "\n",
        "Now, let us imagine to have already built the reduced space and have collected the basis functions $\\xi_{i} \\in \\mathbb R^{\\mathcal N}$ for $i \\in \\{1, \\dots, N \\}$ ($\\mathbb V_N = \\text{span}\\{\\xi_i\\}_{i=1}^{N} $) in a basis matrix \n",
        "$$\n",
        "\\mathbb B = [\\xi_1 \\cdots \\xi_N] \\in \\mathbb R^{\\mathcal N \\times N}.\n",
        "$$ \n",
        "\n",
        "It is clear that we can recast the problem in the low-dimensional framework we built, we can pre-and-post multiply the FOM matrices for the basis matrix we have:\n",
        "\n",
        "$$\n",
        "\\mathsf A_i^N = \\mathbb B^T\\mathsf A_i\\mathbb B \\quad \\text{ and } \\quad  \\mathbb B^T\\mathsf f_i.  \n",
        "$$\n",
        "\n",
        "**Here is where the offline phase ends!!**\n",
        "\n",
        "**Question time!**: where did it start?\n"
      ],
      "metadata": {
        "id": "dO3ClVNFJl0Y"
      }
    },
    {
      "cell_type": "markdown",
      "metadata": {
        "id": "q9JEfUdDRH5W"
      },
      "source": [
        "**Let us code the OFFLINE PHASE**"
      ]
    },
    {
      "cell_type": "code",
      "execution_count": null,
      "metadata": {
        "id": "nfzHSAXORH5X"
      },
      "outputs": [],
      "source": [
        "### order of the discretization ###\n",
        "order = 1"
      ]
    },
    {
      "cell_type": "code",
      "execution_count": null,
      "metadata": {
        "id": "uZXNw6gDlHZt"
      },
      "outputs": [],
      "source": [
        "%%writefile ImportMesh.csv\n",
        "InputFolderPath\n",
        "./Meshes/Mesh3"
      ]
    },
    {
      "cell_type": "code",
      "execution_count": null,
      "metadata": {
        "id": "gFrwWHkGRTcM"
      },
      "outputs": [],
      "source": [
        "[meshInfo, mesh] = gedim.ImportDomainMesh2D(lib)"
      ]
    },
    {
      "cell_type": "code",
      "execution_count": null,
      "metadata": {
        "id": "FifaSs5tRWLp"
      },
      "outputs": [],
      "source": [
        "gedim.PlotMesh(mesh)"
      ]
    },
    {
      "cell_type": "markdown",
      "metadata": {
        "id": "ZFLs55ZIRjRw"
      },
      "source": [
        "### FEM space (the High Fidelity approximation)"
      ]
    },
    {
      "cell_type": "code",
      "execution_count": null,
      "metadata": {
        "id": "vtVL7IqnRlra"
      },
      "outputs": [],
      "source": [
        "discreteSpace = { 'Order': order, 'Type': 1, 'BoundaryConditionsType': [1, 3, 3, 2] }\n",
        "[problemData, dofs, strongs] = gedim.Discretize(discreteSpace, lib)"
      ]
    },
    {
      "cell_type": "code",
      "execution_count": null,
      "metadata": {
        "id": "tNKv663YRvMJ"
      },
      "outputs": [],
      "source": [
        "gedim.PlotDofs(mesh, dofs, strongs)"
      ]
    },
    {
      "cell_type": "markdown",
      "metadata": {
        "id": "9-GPibkUR0yD"
      },
      "source": [
        "### Assemble linear system exploting affinity\n",
        "We define everything that is parameter independent, i.e.\n",
        "$a_1(u,v)$, $a_2(u,v)$ and $f(v)$.\n",
        "We need also the matrix related to the scalar product of the problem at hand.\n"
      ]
    },
    {
      "cell_type": "code",
      "execution_count": null,
      "metadata": {
        "id": "g7XmYDOGR1m4"
      },
      "outputs": [],
      "source": [
        "\n",
        "[stiffness1, stiffnessStrong1] = gedim.AssembleStiffnessMatrix(Omega2, problemData, lib)\n",
        "[stiffness2, stiffnessStrong2] = gedim.AssembleStiffnessMatrix(Omega1, problemData, lib)\n",
        "\t\n",
        "weakTerm_down1 = gedim.AssembleWeakTerm(Gamma_base, 1, problemData, lib)\n",
        "\n",
        "#### inner product  \n",
        "# ||u||^2 + ||grad(u)||^2\n",
        "\n",
        "# [reaction, reactionStrong] = gedim.AssembleReactionMatrix(Domain, problemData, lib)\n",
        "\n",
        "inner_product = stiffness1 + stiffness2  ######## semi-norm (equivalent)\n",
        "\n",
        "\n",
        "\n"
      ]
    },
    {
      "cell_type": "markdown",
      "source": [
        "We here define the finite parametric space $\\mathcal P_{train}$, with random uniform distributed realization of $\\boldsymbol \\mu$.\n",
        "The cardinality of $\\mathcal P_{train}$ is set to 100 and we call it $M$."
      ],
      "metadata": {
        "id": "9lmJ6XjuZGI8"
      }
    },
    {
      "cell_type": "code",
      "execution_count": null,
      "metadata": {
        "id": "I2dzS4-3dZm2"
      },
      "outputs": [],
      "source": [
        "### define the training set\n",
        "\n",
        "snapshot_num = 100 # (M)\n",
        "mu1_range = [0.1, 10.]\n",
        "mu2_range = [-1., 1.]\n",
        "P = np.array([mu1_range, mu2_range])\n",
        "\n",
        "training_set = np.random.uniform(low=P[:, 0], high=P[:, 1], size=(snapshot_num, P.shape[0]))\n"
      ]
    },
    {
      "cell_type": "markdown",
      "source": [
        "We now need to define the _snapshot matrix_. The snapshot matrix is $\\mathbb U \\in \\mathbb R^{{M} \\times {\\mathcal N}}$ \n",
        "\n",
        "(is it the dimension on the book?)"
      ],
      "metadata": {
        "id": "qxhstATIaEjU"
      }
    },
    {
      "cell_type": "code",
      "execution_count": null,
      "metadata": {
        "id": "DJDt8TvQdW8Z"
      },
      "outputs": [],
      "source": [
        "#### snapshot matrix creation\n",
        "thetaA1 = 1.\n",
        "snapshot_matrix = []\n",
        "\n",
        "tol = 1. - 1e-7  \n",
        "N_max = 10\n",
        "\n",
        "for mu in training_set:\n",
        "  thetaA2 = mu[0]\n",
        "  thetaf1 = mu[1]\n",
        "\n",
        "  stiffness = thetaA1*stiffness1 + thetaA2*stiffness2\n",
        "  weakTerm_down = thetaf1*weakTerm_down1\n",
        "  \n",
        "  snapshot = gedim.LUSolver(stiffness, weakTerm_down, lib)\n",
        "  \n",
        "  snapshot_matrix.append(np.copy(snapshot))\n",
        "\n",
        "snapshot_matrix = np.array(snapshot_matrix) \n",
        "\n",
        "print(snapshot_matrix.shape)\n",
        "\n",
        "  "
      ]
    },
    {
      "cell_type": "markdown",
      "source": [
        "**It's time for the POD**\n",
        "\n",
        "To build the $N-$dimesional framework we need, we define the correlation snapshot matrix $\\mathbf C \\in \\mathbb R^{M \\times M}$ and we solve the eigenvalue problem\n",
        "$\n",
        "    \\mathbf C \\omega_n = \\lambda_n \\omega_n\n",
        "$ for $ 1 \\leq n \\leq M,$ with $\\lvert \\lvert {\\omega_n}\\rvert \\rvert_{\\mathbb V} = 1$. \n",
        "Due to the definition of correlation matrix, we can order the all-positive eigenvalues as $\\lambda_1 >\\dots > \\lambda_{M}> 0$ and retain the first $N$ eigenpairs $(\\lambda_n, \\omega_n)$ for $1 \\leq n \\leq N$. \n",
        "\n",
        "**Question Time**: how can I choose $M$ and $N$?\n",
        "\n",
        "Looking at the eigenvalues! \n",
        "Indeed, defining as  $P_N: \\mathbb V \\rightarrow \\mathbb V_N$ the projector from $\\mathbb V$ onto $ {\\mathbb V}_N$, the following relation holds:\n",
        "\\begin{equation}\n",
        "    \\sqrt{\\frac{1}{M}\n",
        "    \\sum_{i = 1}^{M}  \\lvert \\lvert {u^{\\mathcal N}(\\boldsymbol{\\mu}_{i}) - P_N(u^{\\mathcal N}(\\boldsymbol{\\mu}_i)\\rvert \\rvert }_{\\mathbb V}^2} = \\sqrt{\n",
        "    \\sum_{i = N + 1}^{M}\\lambda_m.}\n",
        "\\end{equation}\n",
        "Namely, a fast decay of the eigenvalue magnitude guaratees a good representation of the high-fidelity solution with a few basis functions."
      ],
      "metadata": {
        "id": "QaK4VnzVcdBy"
      }
    },
    {
      "cell_type": "code",
      "execution_count": null,
      "metadata": {
        "id": "1VxLRw6TgNM9"
      },
      "outputs": [],
      "source": [
        "### covariance matrix\n",
        "\n",
        "C = snapshot_matrix @ inner_product @ np.transpose(snapshot_matrix) \n",
        "\n",
        "###### shape?? ############\n",
        "\n",
        "#### ALTERNATIVE:  VM, L, VMt = np.linalg.svd((C))\n",
        "\n",
        "L_e, VM_e = np.linalg.eig(C)\n",
        "eigenvalues = []\n",
        "eigenvectors = []\n",
        "\n",
        "\n",
        "#### check\n",
        "\n",
        "\n",
        "for i in range(len(L_e)):\n",
        "  eig_real = L_e[i].real\n",
        "  eig_complex = L_e[i].imag\n",
        "  assert np.isclose(eig_complex, 0.)\n",
        "  eigenvalues.append(eig_real)\n",
        "  eigenvectors.append(VM_e[i].real)\n",
        "\n",
        "\n",
        "total_energy = sum(eigenvalues)\n",
        "retained_energy_vector = np.cumsum(eigenvalues)\n",
        "relative_retained_energy = retained_energy_vector/total_energy\n",
        "\n",
        "\n",
        "if all(flag==False for flag in relative_retained_energy>= tol):\n",
        "  N = N_max\n",
        "else:\n",
        "  N = np.argmax(relative_retained_energy >= tol) + 1\n",
        "\n",
        "print(\"The reduced dimension is\", N)\n",
        "\n"
      ]
    },
    {
      "cell_type": "markdown",
      "source": [
        "We still need to create the basis matrix $\\mathbb B$. There are many ways to build the bases.\n",
        "We propose the following one to guarantee more stability:\n",
        "$$    \n",
        "\\chi_n =  \\sum_{m = 1}^{M} (\\omega_n)_m u^{\\mathcal N}(\\boldsymbol{\\mu}_m),  \\quad \\quad 1 \\leq n \\leq N,\n",
        "$$\n",
        "\n",
        "and $\\displaystyle \\xi_n = \\frac{\\chi_n}{\\lvert \\lvert \\chi_n \\rvert \\rvert }_{\\mathbb V}$."
      ],
      "metadata": {
        "id": "QLgHs0h9in74"
      }
    },
    {
      "cell_type": "code",
      "execution_count": null,
      "metadata": {
        "id": "Jwa2PNh57RW7"
      },
      "outputs": [],
      "source": [
        "# Create the basis function matrix\n",
        "basis_functions = []\n",
        "for n in range(N):\n",
        "  eigenvector =  eigenvectors[n]\n",
        "  \n",
        "  # basis = (1/np.sqrt(snapshot_num))*np.transpose(snapshot_matrix)@eigenvector  (This is the one of the book!!)\n",
        "  \n",
        "  basis = np.transpose(snapshot_matrix)@eigenvector\n",
        "  norm = np.sqrt(np.transpose(basis) @ inner_product @ basis) \n",
        "  \n",
        "  basis /= norm\n",
        "  basis_functions.append(np.copy(basis))\n",
        "\n",
        "basis_functions = np.transpose(np.array(basis_functions))\n"
      ]
    },
    {
      "cell_type": "markdown",
      "source": [
        "The offline stage ends once the **reduced operators** are built, i.e. $\\mathsf A_1^{N}$, $\\mathsf A_2^{N}$ and $\\mathsf f_1^{N}$ thanks to the basis matrix projections."
      ],
      "metadata": {
        "id": "ymoTBrT0kgCi"
      }
    },
    {
      "cell_type": "code",
      "execution_count": null,
      "metadata": {
        "id": "WOYumQbDGCLA"
      },
      "outputs": [],
      "source": [
        "########## ASSEMBLE THE LINEAR SYSTEM ##### STILL OFFLINE\n",
        "reduced_stiff1 = np.transpose(basis_functions) @ stiffness1 @ basis_functions\n",
        "reduced_stiff2 = np.transpose(basis_functions) @ stiffness2 @ basis_functions\n",
        "reduced_f =  np.transpose(basis_functions) @ weakTerm_down1\n",
        "\n",
        "### shape? ##### "
      ]
    },
    {
      "cell_type": "markdown",
      "metadata": {
        "id": "TcVTiQGqR-oz"
      },
      "source": [
        "### **Online Phase: a new parameter!** ###\n",
        "In the _online phase_ we can use all the pre-assembled quantities to generate a new solution for a new parameter. \n",
        "\n"
      ]
    },
    {
      "cell_type": "code",
      "execution_count": null,
      "metadata": {
        "id": "DfINEnRbR_31"
      },
      "outputs": [],
      "source": [
        "thetaA2 = 2.\n",
        "thetaf1 = 0.8"
      ]
    },
    {
      "cell_type": "code",
      "source": [
        "reduced_rhs = thetaA1*reduced_stiff1 + thetaA2*reduced_stiff2\n",
        "reduced_lhs = thetaf1*reduced_f"
      ],
      "metadata": {
        "id": "ClnjLeqCmIJv"
      },
      "execution_count": null,
      "outputs": []
    },
    {
      "cell_type": "code",
      "execution_count": null,
      "metadata": {
        "id": "jVY6EPrPSU5G"
      },
      "outputs": [],
      "source": [
        "##### solve ######### \n",
        "\n",
        "reduced_solution = np.linalg.solve(reduced_rhs, reduced_lhs)\n",
        "print(reduced_solution)"
      ]
    },
    {
      "cell_type": "code",
      "execution_count": null,
      "metadata": {
        "id": "JdIlITaWSkRW"
      },
      "outputs": [],
      "source": [
        "###### plot #######\n",
        "proj_reduced_solution = basis_functions @ reduced_solution\n",
        "\n",
        "gedim.PlotSolution(mesh, dofs, strongs, proj_reduced_solution, np.zeros(problemData['NumberStrongs']))\n",
        "\n",
        "stiffness = thetaA1*stiffness1 + thetaA2*stiffness2\n",
        "weakTerm_down = thetaf1*weakTerm_down1\n",
        "  \n",
        "full_solution = gedim.LUSolver(stiffness, weakTerm_down, lib)\n",
        "\n"
      ]
    },
    {
      "cell_type": "code",
      "execution_count": null,
      "metadata": {
        "id": "W6Qajo4RSDLC"
      },
      "outputs": [],
      "source": [
        "gedim.PlotSolution(mesh, dofs, strongs, full_solution, np.zeros(problemData['NumberStrongs']))"
      ]
    },
    {
      "cell_type": "markdown",
      "source": [
        "We can now compute an error analysis over the parametric space, together with a _speed-up_ anaslysis.\n",
        "\n",
        "The speed-up is an index that evaluated how many ROM solution I can obtain in the time of a FOM simulation."
      ],
      "metadata": {
        "id": "wol_tgKRmOyw"
      }
    },
    {
      "cell_type": "code",
      "execution_count": null,
      "metadata": {
        "id": "Hw3uJvR-o4fD"
      },
      "outputs": [],
      "source": [
        "### compute error\n",
        "import time\n",
        "\n",
        "abs_err = []\n",
        "rel_err = []\n",
        "testing_set = np.random.uniform(low=P[:, 0], high=P[:, 1], size=(100, P.shape[0]))\n",
        "speed_up = []\n",
        "\n",
        "print(\"Computing error and speedup analysis\")\n",
        "\n",
        "for mu in testing_set:\n",
        "  \n",
        "  thetaA2 = mu[0]\n",
        "  thetaf1 = mu[1]\n",
        "\n",
        "  ##### full #####\n",
        "  stiffness = thetaA1*stiffness1 + thetaA2*stiffness2\n",
        "  weakTerm_down = thetaf1*weakTerm_down1\n",
        "  \n",
        "  start_fom = time.time()\n",
        "  full_solution = gedim.LUSolver(stiffness, weakTerm_down, lib)\n",
        "  time_fom = time.time() - start_fom\n",
        "\n",
        "  #### reduced #####\n",
        "\n",
        "  reduced_rhs = thetaA1*reduced_stiff1 + thetaA2*reduced_stiff2\n",
        "  reduced_lhs = thetaf1*reduced_f\n",
        "  \n",
        "  start_rom = time.time()\n",
        "  reduced_solution = np.linalg.solve(reduced_rhs, reduced_lhs)\n",
        "  time_rom = time.time() - start_rom\n",
        "  \n",
        "  speed_up.append(time_fom/time_rom)\n",
        "  \n",
        "  proj_reduced_solution = basis_functions@reduced_solution\n",
        "\n",
        "  ### computing error\n",
        "\n",
        "  error_function = full_solution - proj_reduced_solution\n",
        "  error_norm_squared_component = np.transpose(error_function) @ inner_product @ error_function\n",
        "  absolute_error = np.sqrt(abs(error_norm_squared_component))\n",
        "  abs_err.append(absolute_error)\n",
        "  \n",
        "  full_solution_norm_squared_component = np.transpose(full_solution) @  inner_product @ full_solution\n",
        "  relative_error = absolute_error/np.sqrt(abs(full_solution_norm_squared_component))\n",
        "  rel_err.append(relative_error)\n",
        "  \n"
      ]
    },
    {
      "cell_type": "code",
      "source": [
        "print(\"avarege relative error = \", np.mean(rel_err) )\n",
        "print(\"avarege absolute error = \", np.mean(abs_err) )\n",
        "print(\"avarege speed_up = \", np.mean(speed_up) )"
      ],
      "metadata": {
        "id": "oxQFFzPdt7nE"
      },
      "execution_count": null,
      "outputs": []
    },
    {
      "cell_type": "markdown",
      "source": [
        "**Exercise**: solve the same problem but with $u = 3$ on $\\Gamma_{top}$."
      ],
      "metadata": {
        "id": "Cw7WhfLRn8Ql"
      }
    }
  ],
  "metadata": {
    "colab": {
      "provenance": []
    },
    "kernelspec": {
      "display_name": "Python 3 (ipykernel)",
      "language": "python",
      "name": "python3"
    },
    "language_info": {
      "codemirror_mode": {
        "name": "ipython",
        "version": 3
      },
      "file_extension": ".py",
      "mimetype": "text/x-python",
      "name": "python",
      "nbconvert_exporter": "python",
      "pygments_lexer": "ipython3",
      "version": "3.10.9"
    }
  },
  "nbformat": 4,
  "nbformat_minor": 0
}