{
  "cells": [
    {
      "cell_type": "markdown",
      "metadata": {
        "id": "2IGuNCbv2QpF"
      },
      "source": [
        "# Python and C++ extension\n",
        "\n",
        "## Cloning the repository"
      ]
    },
    {
      "cell_type": "code",
      "execution_count": null,
      "metadata": {
        "id": "HOKm4Cpr0agg"
      },
      "outputs": [],
      "source": [
        "!git clone https://github.com/fvicini/CppToPython.git\n",
        "%cd CppToPython"
      ]
    },
    {
      "cell_type": "code",
      "source": [
        "!git submodule init\n",
        "!git submodule update"
      ],
      "metadata": {
        "id": "gVlYTB8mifCl"
      },
      "execution_count": null,
      "outputs": []
    },
    {
      "cell_type": "markdown",
      "source": [
        "## Compiling the externals"
      ],
      "metadata": {
        "id": "ks5NxTO4jAi3"
      }
    },
    {
      "cell_type": "code",
      "source": [
        "!mkdir -p externals\n",
        "%cd externals\n",
        "!cmake -DINSTALL_VTK=OFF -DINSTALL_LAPACK=OFF ../gedim/3rd_party_libraries\n",
        "!make -j4\n",
        "%cd .."
      ],
      "metadata": {
        "id": "Xezfpm75i_FG"
      },
      "execution_count": null,
      "outputs": []
    },
    {
      "cell_type": "markdown",
      "metadata": {
        "id": "GcTldbCB2Xm5"
      },
      "source": [
        "## Compiling the C++ library"
      ]
    },
    {
      "cell_type": "code",
      "execution_count": null,
      "metadata": {
        "id": "2LamP-IF1tLt"
      },
      "outputs": [],
      "source": [
        "!mkdir -p release\n",
        "%cd release \n",
        "!cmake -DCMAKE_PREFIX_PATH=\"/content/CppToPython/externals/Main_Install/eigen3;/content/CppToPython/externals/Main_Install/triangle;/content/CppToPython/externals/Main_Install/tetgen;/content/CppToPython/externals/Main_Install/googletest\" ../\n",
        "!make -j4 GeDiM4Py\n",
        "%cd .."
      ]
    },
    {
      "cell_type": "markdown",
      "metadata": {
        "id": "0Q9vfbd_4dV6"
      },
      "source": [
        "## Importing library"
      ]
    },
    {
      "cell_type": "code",
      "execution_count": null,
      "metadata": {
        "id": "BeaV-lky4gkR"
      },
      "outputs": [],
      "source": [
        "import numpy as np\n",
        "import GeDiM4Py as gedim"
      ]
    },
    {
      "cell_type": "markdown",
      "source": [
        "### Initialize"
      ],
      "metadata": {
        "id": "nuDFWAA8Q0b7"
      }
    },
    {
      "cell_type": "code",
      "source": [
        "lib = gedim.ImportLibrary(\"./release/GeDiM4Py.so\")\n",
        "\n",
        "config = { 'GeometricTolerance': 1.0e-8 }\n",
        "gedim.Initialize(config, lib)"
      ],
      "metadata": {
        "id": "13zM04WMQ5hJ"
      },
      "execution_count": null,
      "outputs": []
    },
    {
      "cell_type": "markdown",
      "source": [
        "## Poisson Equation\n",
        "\n",
        "Solving the following equation on square $\\bar{\\Omega} = [0, 1] \\times [0, 1]$\n",
        "\n",
        "$$\n",
        "\\begin{cases}\n",
        "\\nabla \\cdot (a \\nabla u) + b \\cdot \\nabla u + c u = f & \\text{in } \\Omega\\\\\n",
        "a \\nabla u \\cdot n_1 = g_1 & \\text{in } \\Gamma_{left}\\\\\n",
        "a \\nabla u \\cdot n_2 = g_2 & \\text{in } \\Gamma_{right}\\\\\n",
        "u = 0 & \\text{otherwise}\n",
        "\\end{cases}\n",
        "$$\n",
        "\n",
        "where $u = xy(1-x)(1-y)$."
      ],
      "metadata": {
        "id": "Zng9sfOKQtVo"
      }
    },
    {
      "cell_type": "code",
      "source": [
        "def Poisson_A():\n",
        "\treturn 10.0\n",
        "def Poisson_B():\n",
        "\treturn 0.1\n",
        "def Poisson_C():\n",
        "\treturn 2.0\n",
        "\n",
        "def Poisson_a(numPoints, points):\n",
        "\tvalues = np.ones(numPoints) * Poisson_A()\n",
        "\treturn values.ctypes.data\n",
        "\n",
        "def Poisson_b(numPoints, points):\n",
        "\tvalues = np.ones((2, numPoints)) * Poisson_B()\n",
        "\treturn values.ctypes.data\n",
        "\n",
        "def Poisson_c(numPoints, points):\n",
        "\tvalues = np.ones(numPoints) * Poisson_C()\n",
        "\treturn values.ctypes.data\n",
        "\n",
        "def Poisson_f(numPoints, points):\n",
        "\tmatPoints = gedim.make_nd_matrix(points, (3, numPoints), np.double)\n",
        "\tvalues = Poisson_A() * 32.0 * (matPoints[1,:] * (1.0 - matPoints[1,:]) + matPoints[0,:] * (1.0 - matPoints[0,:])) + \\\n",
        "\tPoisson_B() * 16.0 * (1.0 - 2.0 * matPoints[0,:]) * matPoints[1,:] * (1.0 - matPoints[1,:]) + \\\n",
        "\tPoisson_B() * 16.0 * (1.0 - 2.0 * matPoints[1,:]) * matPoints[0,:] * (1.0 - matPoints[0,:]) + \\\n",
        "\tPoisson_C() * 16.0 * (matPoints[1,:] * (1.0 - matPoints[1,:]) * matPoints[0,:] * (1.0 - matPoints[0,:])) + Poisson_C() * 1.1\n",
        "\treturn values.ctypes.data\n",
        "\n",
        "def Poisson_exactSolution(numPoints, points):\n",
        "\tmatPoints = gedim.make_nd_matrix(points, (3, numPoints), np.double)\n",
        "\tvalues = 16.0 * (matPoints[1,:] * (1.0 - matPoints[1,:]) * matPoints[0,:] * (1.0 - matPoints[0,:])) + 1.1\n",
        "\treturn values.ctypes.data\n",
        "\n",
        "def Poisson_exactDerivativeSolution(direction, numPoints, points):\n",
        "\tmatPoints = gedim.make_nd_matrix(points, (3, numPoints), np.double)\n",
        "\n",
        "\tif direction == 0:\n",
        "\t\tvalues = 16.0 * (1.0 - 2.0 * matPoints[0,:]) * matPoints[1,:] * (1.0 - matPoints[1,:])\n",
        "\telif direction == 1:\n",
        "\t\tvalues = 16.0 * (1.0 - 2.0 * matPoints[1,:]) * matPoints[0,:] * (1.0 - matPoints[0,:])\n",
        "\telse:\n",
        "\t\tvalues = np.zeros(numPoints)\n",
        "\n",
        "\treturn values.ctypes.data\n",
        "\n",
        "def Poisson_strongTerm(numPoints, points):\n",
        "\tmatPoints = gedim.make_nd_matrix(points, (3, numPoints), np.double)\n",
        "\tvalues = 16.0 * (matPoints[1,:] * (1.0 - matPoints[1,:]) * matPoints[0,:] * (1.0 - matPoints[0,:])) + 1.1\n",
        "\treturn values.ctypes.data\n",
        "\n",
        "def Poisson_weakTerm_right(numPoints, points):\n",
        "\tmatPoints = gedim.make_nd_matrix(points, (3, numPoints), np.double)\n",
        "\tvalues = Poisson_A() * 16.0 * (1.0 - 2.0 * matPoints[0,:]) * matPoints[1,:] * (1.0 - matPoints[1,:])\n",
        "\treturn values.ctypes.data\n",
        "\t\n",
        "def Poisson_weakTerm_left(numPoints, points):\n",
        "\tmatPoints = gedim.make_nd_matrix(points, (3, numPoints), np.double)\n",
        "\tvalues = - Poisson_A() * 16.0 * (1.0 - 2.0 * matPoints[0,:]) * matPoints[1,:] * (1.0 - matPoints[1,:])\n",
        "\treturn values.ctypes.data"
      ],
      "metadata": {
        "id": "H7O49sEqW1Bk"
      },
      "execution_count": null,
      "outputs": []
    },
    {
      "cell_type": "markdown",
      "source": [
        "### Define Simulation Parameters"
      ],
      "metadata": {
        "id": "ib0pPAik4x8g"
      }
    },
    {
      "cell_type": "code",
      "source": [
        "meshSize = 0.1\n",
        "order = 1"
      ],
      "metadata": {
        "id": "2ok6VkTC40OC"
      },
      "execution_count": null,
      "outputs": []
    },
    {
      "cell_type": "markdown",
      "source": [
        "### Create Mesh"
      ],
      "metadata": {
        "id": "kHoPAf81YZUb"
      }
    },
    {
      "cell_type": "code",
      "source": [
        "domain = { 'SquareEdge': 1.0, 'VerticesBoundaryCondition': [1,1,1,1], 'EdgesBoundaryCondition': [1,2,1,3], 'DiscretizationType': 1, 'MeshCellsMaximumArea': meshSize }\n",
        "[meshInfo, mesh] = gedim.CreateDomainSquare(domain, lib)"
      ],
      "metadata": {
        "id": "tX7A7k4tYW43"
      },
      "execution_count": null,
      "outputs": []
    },
    {
      "cell_type": "code",
      "source": [
        "gedim.PlotMesh(mesh)"
      ],
      "metadata": {
        "id": "bNiO0Un-38om"
      },
      "execution_count": null,
      "outputs": []
    },
    {
      "cell_type": "markdown",
      "source": [
        "### Create Discrete Space FEM"
      ],
      "metadata": {
        "id": "jHQjoya_ZsAf"
      }
    },
    {
      "cell_type": "code",
      "source": [
        "discreteSpace = { 'Order': order, 'Type': 1, 'BoundaryConditionsType': [1, 2, 3, 3] }\n",
        "[problemData, dofs, strongs] = gedim.Discretize(discreteSpace, lib)"
      ],
      "metadata": {
        "id": "HzQr59tqZTvN"
      },
      "execution_count": null,
      "outputs": []
    },
    {
      "cell_type": "code",
      "source": [
        "gedim.PlotDofs(mesh, dofs, strongs)"
      ],
      "metadata": {
        "id": "SrsZqj6o4D_k"
      },
      "execution_count": null,
      "outputs": []
    },
    {
      "cell_type": "markdown",
      "source": [
        "### Assemble linear system"
      ],
      "metadata": {
        "id": "Xqp_ZBhOZoqD"
      }
    },
    {
      "cell_type": "code",
      "execution_count": null,
      "metadata": {
        "id": "k8kxI9HE4oIm"
      },
      "outputs": [],
      "source": [
        "[stiffness, stiffnessStrong] = gedim.AssembleStiffnessMatrix(Poisson_a, problemData, lib)\n",
        "\n",
        "[advection, advectionStrong] = gedim.AssembleAdvectionMatrix(Poisson_b, problemData, lib)\n",
        "\n",
        "[reaction, reactionStrong] = gedim.AssembleReactionMatrix(Poisson_c, problemData, lib)\n",
        "\n",
        "forcingTerm = gedim.AssembleForcingTerm(Poisson_f, problemData, lib)\n",
        "\n",
        "solutionStrong = gedim.AssembleStrongSolution(Poisson_strongTerm, 1, problemData, lib)\n",
        "\n",
        "weakTerm_right = gedim.AssembleWeakTerm(Poisson_weakTerm_right, 2, problemData, lib)\n",
        "weakTerm_left = gedim.AssembleWeakTerm(Poisson_weakTerm_left, 3, problemData, lib)"
      ]
    },
    {
      "cell_type": "markdown",
      "source": [
        "### Solve linear system"
      ],
      "metadata": {
        "id": "ueyGr8b2ZxAk"
      }
    },
    {
      "cell_type": "code",
      "source": [
        "solution = gedim.LUSolver(stiffness + advection + reaction, \\\n",
        "    forcingTerm - \\\n",
        "    (stiffnessStrong + advectionStrong + reactionStrong) @ solutionStrong + \\\n",
        "    weakTerm_right + \\\n",
        "    weakTerm_left, lib)"
      ],
      "metadata": {
        "id": "ntDW-FKIZuU3"
      },
      "execution_count": null,
      "outputs": []
    },
    {
      "cell_type": "code",
      "source": [
        "gedim.PlotSolution(mesh, dofs, strongs, solution, solutionStrong)"
      ],
      "metadata": {
        "id": "gXeJV2jo4Gnt"
      },
      "execution_count": null,
      "outputs": []
    },
    {
      "cell_type": "markdown",
      "source": [
        "### Compute errors"
      ],
      "metadata": {
        "id": "Bk3wRkfXZ17s"
      }
    },
    {
      "cell_type": "code",
      "source": [
        "errorL2 = gedim.ComputeErrorL2(Poisson_exactSolution, solution, solutionStrong, lib)\n",
        "\n",
        "errorH1 = gedim.ComputeErrorH1(Poisson_exactDerivativeSolution, solution, solutionStrong, lib)\n",
        "\n",
        "print(\"dofs\", \"h\", \"errorL2\", \"errorH1\")\n",
        "print(problemData['NumberDOFs'], '{:.16e}'.format(problemData['H']), '{:.16e}'.format(errorL2), '{:.16e}'.format(errorH1))"
      ],
      "metadata": {
        "id": "k-nq8FPSZ0O0"
      },
      "execution_count": null,
      "outputs": []
    },
    {
      "cell_type": "markdown",
      "source": [
        "## Heat Conductivity Equation\n",
        "\n",
        "Solving the following equation on square $\\bar{\\Omega} = [-1, +1] \\times [-1, +1]$\n",
        "\n",
        "$$\n",
        "\\begin{cases}\n",
        "\\nabla \\cdot (k \\nabla u) = 0 & \\text{in } \\Omega\\\\\n",
        "k \\nabla u \\cdot n_1 = g & \\text{in } \\Gamma_{down}\\\\\n",
        "u = 0 & \\text{in } \\Gamma_{up}\\\\\n",
        "k \\nabla u \\cdot n_2 = 0 & \\text{otherwise} \n",
        "\\end{cases}\n",
        "$$\n",
        "\n",
        "where $k = k_1$ if $x^2 + y^2 \\leq R^2$ and $k = 1$ otherwise. "
      ],
      "metadata": {
        "id": "Ubq1Ge_iQkak"
      }
    },
    {
      "cell_type": "code",
      "source": [
        "def Heat_R():\n",
        "\treturn 0.5\n",
        "def Heat_K():\n",
        "\treturn 6.68\n",
        "def Heat_G():\n",
        "\treturn 0.94\n",
        "\n",
        "def Heat_k(numPoints, points):\n",
        "\tmatPoints = gedim.make_nd_matrix(points, (3, numPoints), np.double)\n",
        "\tvalues = np.ones(numPoints)\n",
        "\tfor p in range(0, numPoints):\n",
        "\t\tif (matPoints[0,p] * matPoints[0,p] + matPoints[1,p] * matPoints[1,p]) <= (Heat_R() * Heat_R() + 1.0e-16):\n",
        "\t\t\tvalues[p] = Heat_K()\n",
        "\treturn values.ctypes.data\n",
        "\n",
        "def Heat_weakTerm_down(numPoints, points):\n",
        "\tvalues = np.ones(numPoints) * Heat_G()\n",
        "\treturn values.ctypes.data"
      ],
      "metadata": {
        "id": "JOPeoKRlRNMo"
      },
      "execution_count": null,
      "outputs": []
    },
    {
      "cell_type": "markdown",
      "source": [
        "### Define Simulation Parameters"
      ],
      "metadata": {
        "id": "q9JEfUdDRH5W"
      }
    },
    {
      "cell_type": "code",
      "source": [
        "order = 2"
      ],
      "metadata": {
        "id": "nfzHSAXORH5X"
      },
      "execution_count": null,
      "outputs": []
    },
    {
      "cell_type": "markdown",
      "source": [
        "### Import Mesh"
      ],
      "metadata": {
        "id": "CsFEtqOyRSEo"
      }
    },
    {
      "cell_type": "code",
      "source": [
        "[meshInfo, mesh] = gedim.ImportDomainMesh2D(lib)"
      ],
      "metadata": {
        "id": "gFrwWHkGRTcM"
      },
      "execution_count": null,
      "outputs": []
    },
    {
      "cell_type": "code",
      "source": [
        "gedim.PlotMesh(mesh)"
      ],
      "metadata": {
        "id": "FifaSs5tRWLp"
      },
      "execution_count": null,
      "outputs": []
    },
    {
      "cell_type": "markdown",
      "source": [
        "### Create Discrete Space FEM"
      ],
      "metadata": {
        "id": "ZFLs55ZIRjRw"
      }
    },
    {
      "cell_type": "code",
      "source": [
        "discreteSpace = { 'Order': order, 'Type': 1, 'BoundaryConditionsType': [1, 3, 3, 2] }\n",
        "[problemData, dofs, strongs] = gedim.Discretize(discreteSpace, lib)"
      ],
      "metadata": {
        "id": "vtVL7IqnRlra"
      },
      "execution_count": null,
      "outputs": []
    },
    {
      "cell_type": "code",
      "source": [
        "gedim.PlotDofs(mesh, dofs, strongs)"
      ],
      "metadata": {
        "id": "tNKv663YRvMJ"
      },
      "execution_count": null,
      "outputs": []
    },
    {
      "cell_type": "markdown",
      "source": [
        "### Assemble linear system"
      ],
      "metadata": {
        "id": "9-GPibkUR0yD"
      }
    },
    {
      "cell_type": "code",
      "source": [
        "[stiffness, stiffnessStrong] = gedim.AssembleStiffnessMatrix(Heat_k, problemData, lib)\n",
        "\t\n",
        "weakTerm_down = gedim.AssembleWeakTerm(Heat_weakTerm_down, 1, problemData, lib)"
      ],
      "metadata": {
        "id": "g7XmYDOGR1m4"
      },
      "execution_count": null,
      "outputs": []
    },
    {
      "cell_type": "markdown",
      "source": [
        "### Solve linear system"
      ],
      "metadata": {
        "id": "TcVTiQGqR-oz"
      }
    },
    {
      "cell_type": "code",
      "source": [
        "solution = gedim.LUSolver(stiffness, weakTerm_down, lib)"
      ],
      "metadata": {
        "id": "DfINEnRbR_31"
      },
      "execution_count": null,
      "outputs": []
    },
    {
      "cell_type": "code",
      "source": [
        "gedim.PlotSolution(mesh, dofs, strongs, solution, np.zeros(problemData['NumberStrongs']))"
      ],
      "metadata": {
        "id": "W6Qajo4RSDLC"
      },
      "execution_count": null,
      "outputs": []
    }
  ],
  "metadata": {
    "colab": {
      "provenance": []
    },
    "kernelspec": {
      "display_name": "Python 3 (ipykernel)",
      "language": "python",
      "name": "python3"
    },
    "language_info": {
      "codemirror_mode": {
        "name": "ipython",
        "version": 3
      },
      "file_extension": ".py",
      "mimetype": "text/x-python",
      "name": "python",
      "nbconvert_exporter": "python",
      "pygments_lexer": "ipython3",
      "version": "3.10.9"
    }
  },
  "nbformat": 4,
  "nbformat_minor": 0
}
