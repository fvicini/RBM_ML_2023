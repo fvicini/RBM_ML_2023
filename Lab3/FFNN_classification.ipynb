{
  "nbformat": 4,
  "nbformat_minor": 0,
  "metadata": {
    "kernelspec": {
      "display_name": "Python 3",
      "language": "python",
      "name": "python3"
    },
    "language_info": {
      "codemirror_mode": {
        "name": "ipython",
        "version": 3
      },
      "file_extension": ".py",
      "mimetype": "text/x-python",
      "name": "python",
      "nbconvert_exporter": "python",
      "pygments_lexer": "ipython3",
      "version": "3.8.3"
    },
    "toc-autonumbering": false,
    "colab": {
      "provenance": []
    },
    "accelerator": "GPU"
  },
  "cells": [
    {
      "cell_type": "markdown",
      "metadata": {
        "id": "GRVWuqK7Z73K"
      },
      "source": [
        "# **First (serious) training of a Neural Network!**\n",
        "\n",
        "**Disclaimer**: large parts of the lab are taken from [Deep Learning with PyTorch: A 60 Minute Blitz](https://pytorch.org/tutorials/beginner/deep_learning_60min_blitz.html) by [Soumith Chintala](http://soumith.ch/) and lectures material of [Sebastian Goldt](https://datascience.sissa.it/research-unit/12/theory-of-neural-networks)."
      ]
    },
    {
      "cell_type": "code",
      "metadata": {
        "jupyter": {
          "outputs_hidden": false
        },
        "id": "8ycIXU1yZ73O"
      },
      "source": [
        "### Some starting stuff ####\n",
        "\n",
        "%matplotlib inline\n",
        "\n",
        "import numpy as np\n",
        "\n",
        "import torch\n",
        "import torch.nn as nn\n",
        "from torchvision import datasets, transforms\n",
        "\n",
        "import matplotlib as mpl\n",
        "import matplotlib.pyplot as plt\n",
        "\n",
        "plt.rc(\"font\", **{\"size\": 12})\n",
        "plt.rc(\"lines\", linewidth=2.0)\n",
        "mpl.rcParams['lines.markersize'] = 12\n",
        "mpl.rcParams['lines.markeredgewidth'] = 2"
      ],
      "execution_count": null,
      "outputs": []
    },
    {
      "cell_type": "markdown",
      "metadata": {
        "id": "m-GEKbWYZ73Q"
      },
      "source": [
        "# **Definition of Neural Networks by means of ``PyTorch``**\n",
        "\n",
        "The ``torch.nn`` package is used to define and train a Neural Network (model definition). The package depends on ``autograd`` that performs the differentiation.\n",
        "\n",
        "A Neural Network is defined as ``nn.Module`` and its main features are: \n",
        "* the layers, \n",
        "* the ``forward`` method that process the ``input`` to predict an ``output``.\n",
        "\n",
        "The main passages of the training procedure are:\n",
        "\n",
        "- The definition of the neural network and of its learnable parameters (\n",
        "  weights, bias, regulatirations)\n",
        "- Perform a prediction over some ``inputs`` by means of a law (weighted layers and activation functions)\n",
        "- evaluate the loss (i.e. a measure to understand the distance between the prediction and the ``output``)\n",
        "- use back propagation on the trainable paramters parameters\n",
        "- update the trainable parameters (gradient descent-based startegies).\n",
        "\n",
        "\n"
      ]
    },
    {
      "cell_type": "markdown",
      "source": [
        "**Let us define the Network**"
      ],
      "metadata": {
        "id": "rKNuEqgRsbLd"
      }
    },
    {
      "cell_type": "code",
      "metadata": {
        "jupyter": {
          "outputs_hidden": false
        },
        "id": "Oic085YeZ73R"
      },
      "source": [
        "import torch\n",
        "import torch.nn as nn\n",
        "import torch.nn.functional as F\n",
        "\n",
        "\n",
        "class Net(nn.Module):\n",
        "\n",
        "    def __init__(self):\n",
        "        super(Net, self).__init__()\n",
        "        self.fc1 = nn.Linear(784, 100)   ### three layers (comment on bias)\n",
        "        self.fc2 = nn.Linear(100, 100)\n",
        "        self.fc3 = nn.Linear(100, 10)\n",
        "\n",
        "    def forward(self, x):  ### Forward law ----> prediction\n",
        "        x = F.relu(self.fc1(x))   \n",
        "        x = F.relu(self.fc2(x))\n",
        "        x = self.fc3(x)\n",
        "        return x\n",
        "\n",
        "\n",
        "\n",
        "net = Net()\n",
        "print(net)"
      ],
      "execution_count": null,
      "outputs": []
    },
    {
      "cell_type": "markdown",
      "metadata": {
        "id": "xhv5FqOaZ73R"
      },
      "source": [
        "Only the defintion of the function ``forward`` is needed, since the backward is directly defined for you by ``autograd``.\n",
        "The ``forward`` function is a law where all the Tensors operations are admitted.\n",
        "\n",
        "\n"
      ]
    },
    {
      "cell_type": "markdown",
      "source": [
        "Let us give a look to the parameters in ``net.parameters()``"
      ],
      "metadata": {
        "id": "YbDj9tFTtZji"
      }
    },
    {
      "cell_type": "code",
      "metadata": {
        "jupyter": {
          "outputs_hidden": false
        },
        "id": "Q06FYfr_Z73S"
      },
      "source": [
        "params = list(net.parameters())\n",
        "print(len(params))\n",
        "print(params[0].size())  # fc1 .weight\n",
        "print(params[1].size())\n",
        "print(params[2].size())\n",
        "print(params[3].size())\n",
        "print(params[4].size())\n",
        "print(params[5].size())"
      ],
      "execution_count": null,
      "outputs": []
    },
    {
      "cell_type": "markdown",
      "metadata": {
        "id": "saWATQuJZ73S"
      },
      "source": [
        "_**Question time!**_: why is the number of parameters 6? We have only three layers...\n",
        "\n",
        "_** Let give it a try**_: we define a random 28x28 = 784 ``input``.\n",
        "\n",
        "_**Question time!**_: why do we need a 28x28 = 784 ``input``?\n",
        "\n"
      ]
    },
    {
      "cell_type": "code",
      "metadata": {
        "jupyter": {
          "outputs_hidden": false
        },
        "id": "Bm1ZnqkCZ73T"
      },
      "source": [
        "input = torch.randn(1, 784)\n",
        "out = net(input)\n",
        "print(out)"
      ],
      "execution_count": null,
      "outputs": []
    },
    {
      "cell_type": "markdown",
      "metadata": {
        "id": "7lxA_32CZ73U"
      },
      "source": [
        "We now use the function ``zero_grad`` to set the gradient at zero. It is a good practise because for each mini-batch we want to forget the information about the gradient (otherwise it is accumulated).\n",
        "We now use back propagation over a random gradient.\n",
        "\n"
      ]
    },
    {
      "cell_type": "code",
      "metadata": {
        "jupyter": {
          "outputs_hidden": false
        },
        "id": "9O4-mcMLZ73U"
      },
      "source": [
        "net.zero_grad()\n",
        "out.backward(torch.randn(1, 10))"
      ],
      "execution_count": null,
      "outputs": []
    },
    {
      "cell_type": "markdown",
      "metadata": {
        "id": "9punpH24Z73U"
      },
      "source": [
        "**Be careful!** ``torch.nn`` is able to only work with batches (i.e. more than one ``input`` with some features). If you want to work with a single sample, use the command ``input.unsqueeze(0)`` to add a fake dimension related to the batch size.\n",
        "\n"
      ]
    },
    {
      "cell_type": "markdown",
      "source": [
        "**A brief recap: the features we are dealing with are...**  \n",
        "-  ``torch.Tensor``: the ``PyTorch`` _multi-dimensional array_ that supports ``autograd`` (and, thus, ``backward()`` operation). \n",
        "-  ``nn.Module``: it is the _definition of the Neural Network_ with information about parameters, layers and forward law.\n",
        "-  ``nn.Parameter``: a Tensor with all the parameters (the bias are present by default!) authonatically generated from the layers.\n",
        "\n",
        "**A brief recap: we...**\n",
        "* defined the net\n",
        "* postprocessed the input thanks to the forward law\n",
        "* have been able to compute gradients\n",
        "\n",
        "**There is something missing though!**\n",
        "* The loss,\n",
        "* the update of the parameters."
      ],
      "metadata": {
        "id": "XCalZl21LgmB"
      }
    },
    {
      "cell_type": "markdown",
      "source": [
        "# **The Loss**\n",
        "The loss is a function that evaluates how far the prediction is from the target (i.e. the _known output_ of the dataset). The ``Torch.nn`` has many losses, [give a look](https://pytorch.org/docs/nn.html#loss-functions)!\n",
        "The most common is the ``nn.MSELoss``, i.e. the mean-squared error\n",
        "between the prediction and the given data.\n"
      ],
      "metadata": {
        "id": "cQh0lTQXTOQd"
      }
    },
    {
      "cell_type": "code",
      "metadata": {
        "jupyter": {
          "outputs_hidden": false
        },
        "id": "z-dIPzvKZ73W"
      },
      "source": [
        "output = net(input)\n",
        "target = torch.randn(10)  # a dummy target, for example\n",
        "print(target.shape)\n",
        "target = target.view(1, 10)  # make it the same shape as output of the net, you can use target.view(1, -1) [equivalent]\n",
        "criterion = nn.MSELoss()\n",
        "\n",
        "loss = criterion(output, target)\n",
        "print(loss)"
      ],
      "execution_count": null,
      "outputs": []
    },
    {
      "cell_type": "markdown",
      "metadata": {
        "id": "kI6AdWRcZ73X"
      },
      "source": [
        "# **Backpropagation**\n",
        "\n",
        "To perform backpropagation on the loss we have to call ``loss.backward()``. But, as already said, first thing first: clear the existing gradients to avoid accumulating existing information.\n",
        "\n"
      ]
    },
    {
      "cell_type": "code",
      "metadata": {
        "jupyter": {
          "outputs_hidden": false
        },
        "id": "CWqAN90PZ73Y"
      },
      "source": [
        "net.zero_grad()     # zeroes the gradient\n",
        "print('fc1.bias.grad before backward')\n",
        "print(net.fc1.bias.grad)\n",
        "\n",
        "loss.backward()\n",
        "\n",
        "print('fc1.bias.grad after backward')\n",
        "print(net.fc1.bias.grad)"
      ],
      "execution_count": null,
      "outputs": []
    },
    {
      "cell_type": "markdown",
      "metadata": {
        "id": "Y09bOoe7Z73Y"
      },
      "source": [
        "# **The update**\n",
        "\n",
        "We have seen that the simplest way to update the parameters is the Stochastic Gradient Descent:\n",
        "\n",
        "     ``weight = weight - learning_rate * weight_gradient``\n",
        "     ``bias = bias - learning_rate * bias``\n",
        "\n",
        "\n",
        "We can implement it by hand as\n",
        "\n",
        "    learning_rate = 0.01\n",
        "    for p in net.parameters():\n",
        "        p.data.sub_(p.grad.data * learning_rate)\n",
        "\n",
        "However, there are many rules to update the parameters: SGD, Nesterov-SGD, Adam, RMSProp, etc.\n",
        "We can use the package ``torch.optim`` to choose them. The sintax is very simple:\n",
        "\n"
      ]
    },
    {
      "cell_type": "code",
      "metadata": {
        "jupyter": {
          "outputs_hidden": false
        },
        "id": "38bWLFxkZ73Z"
      },
      "source": [
        "import torch.optim as optim\n",
        "\n",
        "# create your optimizer\n",
        "optimizer = optim.SGD(net.parameters(), lr=0.01)\n",
        "\n",
        "# in your training loop:\n",
        "optimizer.zero_grad()   # zero the gradient\n",
        "output = net(input)\n",
        "loss = criterion(output, target)\n",
        "loss.backward()\n",
        "optimizer.step()    # Does the update"
      ],
      "execution_count": null,
      "outputs": []
    },
    {
      "cell_type": "markdown",
      "metadata": {
        "id": "hV8hKtwTZ73a"
      },
      "source": [
        "**That'a all folks!**\n"
      ]
    },
    {
      "cell_type": "markdown",
      "metadata": {
        "id": "hnWapNJvZ73a"
      },
      "source": [
        "# **Your Turn: train the MNIST dataset with Pytorch!** \n",
        "\n",
        "First of all, let us collect the data from the package ``torchvision``.\n",
        "Our goal is to train _an image classifier_. Given a hand-written digit, we want to associate a number.\n",
        "\n",
        "Please, follow these tasks:\n",
        "\n",
        "1. Load and normalize the training and test dataset (MNIST) using\n",
        "   ``torchvision`` and visualize them (together).\n",
        "2. Define the Neural Network ``Net()``.\n",
        "3. Define the loss function (give a look to ``nn.CrossEntropyLoss()``) and choose an optimizer.\n",
        "4. Train the Network on the training data.\n",
        "5. Test the Network on the test data (together).\n",
        "\n"
      ]
    },
    {
      "cell_type": "code",
      "metadata": {
        "jupyter": {
          "outputs_hidden": false
        },
        "id": "444T5PnMZ73b"
      },
      "source": [
        "import torch\n",
        "import torch.nn as nn\n",
        "from torchvision import datasets, transforms"
      ],
      "execution_count": null,
      "outputs": []
    },
    {
      "cell_type": "markdown",
      "metadata": {
        "id": "I8GB4hODZ73d"
      },
      "source": [
        "**Task 1**: In the following we load the data in the ``DataLoader`` that is a peculiar structure that allows many operations on the data in a _smarter way_. See the [documentation](https://pytorch.org/tutorials/beginner/basics/data_tutorial.html).\n",
        "\n",
        "**Dataset**: MNIST images. The MNIST dataset contains 28x28 grayscale images of handwritten digits from 0 to 9. The training set has 60,000 samples, the test set has 10,000 samples. The output is an interger label from 0 to 9.\n",
        "\n"
      ]
    },
    {
      "cell_type": "code",
      "source": [
        "\n",
        "transform = transforms.Compose([transforms.ToTensor()])\n",
        "\n",
        "mnist_trainset = datasets.MNIST(root='./data', train=True, download=True, transform=transform)\n",
        "train_loader = torch.utils.data.DataLoader(mnist_trainset, batch_size=10, shuffle=True)\n",
        "\n",
        "mnist_testset = datasets.MNIST(root='./data', train=False, download=True, transform=transform)\n",
        "test_loader = torch.utils.data.DataLoader(mnist_testset, batch_size=10, shuffle=True)"
      ],
      "metadata": {
        "id": "WCcR8LQdK49S"
      },
      "execution_count": null,
      "outputs": []
    },
    {
      "cell_type": "markdown",
      "metadata": {
        "id": "KsIOUUVTZ73c"
      },
      "source": [
        "Let us visualize some of the digits.\n",
        "\n"
      ]
    },
    {
      "cell_type": "code",
      "source": [
        "import matplotlib.pyplot as plt\n",
        "\n",
        "# get some random training images\n",
        "dataiter = iter(train_loader)\n",
        "images, labels = next(dataiter)\n",
        "\n",
        "\n",
        "fig = plt.figure()\n",
        "for i in range(3):\n",
        "  plt.subplot(1,3,i+1)\n",
        "  plt.tight_layout()\n",
        "  plt.imshow(images[i][0], cmap='gray', interpolation='none')\n",
        "  plt.title(\"Label: {}\".format(labels[i]))\n",
        "  plt.xticks([])\n",
        "  plt.yticks([])"
      ],
      "metadata": {
        "id": "IcfUR-GpMgiN"
      },
      "execution_count": null,
      "outputs": []
    },
    {
      "cell_type": "markdown",
      "source": [
        "**Task 2**: define and call ``Net()``, a fully connected feedforward Neural Network made from an input layer (_what is the dimension of the input?_), an hidden layer, and an output layer. The structure is [``input_dim``, 100, 50, ``output_dim``] (_what is the dimension of the output?_)\n",
        "Moreover, the internal neurons have feature a ``Tanh`` _activation function action_, while the output layer is subjected to ``ReLU``.\n",
        "\n",
        "**Be careful!**: a reshape of the input is needed!"
      ],
      "metadata": {
        "id": "a6nEOFcETkV2"
      }
    },
    {
      "cell_type": "code",
      "source": [
        "class Net(nn.Module):\n",
        "    def __init__(self):\n",
        "        super(Net,self).__init__()\n",
        "        ......\n",
        "        \n",
        "    def forward(self, img): #convert + flatten\n",
        "        .....\n",
        "        return x\n",
        "\n",
        "net = Net()"
      ],
      "metadata": {
        "id": "hbo223b9LB-o"
      },
      "execution_count": null,
      "outputs": []
    },
    {
      "cell_type": "markdown",
      "source": [
        "**Task 3 and 4**: define the loss (``nn.CrossEntropyLoss()``) and choose an optimizer (_Let us start with SGD?_). Fix the learning rate.\n",
        "When we work with mini-batches, we can iterate over the DataLoarder (6000 iterations for a mini-batch of dimention 10) for some epochs, say 3. Complete the following cell."
      ],
      "metadata": {
        "id": "jdCVWe7oa6BH"
      }
    },
    {
      "cell_type": "markdown",
      "source": [
        "_Can you trace the loss and plot it with respect to the number of iterations (different from epochs)_?"
      ],
      "metadata": {
        "id": "0XFbMyNafCm-"
      }
    },
    {
      "cell_type": "code",
      "source": [
        "my_loss = nn.CrossEntropyLoss()\n",
        "optimizer = torch.optim.SGD(net.parameters(), lr=0.01)\n",
        "epoch = 10\n",
        "i = 0\n",
        "\n",
        "#### Useful quantities ####\n",
        "\n",
        "train_losses = []\n",
        "\n",
        "\n",
        "for epoch in range(epoch):\n",
        "    net.train()\n",
        "\n",
        "    for data in train_loader:\n",
        "          i += 1\n",
        "          x, y = data\n",
        "          ### set zero grad\n",
        "          ## compute output\n",
        "          # compute the loss\n",
        "          .... #compute the gradients\n",
        "          .... # optimizer update\n",
        "          if i % 200 == 199:    # print every 2000 mini-batches\n",
        "              print('[%d, %5d] loss: %.3f' %\n",
        "                    (epoch + 1, i + 1, loss.item()))\n",
        "              running_loss = 0.0\n",
        "              train_losses.append(loss.item())\n",
        "    i = 0"
      ],
      "metadata": {
        "id": "tY8W55toLO8E"
      },
      "execution_count": null,
      "outputs": []
    },
    {
      "cell_type": "code",
      "source": [
        "fig = plt.figure()\n",
        "plt.semilogy(range(len(train_losses)), train_losses, color='magenta')\n",
        "plt.legend(['Train Loss'], loc='upper right')\n",
        "plt.xlabel('Number of training examples seen')\n",
        "plt.ylabel('Loss')\n"
      ],
      "metadata": {
        "id": "d53elrWQdaWj"
      },
      "execution_count": null,
      "outputs": []
    },
    {
      "cell_type": "markdown",
      "source": [
        "**Task 5**: let us check how accurate is the model and which classes perform better!"
      ],
      "metadata": {
        "id": "DqQJ4bEFoSb1"
      }
    },
    {
      "cell_type": "code",
      "source": [
        "correct = 0\n",
        "total = 0\n",
        "with torch.no_grad():\n",
        "    for data in test_loader:\n",
        "        x, y = data\n",
        "        output = net(x)\n",
        "        for idx, i in enumerate(output):\n",
        "            if torch.argmax(i) == y[idx]:  #### idx indicates which sample I am taking from the mini-batch. The Output is a a vector of floats, the biggest is the one with higher probability\n",
        "                correct +=1\n",
        "            total +=1\n",
        "\n",
        "print('Accuracy of the network on the 10000 test images: %d %%' % (\n",
        "    100 * correct / total))"
      ],
      "metadata": {
        "id": "o3iBfOfdQdEr"
      },
      "execution_count": null,
      "outputs": []
    },
    {
      "cell_type": "code",
      "source": [
        "plt.imshow(x[3].view(28, 28))\n",
        "plt.show()\n",
        "print(torch.argmax(net(x[3].view(-1, 784))[0]))"
      ],
      "metadata": {
        "id": "Ob7ru8GQRZyQ"
      },
      "execution_count": null,
      "outputs": []
    },
    {
      "cell_type": "code",
      "source": [
        "class_correct = list(0. for i in range(10))\n",
        "class_total = list(0. for i in range(10))\n",
        "classes = ('0', '1', '2', '3',\n",
        "           '4', '5', '6', '7', '8', '9')\n",
        "with torch.no_grad():\n",
        "    for data in test_loader:\n",
        "        images, labels = data\n",
        "        images = images.reshape(-1, 784)\n",
        "        outputs = net(images)\n",
        "        _, predicted = torch.max(outputs, 1)\n",
        "        c = (predicted == labels).squeeze()\n",
        "        for i in range(4):\n",
        "            label = labels[i]\n",
        "            class_correct[label] += c[i].item()\n",
        "            class_total[label] += 1\n",
        "\n",
        "\n",
        "for i in range(10):\n",
        "    print('Accuracy of %5s : %2d %%' % (\n",
        "        classes[i], 100 * class_correct[i] / class_total[i]))"
      ],
      "metadata": {
        "id": "eeXzpDxCmuIK"
      },
      "execution_count": null,
      "outputs": []
    }
  ]
}