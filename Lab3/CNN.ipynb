{
  "nbformat": 4,
  "nbformat_minor": 0,
  "metadata": {
    "colab": {
      "provenance": []
    },
    "kernelspec": {
      "name": "python3",
      "display_name": "Python 3"
    },
    "language_info": {
      "name": "python"
    }
  },
  "cells": [
    {
      "cell_type": "markdown",
      "source": [
        "# **Convolutional Neural Networks**\n",
        "\n",
        "**Disclaimer**: large parts of the lab are taken from [here](https://blog.paperspace.com/writing-cnns-from-scratch-in-pytorch/).\n",
        "\n",
        "\n",
        "**Definition**: convolutional neural networks (CNNs) are usually used for image recognition. A network is a convolutional network if it uses _convolution_ at least in one layer (the convolutional layer).\n",
        "\n",
        "<img src=\"https://drive.google.com/uc?id=1C4-xQW2aCzNt2BKVEKH-aNVxeoZNkCjK\"\n",
        " style=\"float:center;width:50px;height:50px;\" align=\"center\">\n",
        "\n",
        "\n"
      ],
      "metadata": {
        "id": "AJTl4XquQLgi"
      }
    },
    {
      "cell_type": "markdown",
      "source": [
        "**The convolutional layer**: the convolutional layer _extracts features_ (sharpen, blur...) from the pixels. It is a mathematical operation between the input image and the kernel (filter).  \n",
        "\n",
        "<img src=\"https://drive.google.com/uc?id=1iQeSoQvSAsWbvigpsafMSzVfw4G8_00m\"\n",
        " style=\"float:center;width:50px;height:50px;\" align=\"center\">\n",
        "\n",
        " [Credits](https://blog.paperspace.com/writing-cnns-from-scratch-in-pytorch/)\n",
        "\n",
        "\n"
      ],
      "metadata": {
        "id": "sgMHPb6bRl3Q"
      }
    },
    {
      "cell_type": "markdown",
      "source": [
        "**The pool layer**: pooling layers reduce the dimensionality of the previous layer, mantaining the most important features. Common choices are the max and the average value.\n",
        "\n",
        "<img src=\"https://drive.google.com/uc?id=1Lv0DkhlpSDbsGyze2qtmT53c-xQM969K\"\n",
        " style=\"float:center;width:50px;height:50px;\" align=\"center\">\n",
        "\n",
        "\n",
        " [Credits](https://www.researchgate.net/publication/333593451_Application_of_Transfer_Learning_Using_Convolutional_Neural_Network_Method_for_Early_Detection_of_Terry%27s_Nail/figures?lo=1)"
      ],
      "metadata": {
        "id": "bupBuk4gVOTY"
      }
    },
    {
      "cell_type": "markdown",
      "source": [
        "Let us try to build our first CNN!\n",
        "As usual, first thing first, we import the libraries and we ask for GPUs."
      ],
      "metadata": {
        "id": "AeaAAV_dnrlj"
      }
    },
    {
      "cell_type": "code",
      "source": [
        "# Load in relevant libraries, and alias where appropriate\n",
        "import torch\n",
        "import torch.nn as nn\n",
        "import torchvision\n",
        "import torchvision.transforms as transforms\n",
        "\n",
        "\n",
        "# Device will determine whether to run the training on GPU or CPU.\n",
        "device = torch.device('cuda' if torch.cuda.is_available() else 'cpu')"
      ],
      "metadata": {
        "id": "WX_xp_pnonu9"
      },
      "execution_count": null,
      "outputs": []
    },
    {
      "cell_type": "markdown",
      "source": [
        "Let us define some useful parameters!"
      ],
      "metadata": {
        "id": "vPjnYi3GovzO"
      }
    },
    {
      "cell_type": "code",
      "execution_count": null,
      "metadata": {
        "id": "iPICtUHuFXrf"
      },
      "outputs": [],
      "source": [
        "# parameters\n",
        "batch_size = 64\n",
        "num_classes = 10\n",
        "learning_rate = 0.001\n",
        "num_epochs = 20"
      ]
    },
    {
      "cell_type": "markdown",
      "source": [
        "Let us import the Dataset.\n",
        "The below code:\n",
        "* defines a transformation over the data (resizes, converts and normalizes),\n",
        "* downloads the data,\n",
        "* defines dataloaders which load the data in batches (the RAM does not suffer).\n",
        "\n"
      ],
      "metadata": {
        "id": "z8IZ4AJKppDD"
      }
    },
    {
      "cell_type": "code",
      "source": [
        "# Use transforms.compose method to reformat images for modeling,\n",
        "# and save to variable all_transforms for later use\n",
        "all_transforms = transforms.Compose([transforms.Resize((32,32)),\n",
        "                                     transforms.ToTensor(),\n",
        "                                     transforms.Normalize(mean=[0.4914, 0.4822, 0.4465],\n",
        "                                                          std=[0.2023, 0.1994, 0.2010])\n",
        "                                     ])\n",
        "# Create Training dataset\n",
        "train_dataset = torchvision.datasets.CIFAR10(root = './data',\n",
        "                                             train = True,\n",
        "                                             transform = all_transforms,\n",
        "                                             download = True)\n",
        "\n",
        "# Create Testing dataset\n",
        "test_dataset = torchvision.datasets.CIFAR10(root = './data',\n",
        "                                            train = False,\n",
        "                                            transform = all_transforms,\n",
        "                                            download=True)\n",
        "\n",
        "# Instantiate loader objects to facilitate processing\n",
        "train_loader = torch.utils.data.DataLoader(dataset = train_dataset,\n",
        "                                           batch_size = batch_size,\n",
        "                                           shuffle = True)\n",
        "\n",
        "\n",
        "test_loader = torch.utils.data.DataLoader(dataset = test_dataset,\n",
        "                                           batch_size = batch_size,\n",
        "                                           shuffle = True)"
      ],
      "metadata": {
        "id": "6NEGVhd0pbh-"
      },
      "execution_count": null,
      "outputs": []
    },
    {
      "cell_type": "markdown",
      "source": [
        "We have to create the CNN and, as usual, we extend the ``nn.Module`` and define the layers in the constructor.\n",
        "\n",
        "Then, we have to define the ``forward`` method. The input channel is 3 (3 channels: red, green and blue). We are \"enlarging\" the third dimension to captures more features (opacity, sharpness...).\n",
        "\n",
        "Then we pool. You define how many pixel you want to consider (2x2) and the _stride_, i.e. how do you move along the pixels.\n",
        "\n",
        "In the end, a fully connected layer is defined (nothing new).\n"
      ],
      "metadata": {
        "id": "Zw-eqyJlraMM"
      }
    },
    {
      "cell_type": "code",
      "source": [
        "# Creating a CNN class\n",
        "class ConvNeuralNet(nn.Module):\n",
        "\t#  Determine what layers and their order in CNN object \n",
        "    def __init__(self, num_classes):\n",
        "        super(ConvNeuralNet, self).__init__()\n",
        "        self.conv_layer1 = nn.Conv2d(in_channels=3, out_channels=32, kernel_size=3)\n",
        "        self.conv_layer2 = nn.Conv2d(in_channels=32, out_channels=32, kernel_size=3)\n",
        "        self.max_pool1 = nn.MaxPool2d(kernel_size = 2, stride = 2)\n",
        "        \n",
        "        self.conv_layer3 = nn.Conv2d(in_channels=32, out_channels=64, kernel_size=3)\n",
        "        self.conv_layer4 = nn.Conv2d(in_channels=64, out_channels=64, kernel_size=3)\n",
        "        self.max_pool2 = nn.MaxPool2d(kernel_size = 2, stride = 2)\n",
        "        \n",
        "        self.fc1 = nn.Linear(1600, 128)\n",
        "        self.relu1 = nn.ReLU()\n",
        "        self.fc2 = nn.Linear(128, num_classes)\n",
        "    \n",
        "    # Progresses data across layers    \n",
        "    def forward(self, x):\n",
        "        out = self.conv_layer1(x)\n",
        "        out = self.conv_layer2(out)\n",
        "        out = self.max_pool1(out)\n",
        "        \n",
        "        out = self.conv_layer3(out)\n",
        "        out = self.conv_layer4(out)\n",
        "        out = self.max_pool2(out)\n",
        "                \n",
        "        out = out.reshape(out.size(0), -1)\n",
        "        \n",
        "        out = self.fc1(out)\n",
        "        out = self.relu1(out)\n",
        "        out = self.fc2(out)\n",
        "        return out"
      ],
      "metadata": {
        "id": "-pOmnDGTptA8"
      },
      "execution_count": null,
      "outputs": []
    },
    {
      "cell_type": "markdown",
      "source": [
        "Let us define the loss and the optimizer."
      ],
      "metadata": {
        "id": "iedRghgMJmNv"
      }
    },
    {
      "cell_type": "code",
      "source": [
        "seed = 0\n",
        "torch.manual_seed(seed)\n",
        "\n",
        "model = ConvNeuralNet(num_classes)\n",
        "\n",
        "# Set Loss function with criterion\n",
        "criterion = nn.CrossEntropyLoss()\n",
        "\n",
        "# Set optimizer with optimizer\n",
        "optimizer = torch.optim.SGD(model.parameters(), lr=learning_rate, weight_decay = 0.005, momentum = 0.9)  \n",
        "\n",
        "total_step = len(train_loader)"
      ],
      "metadata": {
        "id": "Uy2t_-4Txkq1"
      },
      "execution_count": null,
      "outputs": []
    },
    {
      "cell_type": "markdown",
      "source": [
        "Let us train the model and test it!"
      ],
      "metadata": {
        "id": "RF-mc6SDJ5hJ"
      }
    },
    {
      "cell_type": "code",
      "source": [
        "# We use the pre-defined number of epochs to determine how many iterations to train the network on\n",
        "for epoch in range(num_epochs):\n",
        "\t#Load in the data in batches using the train_loader object\n",
        "    for i, (images, labels) in enumerate(train_loader):  \n",
        "        # Move tensors to the configured device\n",
        "        images = images.to(device)\n",
        "        labels = labels.to(device)\n",
        "        \n",
        "        # Forward pass\n",
        "        outputs = model(images)\n",
        "        loss = criterion(outputs, labels)\n",
        "        \n",
        "        # Backward and optimize\n",
        "        optimizer.zero_grad()\n",
        "        loss.backward()\n",
        "        optimizer.step()\n",
        "\n",
        "    print('Epoch [{}/{}], Loss: {:.4f}'.format(epoch+1, num_epochs, loss.item()))"
      ],
      "metadata": {
        "id": "HUDrmtOqx_L1"
      },
      "execution_count": null,
      "outputs": []
    },
    {
      "cell_type": "code",
      "source": [
        "with torch.no_grad():\n",
        "    correct = 0\n",
        "    total = 0\n",
        "    for images, labels in train_loader:\n",
        "        images = images.to(device)\n",
        "        labels = labels.to(device)\n",
        "        outputs = model(images)\n",
        "        _, predicted = torch.max(outputs.data, 1)\n",
        "        total += labels.size(0)\n",
        "        correct += (predicted == labels).sum().item()\n",
        "    \n",
        "    print('Accuracy of the network on the {} train images: {} %'.format(50000, 100 * correct / total))\n"
      ],
      "metadata": {
        "id": "1XsHnJW6JYMK"
      },
      "execution_count": null,
      "outputs": []
    }
  ]
}