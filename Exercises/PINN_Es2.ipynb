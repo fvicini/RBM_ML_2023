{
  "nbformat": 4,
  "nbformat_minor": 0,
  "metadata": {
    "colab": {
      "provenance": []
    },
    "kernelspec": {
      "name": "python3",
      "display_name": "Python 3"
    },
    "language_info": {
      "name": "python"
    }
  },
  "cells": [
    {
      "cell_type": "markdown",
      "source": [
        "### **PINN Exercise!**\n",
        "\n",
        "Solve the following problem with a PINN\n",
        "$$\n",
        "\\begin{cases}\n",
        "u'' = \\cos(\\pi x) & \\text { in } (0,2),\\\\\n",
        "u'(0) = 3 \\\\\n",
        "u(2) = 0.  \n",
        "\\end{cases}\n",
        "$$\n",
        "Take inspiration from the exercises we have done in class.\n",
        "\n",
        "In this case, the exact solution is\n",
        "$$\n",
        "u(x) = 3(x - 2) - \\frac{1}{\\pi^2}(\\cos(\\pi x) - 1).\n",
        "$$\n",
        "\n",
        "**Question**: can you impose directly the boundary conditions?\n"
      ],
      "metadata": {
        "id": "jI5bxr0iKhy-"
      }
    }
  ]
}