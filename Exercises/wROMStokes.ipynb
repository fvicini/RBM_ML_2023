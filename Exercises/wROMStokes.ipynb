{
  "cells": [
    {
      "cell_type": "markdown",
      "metadata": {
        "id": "2IGuNCbv2QpF"
      },
      "source": [
        "# **Weighted ROMs**\n",
        "Weighted ROMs are a way to insert data information in the reduced setting. They are used to accelarate statistics and Monte Carlo simulations.\n",
        "\n",
        "In this exercise you can practise with weighted-POD (wPOD) for Stokes problem.\n",
        "\n",
        "Let us import gedim!\n",
        "\n"
      ]
    },
    {
      "cell_type": "code",
      "execution_count": null,
      "metadata": {
        "id": "HOKm4Cpr0agg"
      },
      "outputs": [],
      "source": [
        "!git clone https://github.com/fvicini/CppToPython.git\n",
        "%cd CppToPython"
      ]
    },
    {
      "cell_type": "code",
      "execution_count": null,
      "metadata": {
        "id": "gVlYTB8mifCl"
      },
      "outputs": [],
      "source": [
        "!git submodule init\n",
        "!git submodule update"
      ]
    },
    {
      "cell_type": "code",
      "execution_count": null,
      "metadata": {
        "id": "Xezfpm75i_FG"
      },
      "outputs": [],
      "source": [
        "!mkdir -p externals\n",
        "%cd externals\n",
        "!cmake -DINSTALL_VTK=OFF -DINSTALL_LAPACK=OFF ../gedim/3rd_party_libraries\n",
        "!make -j4\n",
        "%cd .."
      ]
    },
    {
      "cell_type": "code",
      "execution_count": null,
      "metadata": {
        "id": "2LamP-IF1tLt"
      },
      "outputs": [],
      "source": [
        "!mkdir -p release\n",
        "%cd release \n",
        "!cmake -DCMAKE_PREFIX_PATH=\"/content/CppToPython/externals/Main_Install/eigen3;/content/CppToPython/externals/Main_Install/triangle;/content/CppToPython/externals/Main_Install/tetgen;/content/CppToPython/externals/Main_Install/googletest\" ../\n",
        "!make -j4 GeDiM4Py\n",
        "%cd .."
      ]
    },
    {
      "cell_type": "code",
      "execution_count": null,
      "metadata": {
        "id": "BeaV-lky4gkR"
      },
      "outputs": [],
      "source": [
        "import numpy as np\n",
        "import GeDiM4Py as gedim\n",
        "from scipy.sparse.linalg import splu\n",
        "import time"
      ]
    },
    {
      "cell_type": "code",
      "execution_count": null,
      "metadata": {
        "id": "13zM04WMQ5hJ"
      },
      "outputs": [],
      "source": [
        "lib = gedim.ImportLibrary(\"./release/GeDiM4Py.so\")\n",
        "\n",
        "config = { 'GeometricTolerance': 1.0e-8 }\n",
        "gedim.Initialize(config, lib)"
      ]
    },
    {
      "cell_type": "markdown",
      "metadata": {
        "id": "Ubq1Ge_iQkak"
      },
      "source": [
        "## The parametric version of the Stokes problem\n",
        "\n",
        "Solve the Stokes equation on square ${\\Omega} = (0, 1) \\times (0, 1)$\n",
        "\n",
        "$$\n",
        "\\begin{cases}\n",
        "-\\mu_1 \\nabla \\cdot (\\nabla \\mathbf{u}) + \\nabla p = \\mathbf{f}(\\mu_2) & \\text{in } \\Omega\\\\\n",
        "(\\nabla \\cdot \\mathbf{u}) = 0 & \\text{in } \\Omega\\\\\n",
        "u = 0 & \\text{in } ∂ \\Omega\n",
        "\\end{cases}\n",
        "$$\n",
        "\n",
        "where $\\nu$ is the **viscosity**, $\\mathbf{u} = (u_1, u_2)$ is the **speed** and $p$ is the **pressure**, with $\\mathbf{f}$ a parametric version of the forcing term of Lab10.\n",
        "\n",
        "In this case $\\boldsymbol \\mu$ is a random variable and each parameter has is peculiar probability distribution $\\rho(\\mu_1)$ and $\\rho(\\mu_2)$. The two parameters are assumed to be independent and identically distributed random variables.\n",
        "\n",
        "In terms of high-fidelity simulations, nothing changes."
      ]
    },
    {
      "cell_type": "code",
      "execution_count": null,
      "metadata": {
        "id": "JOPeoKRlRNMo"
      },
      "outputs": [],
      "source": [
        "def Stokes_V():\n",
        "\treturn 1.0\n",
        "\n",
        "def Stokes_v(numPoints, points):\n",
        "\tvalues = np.ones(numPoints) * Stokes_V()\n",
        "\treturn values.ctypes.data\n",
        "\n",
        "def Stokes_advection_1(numPoints, points):\n",
        "\tvalues = np.zeros((2, numPoints), order='F')\n",
        "\tvalues[0,:] = 1.0\n",
        "\treturn values.ctypes.data\n",
        "\n",
        "def Stokes_advection_2(numPoints, points):\n",
        "\tvalues = np.zeros((2, numPoints), order='F')\n",
        "\tvalues[1,:] = 1.0\n",
        "\treturn values.ctypes.data\n",
        "############## Forcing term WRT mu_2 #####################\n",
        "def Stokes_f_1(numPoints, points):\n",
        "\tmatPoints = gedim.make_nd_matrix(points, (3, numPoints), np.double)\n",
        "\tvalues = - ((mu_2**3) * np.pi * np.pi * np.cos((mu_2**2)* np.pi * matPoints[0,:]) - (mu_2**2) * np.pi * np.pi) * np.sin(mu_2 * np.pi * matPoints[1,:]) * np.cos(mu_2 * np.pi * matPoints[1,:]) + (+mu_2 * np.pi * np.cos(mu_2 * np.pi * matPoints[0,:]) * np.cos(mu_2 * np.pi * matPoints[1,:]))\n",
        "\treturn values.ctypes.data\n",
        "\n",
        "def Stokes_f_2(numPoints, points):\n",
        "\tmatPoints = gedim.make_nd_matrix(points, (3, numPoints), np.double)\n",
        "\tvalues = - (-(mu_2**3) * np.pi * np.pi * np.cos((mu_2**2) * np.pi * matPoints[1,:]) + (mu_2**2) * np.pi * np.pi) * np.sin(mu_2 * np.pi * matPoints[0,:]) * np.cos(mu_2 * np.pi * matPoints[0,:]) + (-mu_2* np.pi * np.sin(mu_2 * np.pi * matPoints[0,:]) * np.sin(mu_2 * np.pi * matPoints[1,:]))\n",
        "\treturn values.ctypes.data\n",
        "#############\n",
        "def Stokes_pressure_exactSolution(numPoints, points):\n",
        "\tmatPoints = gedim.make_nd_matrix(points, (3, numPoints), np.double)\n",
        "\tvalues = np.sin(2.0 * np.pi * matPoints[0,:]) * np.cos(2.0 * np.pi * matPoints[1,:])\n",
        "\treturn values.ctypes.data\n",
        "\n",
        "def Stokes_speed_exactSolution_1(numPoints, points):\n",
        "\tmatPoints = gedim.make_nd_matrix(points, (3, numPoints), np.double)\n",
        "\tvalues = +0.5 * np.sin(2.0 * np.pi * matPoints[0,:]) * np.sin(2.0 * np.pi * matPoints[0,:]) * np.sin(2.0 * np.pi * matPoints[1,:]) * np.cos(2.0 * np.pi * matPoints[1,:])\n",
        "\treturn values.ctypes.data\n",
        "\n",
        "def Stokes_speed_exactSolution_2(numPoints, points):\n",
        "\tmatPoints = gedim.make_nd_matrix(points, (3, numPoints), np.double)\n",
        "\tvalues = -0.5 * np.sin(2.0 * np.pi * matPoints[1,:]) * np.sin(2.0 * np.pi * matPoints[1,:]) * np.sin(2.0 * np.pi * matPoints[0,:]) * np.cos(2.0 * np.pi * matPoints[0,:])\n",
        "\treturn values.ctypes.data"
      ]
    },
    {
      "cell_type": "markdown",
      "source": [
        "### Discretization"
      ],
      "metadata": {
        "id": "OPb1VMnR6XOn"
      }
    },
    {
      "cell_type": "code",
      "execution_count": null,
      "metadata": {
        "id": "nfzHSAXORH5X"
      },
      "outputs": [],
      "source": [
        "order = 1\n",
        "meshSize = 0.001"
      ]
    },
    {
      "cell_type": "code",
      "execution_count": null,
      "metadata": {
        "id": "gFrwWHkGRTcM"
      },
      "outputs": [],
      "source": [
        "domain = { 'SquareEdge': 1.0, 'VerticesBoundaryCondition': [1,1,1,1], 'EdgesBoundaryCondition': [2,3,4,5], 'DiscretizationType': 1, 'MeshCellsMaximumArea': meshSize }\n",
        "[meshInfo, mesh] = gedim.CreateDomainSquare(domain, lib)"
      ]
    },
    {
      "cell_type": "code",
      "execution_count": null,
      "metadata": {
        "id": "FifaSs5tRWLp"
      },
      "outputs": [],
      "source": [
        "gedim.PlotMesh(mesh)"
      ]
    },
    {
      "cell_type": "markdown",
      "metadata": {
        "id": "ZFLs55ZIRjRw"
      },
      "source": [
        "### High Fidelity approximation"
      ]
    },
    {
      "cell_type": "code",
      "execution_count": null,
      "metadata": {
        "id": "vtVL7IqnRlra"
      },
      "outputs": [],
      "source": [
        "pressure_discreteSpace = { 'Order': 1, 'Type': 1, 'BoundaryConditionsType': [1, 2, 1, 1, 1, 1] }\n",
        "speed_discreteSpace = { 'Order': 2, 'Type': 1, 'BoundaryConditionsType': [1, 2, 2, 2, 2, 2] }\n",
        "\n",
        "[pressure_problemData, pressure_dofs, pressure_strongs] = gedim.Discretize(pressure_discreteSpace, lib)\n",
        "[speed_problemData, speed_dofs, speed_strongs] = gedim.Discretize(speed_discreteSpace, lib)"
      ]
    },
    {
      "cell_type": "code",
      "source": [
        "pressure_n_dofs = pressure_problemData['NumberDOFs']\n",
        "pressure_n_strongs = pressure_problemData['NumberStrongs']\n",
        "speed_n_dofs = speed_problemData['NumberDOFs']\n",
        "speed_n_strongs = speed_problemData['NumberStrongs']"
      ],
      "metadata": {
        "id": "arSjIf883qjJ"
      },
      "execution_count": null,
      "outputs": []
    },
    {
      "cell_type": "code",
      "source": [
        "[J_X_1, J_X_D_1] = gedim.AssembleStiffnessMatrix_Shift(speed_problemData['SpaceIndex'], speed_problemData['SpaceIndex'], Stokes_v, 2 * speed_n_dofs + pressure_n_dofs, 2 * speed_n_dofs + pressure_n_dofs, 2 * speed_n_strongs + pressure_n_strongs, 0, 0, 0, lib)\n",
        "[J_X_2, J_X_D_2] = gedim.AssembleStiffnessMatrix_Shift(speed_problemData['SpaceIndex'], speed_problemData['SpaceIndex'], Stokes_v, 2 * speed_n_dofs + pressure_n_dofs, 2 * speed_n_dofs + pressure_n_dofs, 2 * speed_n_strongs + pressure_n_strongs, speed_n_dofs, speed_n_dofs, speed_n_strongs, lib)\n",
        "\n",
        "[J_B_1, J_B_D_1] = gedim.AssembleAdvectionMatrix_Shift(speed_problemData['SpaceIndex'], pressure_problemData['SpaceIndex'], Stokes_advection_1, 2 * speed_n_dofs + pressure_n_dofs, 2 * speed_n_dofs + pressure_n_dofs, 2 * speed_n_strongs + pressure_n_strongs, 2 * speed_n_dofs, 0, 0, lib)\n",
        "[J_B_2, J_B_D_2] = gedim.AssembleAdvectionMatrix_Shift(speed_problemData['SpaceIndex'], pressure_problemData['SpaceIndex'], Stokes_advection_2, 2 * speed_n_dofs + pressure_n_dofs, 2 * speed_n_dofs + pressure_n_dofs, 2 * speed_n_strongs + pressure_n_strongs, 2 * speed_n_dofs, speed_n_dofs, speed_n_strongs, lib)\n",
        "\n",
        "mu_2 = 2\n",
        "\n",
        "J_f_1 = gedim.AssembleForcingTerm(Stokes_f_1, speed_problemData, lib)\n",
        "J_f_2 = gedim.AssembleForcingTerm(Stokes_f_2, speed_problemData, lib)\n",
        "J_f = np.concatenate([J_f_1, J_f_2, np.zeros(pressure_n_dofs)])\n",
        "\n",
        "p_D = gedim.AssembleStrongSolution(Stokes_pressure_exactSolution, 1, pressure_problemData, lib)"
      ],
      "metadata": {
        "id": "ubj0jpkjs2ha"
      },
      "execution_count": null,
      "outputs": []
    },
    {
      "cell_type": "code",
      "source": [
        "solution = gedim.LUSolver(J_X_1 + J_X_2 - J_B_1 - J_B_2 - np.transpose(J_B_1) - np.transpose(J_B_2), J_f, lib)\n",
        "u = solution[0:2 * speed_n_dofs]\n",
        "p = solution[2 * speed_n_dofs:]"
      ],
      "metadata": {
        "id": "HFi188Mks-ae"
      },
      "execution_count": null,
      "outputs": []
    },
    {
      "cell_type": "code",
      "source": [
        "gedim.PlotSolution(mesh, pressure_dofs, pressure_strongs, p, p_D, \"Pressure\")\n",
        "gedim.PlotSolution(mesh, speed_dofs, speed_strongs, u[0:speed_n_dofs], np.zeros(speed_n_strongs), \"Speed X\")\n",
        "gedim.PlotSolution(mesh, speed_dofs, speed_strongs, u[speed_n_dofs:], np.zeros(speed_n_strongs), \"Speed Y\")\n",
        "gedim.PlotSolution(mesh, speed_dofs, speed_strongs, np.sqrt(u[0:speed_n_dofs] * u[0:speed_n_dofs] + u[speed_n_dofs:] * u[speed_n_dofs:]), np.zeros(speed_n_strongs), \"Speed Magnitude\")"
      ],
      "metadata": {
        "id": "HxSjMxigv6Iw"
      },
      "execution_count": null,
      "outputs": []
    },
    {
      "cell_type": "markdown",
      "source": [
        "**wPOD ideas**\n",
        "\n",
        "Let us define the parameters for the POD, i.e. the snapshot number and the parametric space. The training set is related to the parameter distribution. We use the [$\\beta$-distribution](https://vitalflux.com/beta-distribution-explained-with-python-examples/).\n",
        "\n",
        "Below you can find a way to define the training set with respect to the parameter distribution.\n",
        "\n",
        "Play with it, use different distributions if you want."
      ],
      "metadata": {
        "id": "WYyTVdVYwopj"
      }
    },
    {
      "cell_type": "code",
      "execution_count": null,
      "metadata": {
        "id": "I2dzS4-3dZm2"
      },
      "outputs": [],
      "source": [
        "### define the training set\n",
        "from scipy.stats import beta\n",
        "\n",
        "snapshot_num = 100\n",
        "mu1_range = [1., 10.]\n",
        "mu2_range = [1., 3.]\n",
        "\n",
        "P = np.array([mu1_range, mu2_range])\n",
        "training_set_1 = beta.rvs(75, 75, size=(snapshot_num))\n",
        "t1 = training_set_1*(mu1_range[1] - mu1_range[0]) + mu1_range[0] # beta is defined between [0,1]\n",
        "training_set_2 = beta.rvs(75, 75, size=(snapshot_num))\n",
        "t2 = training_set_2*(mu2_range[1] - mu2_range[0]) + mu2_range[0]\n",
        "training_set = np.column_stack((t1,t2)) \n",
        "\n",
        "\n",
        "pdf1 = beta.pdf(training_set_1, 75, 75)\n",
        "pdf2 = beta.pdf(training_set_2, 75, 75)\n",
        "\n",
        "pdf_new = pdf1*pdf2 #total pdf\n",
        "\n",
        "\n"
      ]
    },
    {
      "cell_type": "markdown",
      "source": [
        "Here, we define the matrices needed to compute the supremizer for each solution of the Stokes problem."
      ],
      "metadata": {
        "id": "hB8Jziiyw3Uv"
      }
    },
    {
      "cell_type": "code",
      "source": [
        "[X_1, XStrong_1] = gedim.AssembleStiffnessMatrix_Shift(speed_problemData['SpaceIndex'], speed_problemData['SpaceIndex'], Stokes_v, 2 * speed_n_dofs, 2 * speed_n_dofs, 2 * speed_n_strongs, 0, 0, 0, lib)\n",
        "[X_2, XStrong_2] = gedim.AssembleStiffnessMatrix_Shift(speed_problemData['SpaceIndex'], speed_problemData['SpaceIndex'], Stokes_v, 2 * speed_n_dofs, 2 * speed_n_dofs, 2 * speed_n_strongs, speed_n_dofs, speed_n_dofs, speed_n_strongs, lib)\n",
        "\n",
        "[B_1, BStrong_1] = gedim.AssembleAdvectionMatrix_Shift(speed_problemData['SpaceIndex'], pressure_problemData['SpaceIndex'], Stokes_advection_1, pressure_n_dofs, 2 * speed_n_dofs, 2 * speed_n_strongs, 0, 0, 0, lib)\n",
        "[B_2, BStrong_2] = gedim.AssembleAdvectionMatrix_Shift(speed_problemData['SpaceIndex'], pressure_problemData['SpaceIndex'], Stokes_advection_2, pressure_n_dofs, 2 * speed_n_dofs, 2 * speed_n_strongs, 0, speed_n_dofs, speed_n_strongs, lib)"
      ],
      "metadata": {
        "id": "DhelSIQP5BiE"
      },
      "execution_count": null,
      "outputs": []
    },
    {
      "cell_type": "markdown",
      "source": [
        "We now apply can apply the **weighted partitioned POD**. To do so, a classical strategy is to define a weighted snapshot of the form\n",
        "$\\sqrt{\\rho(\\boldsymbol \\mu)}\\boldsymbol u(\\boldsymbol \\mu)$ (the same holds for pressure and supremizer), where $\\rho(\\boldsymbol \\mu) = \\rho(\\mu_1)\\rho(\\mu_2)$.\n",
        "\n",
        "After building the weighted snapshots matrices, apply partitioned POD. Compare the results with the ones of Lab11.\n",
        "\n"
      ],
      "metadata": {
        "id": "WWaAY-aDxLX-"
      }
    },
    {
      "cell_type": "code",
      "execution_count": null,
      "metadata": {
        "id": "DJDt8TvQdW8Z"
      },
      "outputs": [],
      "source": [
        "#### snapshot matrices creation.... YOUR TURN\n",
        "\n",
        "\n",
        "  "
      ]
    },
    {
      "cell_type": "code",
      "source": [
        "inner_product_u = X_1 + X_2"
      ],
      "metadata": {
        "id": "L2afHeSNG4dz"
      },
      "execution_count": null,
      "outputs": []
    },
    {
      "cell_type": "markdown",
      "source": [
        "Below, we define a function that, given a covariance matrix (the maximum number of basis functions and a tolerance) computes the related eigenvalues and eigenvectors, returns the eigenvectors and the basis number."
      ],
      "metadata": {
        "id": "X92J1zs_4Hrh"
      }
    },
    {
      "cell_type": "code",
      "source": [
        "def eig_analysis(C, N_max=None, tol=1e-9):\n",
        "  L_e, VM_e = np.linalg.eig(C)\n",
        "  eigenvalues = []\n",
        "  eigenvectors = []\n",
        "\n",
        "\n",
        "  #### check\n",
        "\n",
        "  for i in range(len(L_e)):\n",
        "    eig_real = L_e[i].real\n",
        "    eig_complex = L_e[i].imag\n",
        "    assert np.isclose(eig_complex, 0.)\n",
        "    eigenvalues.append(eig_real)\n",
        "    eigenvectors.append(VM_e[i].real)\n",
        "\n",
        "\n",
        "  total_energy = sum(eigenvalues)\n",
        "  retained_energy_vector = np.cumsum(eigenvalues)\n",
        "  relative_retained_energy = retained_energy_vector/total_energy\n",
        "\n",
        "\n",
        "  if all(flag==False for flag in relative_retained_energy>= tol) and N_max != None:\n",
        "    N = N_max\n",
        "  else:\n",
        "    N = np.argmax(relative_retained_energy >= tol) + 1\n",
        "  \n",
        "  return N, eigenvectors\n",
        "\n"
      ],
      "metadata": {
        "id": "aMCf0bkbQXKC"
      },
      "execution_count": null,
      "outputs": []
    },
    {
      "cell_type": "code",
      "execution_count": null,
      "metadata": {
        "id": "1VxLRw6TgNM9"
      },
      "outputs": [],
      "source": [
        "### covariance matrix\n",
        "C_u = snapshot_matrix_u @ inner_product_u @ np.transpose(snapshot_matrix_u)\n",
        "C_s = snapshot_matrix_s @ inner_product_u @ np.transpose(snapshot_matrix_s)\n",
        "C_p = snapshot_matrix_p @ np.transpose(snapshot_matrix_p)\n",
        "\n",
        "N_u, eigs_u = eig_analysis(C_u, N_max=N_max, tol=tol)\n",
        "N_s, eigs_s = eig_analysis(C_s, N_max=N_max, tol=tol)\n",
        "N_p, eigs_p = eig_analysis(C_p, N_max=N_max, tol=tol)\n",
        "\n",
        "print(N_u, N_s, N_p)\n",
        "\n",
        "\n",
        "\n"
      ]
    },
    {
      "cell_type": "markdown",
      "source": [
        "Now we create a function that creates the basis, given the snapshots matrix, the reduced dimension and the eigenvectors."
      ],
      "metadata": {
        "id": "ya30YDYV5_Ka"
      }
    },
    {
      "cell_type": "code",
      "source": [
        "def create_basis_functions_matrix(N, snapshot_matrix, eigenvectors, inner_product=None):\n",
        "  \n",
        "  basis_functions = []\n",
        "  \n",
        "  for n in range(N):\n",
        "    eigenvector =  eigenvectors[n]\n",
        "    basis = np.transpose(snapshot_matrix)@eigenvector\n",
        "    if inner_product!= None:\n",
        "      norm = np.sqrt(np.transpose(basis) @ inner_product @ basis) ## metti inner product\n",
        "    else:\n",
        "      norm = np.sqrt(np.transpose(basis) @ basis)\n",
        "    basis /= norm\n",
        "    basis_functions.append(np.copy(basis))\n",
        "\n",
        "  basis_function_matrix = np.transpose(np.array(basis_functions))\n",
        "  \n",
        "  return basis_function_matrix"
      ],
      "metadata": {
        "id": "8DBrdWGaR35F"
      },
      "execution_count": null,
      "outputs": []
    },
    {
      "cell_type": "markdown",
      "source": [
        "We create three separate basis functions and then the global basis function that we need for the projection:\n",
        "\n",
        "$$\\mathbb {B} = \n",
        "\\begin{bmatrix} \\mathbb B_u \\cup \\mathbb B_s & 0\\\\\n",
        "0 & \\mathbb B_p\n",
        "\\end{bmatrix}.$$\n"
      ],
      "metadata": {
        "id": "xYMlbFhpWb1h"
      }
    },
    {
      "cell_type": "code",
      "source": [
        "basis_functions_u = create_basis_functions_matrix(N_u, snapshot_matrix_u, eigs_u, inner_product=inner_product_u)\n",
        "basis_functions_s = create_basis_functions_matrix(N_s, snapshot_matrix_s, eigs_s, inner_product=inner_product_u)\n",
        "basis_functions_p = create_basis_functions_matrix(N_p, snapshot_matrix_p, eigs_p)\n"
      ],
      "metadata": {
        "id": "w6bVl8hxjM56"
      },
      "execution_count": null,
      "outputs": []
    },
    {
      "cell_type": "code",
      "source": [
        "print(basis_functions_u.shape)\n",
        "print(basis_functions_p.shape)\n",
        "print(basis_functions_u.shape[0] + basis_functions_p.shape[0])\n",
        "print(basis_functions_p.shape)\n",
        "print(solution.shape)\n",
        "\n",
        "global_basis_function_matrix = np.zeros((basis_functions_u.shape[0] + basis_functions_p.shape[0],N_u + N_s + N_p))\n",
        "global_basis_function_matrix[0:basis_functions_u.shape[0], 0:N_u] = basis_functions_u\n",
        "global_basis_function_matrix[0:basis_functions_u.shape[0], N_u : N_u + N_s] = basis_functions_s\n",
        "global_basis_function_matrix[basis_functions_u.shape[0]:, N_u + N_s:] = basis_functions_p\n",
        "print(global_basis_function_matrix.shape)\n",
        "\n",
        "global_basis_function_matrix_no_sipremizer = np.zeros((basis_functions_u.shape[0] + basis_functions_p.shape[0],N_u + N_p))\n",
        "global_basis_function_matrix_no_sipremizer[0:basis_functions_u.shape[0], 0:N_u] = basis_functions_u\n",
        "global_basis_function_matrix_no_sipremizer[basis_functions_u.shape[0]:, N_u:] = basis_functions_p"
      ],
      "metadata": {
        "id": "bDCdmymWjl_I"
      },
      "execution_count": null,
      "outputs": []
    },
    {
      "cell_type": "markdown",
      "source": [
        "We now define the assemble-functions"
      ],
      "metadata": {
        "id": "pwd5IA1US-Fe"
      }
    },
    {
      "cell_type": "code",
      "source": [
        "def assemble_reduced_matrix(basis, fom_matrix):\n",
        "  return np.transpose(basis) @ (fom_matrix) @ basis\n",
        "\n",
        "def assemble_reduced_vector(basis, fom_vector):\n",
        "  return np.transpose(basis) @ (fom_vector)"
      ],
      "metadata": {
        "id": "_JiR46UNxt3R"
      },
      "execution_count": null,
      "outputs": []
    },
    {
      "cell_type": "markdown",
      "source": [
        "Let us finish the offline phase"
      ],
      "metadata": {
        "id": "CnHv5StfTfW-"
      }
    },
    {
      "cell_type": "code",
      "source": [
        "### ASSEMBLE REDUCED SYSTEMS\n",
        "reduced_stiff_Stokes = assemble_reduced_matrix(global_basis_function_matrix, (J_X_1 + J_X_2)) \n",
        "reduced_divergence_operator_1 = assemble_reduced_matrix(global_basis_function_matrix, (J_B_1)) \n",
        "reduced_divergence_operator_2 = assemble_reduced_matrix(global_basis_function_matrix, (J_B_2))\n",
        "\n"
      ],
      "metadata": {
        "id": "xy2n97laq1mj"
      },
      "execution_count": null,
      "outputs": []
    },
    {
      "cell_type": "markdown",
      "source": [
        "We are ready for a new evaluation!"
      ],
      "metadata": {
        "id": "liEy2OULUC0G"
      }
    },
    {
      "cell_type": "code",
      "source": [
        "### New eval\n",
        "thetaA1 = 1\n",
        "mu_2 = 2\n",
        "J_f_1 = gedim.AssembleForcingTerm(Stokes_f_1, speed_problemData, lib)\n",
        "J_f_2 = gedim.AssembleForcingTerm(Stokes_f_2, speed_problemData, lib)\n",
        "J_f = np.concatenate([J_f_1, J_f_2, np.zeros(pressure_n_dofs)])\n",
        "reduced_lhs = thetaA1*reduced_stiff_Stokes - reduced_divergence_operator_1 - reduced_divergence_operator_2 - np.transpose(reduced_divergence_operator_1) - np.transpose(reduced_divergence_operator_2)\n",
        "reduced_rhs = assemble_reduced_vector(global_basis_function_matrix, J_f)"
      ],
      "metadata": {
        "id": "cypk3_4SuhV4"
      },
      "execution_count": null,
      "outputs": []
    },
    {
      "cell_type": "code",
      "source": [
        "reduced_solution = np.linalg.solve(reduced_lhs, reduced_rhs)\n",
        "print(reduced_solution)"
      ],
      "metadata": {
        "id": "X5n2MB8qu1xj"
      },
      "execution_count": null,
      "outputs": []
    },
    {
      "cell_type": "code",
      "source": [
        "###### plot #######\n",
        "reduced_u_dof = N_u + N_s\n",
        "# reduced_p_dof = N_p\n",
        "reduced_solution_FE_basis = global_basis_function_matrix @ reduced_solution\n",
        "reduced_u = reduced_solution_FE_basis[0:2*speed_n_dofs]\n",
        "reduced_p = reduced_solution_FE_basis[2*speed_n_dofs:]\n",
        "\n",
        "gedim.PlotSolution(mesh, pressure_dofs, pressure_strongs, reduced_p, p_D, \"Pressure\")\n",
        "gedim.PlotSolution(mesh, speed_dofs, speed_strongs, np.sqrt(reduced_u[0:speed_n_dofs] * reduced_u[0:speed_n_dofs] + reduced_u[speed_n_dofs:] * reduced_u[speed_n_dofs:]), np.zeros(speed_n_strongs), \"Speed Magnitude\")\n"
      ],
      "metadata": {
        "id": "WDc7todEvLgv"
      },
      "execution_count": null,
      "outputs": []
    },
    {
      "cell_type": "markdown",
      "source": [
        "**What happens without supremizer?**"
      ],
      "metadata": {
        "id": "899tCh-1VZuN"
      }
    },
    {
      "cell_type": "code",
      "source": [
        "### NO SUPREMIZER\n",
        "reduced_stiff_Stokes_nsup = assemble_reduced_matrix(global_basis_function_matrix_no_sipremizer, (J_X_1 + J_X_2)) # np.transpose(global_basis_function_matrix) @ (J_X_1 + J_X_2) @ global_basis_function_matrix\n",
        "reduced_divergence_operator_1_nsup = assemble_reduced_matrix(global_basis_function_matrix_no_sipremizer, (J_B_1)) #np.transpose(global_basis_function_matrix) @ J_B_1 @ global_basis_function_matrix\n",
        "reduced_divergence_operator_2_nsup = assemble_reduced_matrix(global_basis_function_matrix_no_sipremizer, (J_B_2))\n",
        "# - J_B_1 - J_B_2\n"
      ],
      "metadata": {
        "id": "FXKgI_r-0tpW"
      },
      "execution_count": null,
      "outputs": []
    },
    {
      "cell_type": "code",
      "source": [
        "### New eval\n",
        "reduced_lhs = thetaA1*reduced_stiff_Stokes_nsup - reduced_divergence_operator_1_nsup - reduced_divergence_operator_2_nsup - np.transpose(reduced_divergence_operator_1_nsup) - np.transpose(reduced_divergence_operator_2_nsup)\n",
        "reduced_rhs = assemble_reduced_vector(global_basis_function_matrix_no_sipremizer, J_f)"
      ],
      "metadata": {
        "id": "h9MNnSE50tpX"
      },
      "execution_count": null,
      "outputs": []
    },
    {
      "cell_type": "code",
      "source": [
        "reduced_solution = np.linalg.solve(reduced_lhs, reduced_rhs)\n",
        "print(reduced_solution)"
      ],
      "metadata": {
        "id": "rInX7UAZ0tpX"
      },
      "execution_count": null,
      "outputs": []
    },
    {
      "cell_type": "code",
      "source": [
        "###### plot #######\n",
        "reduced_u_dof = N_u + N_s\n",
        "# reduced_p_dof = N_p\n",
        "reduced_solution_FE_basis = global_basis_function_matrix_no_sipremizer @ reduced_solution\n",
        "reduced_u = reduced_solution_FE_basis[0:2*speed_n_dofs]\n",
        "reduced_p = reduced_solution_FE_basis[2*speed_n_dofs:]\n",
        "\n",
        "gedim.PlotSolution(mesh, pressure_dofs, pressure_strongs, reduced_p, p_D, \"Pressure\")\n",
        "gedim.PlotSolution(mesh, speed_dofs, speed_strongs, np.sqrt(reduced_u[0:speed_n_dofs] * reduced_u[0:speed_n_dofs] + reduced_u[speed_n_dofs:] * reduced_u[speed_n_dofs:]), np.zeros(speed_n_strongs), \"Speed Magnitude\")\n"
      ],
      "metadata": {
        "id": "Ja3ccQI40tpY"
      },
      "execution_count": null,
      "outputs": []
    },
    {
      "cell_type": "markdown",
      "source": [
        "Let us analyze the usual stuff: errors and speedups!\n",
        "Below you find a function that computes the error."
      ],
      "metadata": {
        "id": "GyPuy-W5VXx2"
      }
    },
    {
      "cell_type": "code",
      "source": [
        "######### def error functions ######\n",
        "\n",
        "def compute_error(fom_solution, rom_solution_FE_basis, inner_product=None, type_err=\"relative\"):\n",
        "    \n",
        "    error_function_u = fom_solution - rom_solution_FE_basis\n",
        "    \n",
        "    if inner_product == None:\n",
        "        inner_product_matrix = np.identity(fom_solution.shape[0])\n",
        "    else:\n",
        "      print()\n",
        "      inner_product_matrix = inner_product\n",
        "    \n",
        "    error_norm_squared_component = np.transpose(error_function_u) @ inner_product_matrix @ error_function_u\n",
        "    absolute_error = np.sqrt(abs(error_norm_squared_component))\n",
        "    \n",
        "    if type_err == \"absolute\":\n",
        "      \n",
        "      return absolute_error\n",
        "    \n",
        "    else:\n",
        "      full_solution_norm_squared_component = np.transpose(fom_solution) @  inner_product_matrix @ fom_solution\n",
        "      relative_error = absolute_error/np.sqrt(abs(full_solution_norm_squared_component))\n",
        "    \n",
        "      return relative_error\n",
        "    "
      ],
      "metadata": {
        "id": "A-5xvlRY7WVW"
      },
      "execution_count": null,
      "outputs": []
    },
    {
      "cell_type": "code",
      "execution_count": null,
      "metadata": {
        "id": "Hw3uJvR-o4fD"
      },
      "outputs": [],
      "source": [
        "### compute error... YOUR TURN\n"
      ]
    },
    {
      "cell_type": "code",
      "source": [
        "print(\"avarege relative error for velocity = \", np.mean(rel_err_u) )\n",
        "print(\"avarege absolute error for velocity = \", np.mean(abs_err_u) )\n",
        "\n",
        "print(\"avarege relative error for pressure = \", np.mean(rel_err_p) )\n",
        "print(\"avarege absolute error for pressure = \", np.mean(abs_err_p) )\n",
        "\n",
        "\n",
        "print(\"avarege speed_up = \", np.mean(speed_up) )"
      ],
      "metadata": {
        "id": "kpFbExusAw4A"
      },
      "execution_count": null,
      "outputs": []
    }
  ],
  "metadata": {
    "colab": {
      "provenance": []
    },
    "kernelspec": {
      "display_name": "Python 3 (ipykernel)",
      "language": "python",
      "name": "python3"
    },
    "language_info": {
      "codemirror_mode": {
        "name": "ipython",
        "version": 3
      },
      "file_extension": ".py",
      "mimetype": "text/x-python",
      "name": "python",
      "nbconvert_exporter": "python",
      "pygments_lexer": "ipython3",
      "version": "3.10.9"
    }
  },
  "nbformat": 4,
  "nbformat_minor": 0
}