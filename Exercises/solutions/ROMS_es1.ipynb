{
  "cells": [
    {
      "cell_type": "markdown",
      "metadata": {
        "id": "2IGuNCbv2QpF"
      },
      "source": [
        "# **Exercise!**\n",
        "\n",
        "## **Let us do another exercise together** ##\n",
        "\n",
        "Solve the following equation on square ${\\Omega} = (-1, +1) \\times (-1, +1)$\n",
        "\n",
        "$$\n",
        "\\begin{cases}\n",
        "\\nabla \\cdot (k_{\\mu} \\nabla u) + 10 x(1-x) \\frac {\\partial}{\\partial x}u = f & \\text{in } \\Omega\\\\\n",
        "u = 1 & \\text{on } \\Gamma_{D}\\\\\n",
        "k_{\\mu} \\nabla u \\cdot n_2 = \\mu_3 & \\text{on } \\Gamma_{base}\\\\\n",
        "k_{\\mu} \\nabla u \\cdot n_2 = 0 & \\text{otherwise} \n",
        "\\end{cases}\n",
        "$$\n",
        "\n",
        "where $k_\\mu = \\mu_i \\in \\Omega_i$ for $i \\in \\{1, 2\\}$.\n",
        "The parametric space is $\\mathcal P = [0.1, 5]^2 \\times [0.1, 1]$.\n",
        "\n",
        "<img src=\"https://drive.google.com/uc?id=1xOuY85KfiSFoX12J8kF2bSSRRUjXCCB0\"\n",
        " style=\"float:center;width:1px;height:1px;\" align=\"center\" width=\"300\">\n"
      ]
    },
    {
      "cell_type": "code",
      "execution_count": null,
      "metadata": {
        "id": "HOKm4Cpr0agg",
        "colab": {
          "base_uri": "https://localhost:8080/"
        },
        "outputId": "1792fc10-1ce0-4dff-d2d3-94dd3f07d701"
      },
      "outputs": [
        {
          "output_type": "stream",
          "name": "stdout",
          "text": [
            "Cloning into 'CppToPython'...\n",
            "remote: Enumerating objects: 600, done.\u001b[K\n",
            "remote: Counting objects: 100% (113/113), done.\u001b[K\n",
            "remote: Compressing objects: 100% (105/105), done.\u001b[K\n",
            "remote: Total 600 (delta 13), reused 24 (delta 7), pack-reused 487\u001b[K\n",
            "Receiving objects: 100% (600/600), 424.27 KiB | 2.19 MiB/s, done.\n",
            "Resolving deltas: 100% (406/406), done.\n",
            "/content/CppToPython\n"
          ]
        }
      ],
      "source": [
        "!git clone https://github.com/fvicini/CppToPython.git\n",
        "%cd CppToPython"
      ]
    },
    {
      "cell_type": "code",
      "source": [
        "!git submodule init\n",
        "!git submodule update"
      ],
      "metadata": {
        "id": "gVlYTB8mifCl",
        "colab": {
          "base_uri": "https://localhost:8080/"
        },
        "outputId": "199528da-0f37-48a5-f9b7-6cd5c372289b"
      },
      "execution_count": null,
      "outputs": [
        {
          "output_type": "stream",
          "name": "stdout",
          "text": [
            "Submodule 'gedim' (https://github.com/fvicini/gedim.git) registered for path 'gedim'\n",
            "Cloning into '/content/CppToPython/gedim'...\n",
            "Submodule path 'gedim': checked out 'c52847f1a527d36b529f39d3744afe9fd612b62c'\n"
          ]
        }
      ]
    },
    {
      "cell_type": "code",
      "source": [
        "!mkdir -p externals\n",
        "%cd externals\n",
        "!cmake -DINSTALL_VTK=OFF -DINSTALL_LAPACK=OFF ../gedim/3rd_party_libraries\n",
        "!make -j4\n",
        "%cd .."
      ],
      "metadata": {
        "id": "Xezfpm75i_FG"
      },
      "execution_count": null,
      "outputs": []
    },
    {
      "cell_type": "code",
      "execution_count": null,
      "metadata": {
        "id": "BeaV-lky4gkR"
      },
      "outputs": [],
      "source": [
        "import numpy as np\n",
        "import GeDiM4Py as gedim"
      ]
    },
    {
      "cell_type": "code",
      "source": [
        "lib = gedim.ImportLibrary(\"./release/GeDiM4Py.so\")\n",
        "\n",
        "config = { 'GeometricTolerance': 1.0e-8 }\n",
        "gedim.Initialize(config, lib)"
      ],
      "metadata": {
        "id": "13zM04WMQ5hJ"
      },
      "execution_count": null,
      "outputs": []
    }
  ],
  "metadata": {
    "colab": {
      "provenance": []
    },
    "kernelspec": {
      "display_name": "Python 3 (ipykernel)",
      "language": "python",
      "name": "python3"
    },
    "language_info": {
      "codemirror_mode": {
        "name": "ipython",
        "version": 3
      },
      "file_extension": ".py",
      "mimetype": "text/x-python",
      "name": "python",
      "nbconvert_exporter": "python",
      "pygments_lexer": "ipython3",
      "version": "3.10.9"
    }
  },
  "nbformat": 4,
  "nbformat_minor": 0
}