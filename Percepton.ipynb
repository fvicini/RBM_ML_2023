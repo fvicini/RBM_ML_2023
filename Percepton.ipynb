{
  "nbformat": 4,
  "nbformat_minor": 0,
  "metadata": {
    "colab": {
      "provenance": []
    },
    "kernelspec": {
      "name": "python3",
      "display_name": "Python 3"
    },
    "language_info": {
      "name": "python"
    }
  },
  "cells": [
    {
      "cell_type": "markdown",
      "source": [
        "# **Percepton for binary classification**\n",
        "\n",
        "**Disclaimer**: large parts of the lab are taken from [this webpage](https://machinelearningmastery.com/implement-perceptron-algorithm-scratch-python/).\n",
        "\n",
        "A percepton is the simplest structure for a Neural Net. It consists in a _input layer_ and a one dimensional _output layer_. \n",
        "If the input layer has dimension $n$, as below,\n",
        "\n",
        "<img src=\"https://drive.google.com/uc?id=1n3fIBXV9mIVzhEbwp3NHDE4Jebz-S-La\"\n",
        " style=\"float:center;width:50px;height:50px;\" align=\"center\">\n",
        "\n",
        "\n",
        "the Neural Net predicts the output as\n",
        "$$\n",
        "\\sigma(w_0 + \\sum_i^{n}w_i x_i).\n",
        "$$\n",
        "\n",
        "When dealing with a two-dimensional input as the following structure\n",
        "\n",
        "<img src=\"https://drive.google.com/uc?id=14aPzXwSvvNn-uajJ2ZFfCNMlzeA69EVs\"\n",
        " style=\"float:center;width:50px;height:50px;\">\n",
        " \n",
        "everything gets simple and the formula is\n",
        "$$\n",
        "\\sigma(w_0 + w_1x_1 + w_2x_2).\n",
        "$$\n",
        "\n",
        "In case of binary classification, we can define $\\sigma$ as\n",
        "\n",
        "$$\n",
        "\\sigma = \n",
        "\\begin{cases}\n",
        "1 & \\text{ if }  w_0 + w_1x_1 + w_2x_2 \\geq 0, \\\\\n",
        "0 & \\text{ otherwise}.\n",
        "\\end{cases}\n",
        "$$\n",
        "\n",
        "Let us do that!\n",
        "\n"
      ],
      "metadata": {
        "id": "cyAtWEebNtpg"
      }
    },
    {
      "cell_type": "code",
      "execution_count": 6,
      "metadata": {
        "id": "CSqCmX7EW92h"
      },
      "outputs": [],
      "source": [
        "def predict(x, w, w0):\n",
        "    sigma = w0 + x[0]*w[0] + x[1]*w[1]\n",
        "    return 1.0 if sigma >= 0.0 else 0.0"
      ]
    },
    {
      "cell_type": "markdown",
      "source": [
        "Now we focus on the following ``dataset``. The first entry is the $x$ coordinate, the second the $y$ coordinate and the third entry is the classification tag.\n",
        "\n",
        "We plot the data."
      ],
      "metadata": {
        "id": "Qf4xBmIXXOBs"
      }
    },
    {
      "cell_type": "code",
      "source": [
        "# ramdom data\n",
        "\n",
        "dataset = [[2.7810836,2.550537003,0],\n",
        " [1.465489372,2.362125076,0],\n",
        " [3.396561688,4.400293529,0],\n",
        " [1.38807019,1.850220317,0],\n",
        " [3.06407232,3.005305973,0],\n",
        " [7.627531214,2.759262235,1],\n",
        " [5.332441248,2.088626775,1],\n",
        " [6.922596716,1.77106367,1],\n",
        " [8.675418651,-0.242068655,1],\n",
        " [7.673756466,3.508563011,1]]\n",
        "\n",
        "# plotting data\n",
        "\n",
        "import matplotlib.pyplot as plt\n",
        "import numpy as np\n",
        "\n",
        "x1 = []\n",
        "y1 = []\n",
        "x2 = []\n",
        "y2 = []\n",
        "\n",
        "for row in dataset:\n",
        "    if row[-1] == 0:\n",
        "        x1.append(row[0])\n",
        "        y1.append(row[1])\n",
        "    else:\n",
        "        x2.append(row[0])\n",
        "        y2.append(row[1])\n",
        "    \n",
        "plt.scatter(x1, y1, c =\"blue\", label=\"First group\")\n",
        "plt.scatter(x2, y2, c =\"red\",label=\"Second group\")\n",
        "plt.legend()\n",
        "\n",
        "# To show the plot\n",
        "plt.show()\n",
        "\n",
        "\n",
        "# weights = [-0.1, 0.20653640140000007, -0.23418117710000003]  #### this are the ones related to the dataset"
      ],
      "metadata": {
        "id": "eFfPfxelXNcN",
        "colab": {
          "base_uri": "https://localhost:8080/",
          "height": 265
        },
        "outputId": "32b28e34-6ec1-4e8a-a505-5f4bb76897f7"
      },
      "execution_count": 3,
      "outputs": [
        {
          "output_type": "display_data",
          "data": {
            "text/plain": [
              "<Figure size 432x288 with 1 Axes>"
            ],
            "image/png": "[encoded data removed]"
          },
          "metadata": {
            "needs_background": "light"
          }
        }
      ]
    },
    {
      "cell_type": "code",
      "source": [
        "def train_weights(train, l_rate, n_epoch):\n",
        "    input_dim = len(train[0]) - 1\n",
        "    weights = [0.0 for i in range(input_dim)]\n",
        "    bias = 0.0\n",
        "    sum_error = 0.0\n",
        "    for epoch in range(n_epoch):\n",
        "        # sum_error = 0.0\n",
        "        for x in train:\n",
        "            prediction = predict(x, weights,bias)\n",
        "            error = (x[-1] - prediction)\n",
        "            sum_error += error**2\n",
        "            bias = bias + l_rate * error\n",
        "            for i in range(len(x)-1):\n",
        "                weights[i] = weights[i] + l_rate * error * x[i]\n",
        "    print('>epoch=%d, lrate=%.3f, error=%.3f' % (epoch, l_rate, sum_error))\n",
        "    return bias, weights"
      ],
      "metadata": {
        "id": "gls4-rAGYMtd"
      },
      "execution_count": 7,
      "outputs": []
    },
    {
      "cell_type": "code",
      "source": [
        "# Calculate weights\n",
        "\n",
        "l_rate = 0.1\n",
        "n_epoch = 5\n",
        "bias, weights = train_weights(dataset, l_rate, n_epoch)\n",
        "print(weights)\n",
        "print(bias)\n",
        "\n",
        "\n"
      ],
      "metadata": {
        "colab": {
          "base_uri": "https://localhost:8080/"
        },
        "id": "RGedRb-pYxFb",
        "outputId": "d9da05b7-03c1-4778-edc9-adae9c53a746"
      },
      "execution_count": 8,
      "outputs": [
        {
          "output_type": "stream",
          "name": "stdout",
          "text": [
            ">epoch=4, lrate=0.100, error=3.000\n",
            "[0.20653640140000007, -0.23418117710000003]\n",
            "-0.1\n"
          ]
        }
      ]
    },
    {
      "cell_type": "code",
      "source": [
        "#### point ####\n",
        "x = 2.7\n",
        "y = 2.\n",
        "\n",
        "prediction = predict([x,y],weights, bias)\n",
        "\n",
        "if prediction == 1:\n",
        "    color = \"red\"\n",
        "else:\n",
        "    color = \"blue\"\n",
        "### plot the new point ####\n",
        "\n",
        "plt.scatter(x1, y1, c = \"blue\", label=\"First group\")\n",
        "plt.scatter(x2, y2, c = \"red\",label=\"Second group\")\n",
        "plt.scatter(x, y, 200, c = color ,marker=\"^\",label=\"New evaluation\")\n",
        "plt.legend()\n",
        " \n",
        "# To show the plot\n",
        "plt.show()"
      ],
      "metadata": {
        "colab": {
          "base_uri": "https://localhost:8080/",
          "height": 265
        },
        "id": "w-IWjXH4dL3E",
        "outputId": "dab4670c-0423-4c25-984d-355e18fa41ce"
      },
      "execution_count": 19,
      "outputs": [
        {
          "output_type": "display_data",
          "data": {
            "text/plain": [
              "<Figure size 432x288 with 1 Axes>"
            ],
            "image/png": "[encoded data removed]"
          },
          "metadata": {
            "needs_background": "light"
          }
        }
      ]
    }
  ]
}