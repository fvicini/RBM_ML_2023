{
  "cells": [
    {
      "cell_type": "markdown",
      "metadata": {
        "id": "2IGuNCbv2QpF"
      },
      "source": [
        "# **Geometric Parametrization**\n",
        "This lab focuses on performing a ROM on a parametric system with variable domain geometry."
      ]
    },
    {
      "cell_type": "code",
      "execution_count": null,
      "metadata": {
        "id": "HOKm4Cpr0agg"
      },
      "outputs": [],
      "source": [
        "!git clone https://github.com/fvicini/CppToPython.git\n",
        "%cd CppToPython"
      ]
    },
    {
      "cell_type": "code",
      "execution_count": null,
      "metadata": {
        "id": "gVlYTB8mifCl"
      },
      "outputs": [],
      "source": [
        "!git submodule init\n",
        "!git submodule update"
      ]
    },
    {
      "cell_type": "code",
      "execution_count": null,
      "metadata": {
        "id": "Xezfpm75i_FG"
      },
      "outputs": [],
      "source": [
        "!mkdir -p externals\n",
        "%cd externals\n",
        "!cmake -DINSTALL_VTK=OFF -DINSTALL_LAPACK=OFF ../gedim/3rd_party_libraries\n",
        "!make -j4\n",
        "%cd .."
      ]
    },
    {
      "cell_type": "code",
      "execution_count": null,
      "metadata": {
        "id": "2LamP-IF1tLt"
      },
      "outputs": [],
      "source": [
        "!mkdir -p release\n",
        "%cd release \n",
        "!cmake -DCMAKE_PREFIX_PATH=\"/content/CppToPython/externals/Main_Install/eigen3;/content/CppToPython/externals/Main_Install/triangle;/content/CppToPython/externals/Main_Install/tetgen;/content/CppToPython/externals/Main_Install/googletest\" ../\n",
        "!make -j4 GeDiM4Py\n",
        "%cd .."
      ]
    },
    {
      "cell_type": "code",
      "execution_count": null,
      "metadata": {
        "id": "BeaV-lky4gkR"
      },
      "outputs": [],
      "source": [
        "import numpy as np\n",
        "import GeDiM4Py as gedim\n",
        "from scipy.sparse.linalg import splu\n",
        "import time"
      ]
    },
    {
      "cell_type": "code",
      "execution_count": null,
      "metadata": {
        "id": "13zM04WMQ5hJ"
      },
      "outputs": [],
      "source": [
        "lib = gedim.ImportLibrary(\"./release/GeDiM4Py.so\")\n",
        "\n",
        "config = { 'GeometricTolerance': 1.0e-8 }\n",
        "gedim.Initialize(config, lib)"
      ]
    },
    {
      "cell_type": "markdown",
      "metadata": {
        "id": "Ubq1Ge_iQkak"
      },
      "source": [
        "## Poisson problem on variable geometry\n",
        "\n",
        "Solve the following equation on the domain ${\\tilde{\\Omega}} = \\tilde{\\Omega}_1 \\cup \\tilde{\\Omega}_2 =  (0, 1) \\times (0, 1) \\cup (1, 1+\n",
        "\\mu) \\times (0, 1)$\n",
        "\n",
        "$$\n",
        "\\begin{cases}\n",
        "\\nabla \\cdot (\\nabla u) = f & \\text{in } \\tilde{Ω}\\\\\n",
        "u = 0 & \\text{in } \\partial \\tilde{Ω}\n",
        "\\end{cases}\n",
        "$$\n",
        "\n",
        "The parametric space is $\\mathcal P = [1, 3.5]$."
      ]
    },
    {
      "cell_type": "markdown",
      "source": [
        "### Map to reference domain\n",
        "\n",
        "**Goal**: build the ROM space using a reference domain\n",
        "\n",
        "We choose as **reference domain** $\\Omega$ the case $\\mu = 1$.\n",
        "\n",
        "Thus, $\\Omega = \\Omega_1 \\cup \\Omega_2 = [0,1] \\times [0,1] \\cup [1,2] \\times [0,1]$.\n",
        "\n",
        "The affine transformations are the following:\n",
        "$$\\tilde{\\mathbf{x}} = \\Phi_{\\Omega_1}(\\mathbf{x}, \\mu) = \\mathbb{I}\\mathbf{x} + \\mathbf{0}= \\begin{bmatrix}\n",
        "1 & 0 \\\\\n",
        "0 & 1 \n",
        "\\end{bmatrix}\\mathbf{x} + \\begin{pmatrix}\n",
        "0\\\\\n",
        "0\n",
        "\\end{pmatrix} \\quad \\forall \\tilde{\\mathbf{x}} \\in \\tilde{\\Omega_1}$$\n",
        "$$\\tilde{\\mathbf{x}} = \\Phi_{\\Omega_2}(\\mathbf{x}, \\mu) = \\mathbb{A}\\mathbf{x} + \\mathbf{c} = \\begin{bmatrix}\n",
        "\\mu & 0 \\\\\n",
        "0 & 1 \n",
        "\\end{bmatrix}\\mathbf{x} + \\begin{pmatrix}\n",
        "1-\\mu\\\\\n",
        "0\n",
        "\\end{pmatrix} \\quad \\forall \\tilde{\\mathbf{x}} \\in \\tilde{\\Omega_2}$$\n",
        "\n",
        "Notice that\n",
        "$$J_{\\Phi_{\\Omega_2}} =\\begin{bmatrix}\n",
        "\\mu & 0 \\\\\n",
        "0 & 1 \n",
        "\\end{bmatrix} ⇒ J^{-1}_{\\Phi_{\\Omega_2}} =\\begin{bmatrix}\n",
        "\\frac{1}{\\mu} & 0 \\\\\n",
        "0 & 1 \n",
        "\\end{bmatrix}$$\n",
        "and $|J_{\\Phi_{\\Omega_2}}| = \\mu$"
      ],
      "metadata": {
        "id": "2LbKgDeI_L7G"
      }
    },
    {
      "cell_type": "code",
      "source": [
        "def Map(points, mu):\n",
        "  numPoints = points.shape[1]\n",
        "  mappedPoints = np.copy(points)\n",
        "\n",
        "  for p in range(1, numPoints):\n",
        "    if (points[0, p] > 1.0 + 1.0e-8):\n",
        "      mappedPoints[0, p] = mu * points[0, p] + (1. - mu)\n",
        "  return mappedPoints"
      ],
      "metadata": {
        "id": "ENlKxhIW_Iew"
      },
      "execution_count": null,
      "outputs": []
    },
    {
      "cell_type": "markdown",
      "source": [
        "### Problem data"
      ],
      "metadata": {
        "id": "zoC4Ng4V-3Et"
      }
    },
    {
      "cell_type": "markdown",
      "source": [
        "For this Lab we would like to find the solution\n",
        "$$u = 16 x y (1 + \\mu - x) (1-y)$$\n",
        "\n",
        "Thus, the forcing term reads\n",
        "$$f = 32 [x(1+\\mu-x) + y(1-y)]$$"
      ],
      "metadata": {
        "id": "Lmwh1YWJFc1f"
      }
    },
    {
      "cell_type": "code",
      "source": [
        "def forcing_term(points):\n",
        "  return 32.0 * (points[1,:] * (1.0 - points[1,:]) + points[0,:] * (1.0 + MU_TILDE - points[0,:]))\n",
        "def exact_solution(points):\n",
        "  return 16.0 * (points[1,:] * (1.0 - points[1,:]) * points[0,:] * (1.0 + MU_TILDE - points[0,:]))\n",
        "def exact_derivative_solution(direction, points):\n",
        "  if direction == 0:\n",
        "    values = 16.0 * (1.0 + MU_TILDE - 2.0 * points[0,:]) * points[1,:] * (1.0 - points[1,:])\n",
        "  elif direction == 1:\n",
        "    values = 16.0 * (1.0 - 2.0 * points[1,:]) * points[0,:] * (1.0 + MU_TILDE - points[0,:])\n",
        "  else:\n",
        "    values = np.zeros(points.shape[1])\n",
        "  return values"
      ],
      "metadata": {
        "id": "bBJ2f12UB2U3"
      },
      "execution_count": null,
      "outputs": []
    },
    {
      "cell_type": "markdown",
      "source": [
        "### Suggestions"
      ],
      "metadata": {
        "id": "Rq3ZOzS---AG"
      }
    },
    {
      "cell_type": "markdown",
      "source": [
        "The problem on the reference domain $Ω$ shall be computing applying the transformation function to the original problem.\n",
        "\n",
        "Thus we will have:\n",
        "\n",
        "$$\\tilde{a}(\\tilde{u}, \\tilde{v}) = \\int_{\\tilde{\\Omega}} \\tilde{\\nabla} \\tilde{u}(\\tilde{\\mathbf{x}})\\cdot \\tilde{\\nabla} \\tilde{v}(\\tilde{\\mathbf{x}}) = \\int_{\\Omega = \\Phi^{-1}(\\tilde{\\Omega})} \\tilde{\\nabla} \\tilde{u}(\\Phi(\\mathbf{x})) \\cdot \\tilde{\\nabla} \\tilde{v}(\\Phi(\\mathbf{x}))|J_{\\Phi}| ⇒ \\dots$$\n",
        "and:\n",
        "$$\\tilde{f}(\\tilde{v}) = \\int_{\\tilde{\\Omega}} \\tilde{f}(\\tilde{\\mathbf{x}})\\tilde{v}(\\tilde{\\mathbf{x}}) = \\int_{\\Omega = \\Phi^{-1}(\\tilde{\\Omega})} \\tilde{f}(\\Phi(\\mathbf{x})) \\tilde{v}(\\Phi(\\mathbf{x}))|J_{\\Phi}| ⇒ \\dots$$"
      ],
      "metadata": {
        "id": "ZvX3t-eRF7qY"
      }
    },
    {
      "cell_type": "markdown",
      "source": [
        "Moreover, you will need a new function to assemble the problem on the reference domain, able to assemble the stiffness matrix with a symmetric tensor $\\mathbb{K}$:\n",
        "$$\\mathbb{K}= \\begin{bmatrix}\n",
        "k_1 & k_2 \\\\\n",
        "k_2 & k_3 \n",
        "\\end{bmatrix}$$"
      ],
      "metadata": {
        "id": "70rB5e-cL-Ng"
      }
    },
    {
      "cell_type": "code",
      "source": [
        "def K(numPoints, points):\n",
        "  matPoints = gedim.make_nd_matrix(points, (3, numPoints), np.double)\n",
        "  k = np.zeros((3, numPoints), order='F') # this is the k tensor => for each point p [k_1, k_2, k_3]^T\n",
        "  for p in range(0, numPoints):\n",
        "      values[0, p] = k_1\n",
        "      values[1, p] = k_2\n",
        "      values[2, p] = k_3\n",
        "  return k.ctypes.data\n",
        "\n",
        "gedim.AssembleAnisotropicStiffnessMatrix(K, problemData, lib)"
      ],
      "metadata": {
        "id": "DjEs5nhrMDdd"
      },
      "execution_count": null,
      "outputs": []
    },
    {
      "cell_type": "markdown",
      "source": [
        "## Other Useful Functions"
      ],
      "metadata": {
        "id": "XCv0lk7uLwR_"
      }
    },
    {
      "cell_type": "code",
      "source": [
        "def normX(v, X):\n",
        "  return np.sqrt(np.transpose(v) @ X @ v)\n",
        "\n",
        "def ProjectSystem(AQH, fQH, B):\n",
        "    AQN = []\n",
        "    fQN = []\n",
        "    for AH in AQH:\n",
        "        AQN.append(np.copy(np.transpose(B) @ AH @ B))\n",
        "    for fH in fQH:\n",
        "        fQN.append(np.copy(np.transpose(B) @ fH))\n",
        "    return [AQN, fQN]\n",
        "\n",
        "def Solve_full_order(AQH, fQH, thetaA_mu, thetaF_mu):\n",
        "    A = thetaA_mu[0] * AQH[0]\n",
        "    f = thetaF_mu[0] * fQH[0]\n",
        "    for i in range(1, len(AQH)):\n",
        "        A += thetaA_mu[i] * AQH[i]\n",
        "    for i in range(1, len(fQH)):\n",
        "        f += thetaF_mu[i] * fQH[i]\n",
        "    return gedim.LUSolver(A, f, lib)\n",
        "\n",
        "def Solve_reduced_order(AQN, fQN, thetaA_mu, thetaF_mu):\n",
        "    A = thetaA_mu[0] * AQN[0]\n",
        "    f = thetaF_mu[0] * fQN[0]\n",
        "    for i in range(1, len(AQN)):\n",
        "        A += thetaA_mu[i] * AQN[i]\n",
        "    for i in range(1, len(fQN)):\n",
        "        f += thetaF_mu[i] * fQN[i]\n",
        "    return np.linalg.solve(A, f)\n",
        "\n",
        "def POD(AQH, fQH, X, N_max, tol):\n",
        "    #### snapshot matrix creation\n",
        "    snapshot_matrix = []\n",
        "\n",
        "    for mu in training_set:\n",
        "        snapshot = Solve_full_order(AQH, fQH, thetaA(mu), thetaF(mu))\n",
        "        snapshot_matrix.append(np.copy(snapshot))\n",
        "    \n",
        "    snapshot_matrix = np.array(snapshot_matrix) \n",
        "\n",
        "    ### covariance matrix\n",
        "    C = snapshot_matrix @ X @ np.transpose(snapshot_matrix) ## metti inner product\n",
        "    L_e, VM_e = np.linalg.eig(C)\n",
        "    eigenvalues = []\n",
        "    eigenvectors = []\n",
        "\n",
        "    for i in range(len(L_e)):\n",
        "        eig_real = L_e[i].real\n",
        "        eig_complex = L_e[i].imag\n",
        "        assert np.isclose(eig_complex, 0.)\n",
        "        eigenvalues.append(eig_real)\n",
        "        eigenvectors.append(VM_e[i].real)\n",
        "\n",
        "    total_energy = sum(eigenvalues)\n",
        "    retained_energy_vector = np.cumsum(eigenvalues)\n",
        "    relative_retained_energy = retained_energy_vector/total_energy\n",
        "\n",
        "    if all(flag==False for flag in relative_retained_energy >= (1.0 - tol)):\n",
        "        N = N_max\n",
        "    else:\n",
        "        N = np.argmax(relative_retained_energy >= (1.0 - tol)) + 1\n",
        "\n",
        "    # Create the basis function matrix\n",
        "    basis_functions = []\n",
        "    for n in range(N):\n",
        "        eigenvector =  eigenvectors[n]\n",
        "        # basis = (1/np.sqrt(M))*np.transpose(snapshot_matrix)@eigenvector \n",
        "        basis = np.transpose(snapshot_matrix) @ eigenvector\n",
        "        norm = normX(basis, X)\n",
        "        # norm = np.sqrt(np.transpose(basis)@basis)\n",
        "        basis /= norm\n",
        "        basis_functions.append(np.copy(basis))\n",
        "\n",
        "    return [N, np.transpose(np.array(basis_functions))]\n",
        "\n",
        "def TestSingleParameter(AQH, fQH, AQN, fQN, B, mu):\n",
        "    reduced_solution = Solve_reduced_order(AQN, fQN, thetaA(mu), thetaF(mu))\n",
        "    full_solution = Solve_full_order(AQH, fQH, thetaA(mu), thetaF(mu))\n",
        "\n",
        "    ###### plot #######\n",
        "    proj_reduced_solution = B @ reduced_solution\n",
        "\n",
        "    ### computing error\n",
        "    error_function = full_solution - proj_reduced_solution\n",
        "    error_norm_squared_component = np.transpose(error_function) @ X @ error_function\n",
        "    abs_err_ROM = np.sqrt(abs(error_norm_squared_component))\n",
        "\n",
        "    full_solution_norm_squared_component = np.transpose(full_solution) @ X @ full_solution\n",
        "    rel_err_ROM = abs_err_ROM / np.sqrt(abs(full_solution_norm_squared_component))\n",
        "\n",
        "    solutionStrong = np.zeros(problemData['NumberStrongs'])\n",
        "\n",
        "    map_mu = mu[0]\n",
        "    mappedMesh = Map(mesh, map_mu)\n",
        "    mappedDofs = Map(dofs, map_mu)\n",
        "    mappedStrongs = Map(strongs, map_mu)\n",
        "\n",
        "    gedim.PlotSolution(mappedMesh, mappedDofs, mappedStrongs, proj_reduced_solution, solutionStrong, \"MOR Solution\")\n",
        "    gedim.PlotSolution(mappedMesh, mappedDofs, mappedStrongs, full_solution, solutionStrong, \"FOR Solution\")\n",
        "      \n",
        "    return [rel_err_ROM, abs_err_ROM]"
      ],
      "metadata": {
        "id": "4zyFdA9pLyNV"
      },
      "execution_count": null,
      "outputs": []
    }
  ],
  "metadata": {
    "colab": {
      "provenance": []
    },
    "kernelspec": {
      "display_name": "Python 3 (ipykernel)",
      "language": "python",
      "name": "python3"
    },
    "language_info": {
      "codemirror_mode": {
        "name": "ipython",
        "version": 3
      },
      "file_extension": ".py",
      "mimetype": "text/x-python",
      "name": "python",
      "nbconvert_exporter": "python",
      "pygments_lexer": "ipython3",
      "version": "3.10.9"
    }
  },
  "nbformat": 4,
  "nbformat_minor": 0
}