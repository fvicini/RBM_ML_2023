{
  "cells": [
    {
      "cell_type": "markdown",
      "metadata": {
        "id": "2IGuNCbv2QpF"
      },
      "source": [
        "# **Geometric Parametrization**\n",
        "This lab focuses on performing a ROM on a parametric system with variable domain geometry."
      ]
    },
    {
      "cell_type": "code",
      "execution_count": null,
      "metadata": {
        "id": "HOKm4Cpr0agg"
      },
      "outputs": [],
      "source": [
        "!git clone https://github.com/fvicini/CppToPython.git\n",
        "%cd CppToPython"
      ]
    },
    {
      "cell_type": "code",
      "execution_count": null,
      "metadata": {
        "id": "gVlYTB8mifCl"
      },
      "outputs": [],
      "source": [
        "!git submodule init\n",
        "!git submodule update"
      ]
    },
    {
      "cell_type": "code",
      "execution_count": null,
      "metadata": {
        "id": "Xezfpm75i_FG"
      },
      "outputs": [],
      "source": [
        "!mkdir -p externals\n",
        "%cd externals\n",
        "!cmake -DINSTALL_VTK=OFF -DINSTALL_LAPACK=OFF ../gedim/3rd_party_libraries\n",
        "!make -j4\n",
        "%cd .."
      ]
    },
    {
      "cell_type": "code",
      "execution_count": null,
      "metadata": {
        "id": "2LamP-IF1tLt"
      },
      "outputs": [],
      "source": [
        "!mkdir -p release\n",
        "%cd release \n",
        "!cmake -DCMAKE_PREFIX_PATH=\"/content/CppToPython/externals/Main_Install/eigen3;/content/CppToPython/externals/Main_Install/triangle;/content/CppToPython/externals/Main_Install/tetgen;/content/CppToPython/externals/Main_Install/googletest\" ../\n",
        "!make -j4 GeDiM4Py\n",
        "%cd .."
      ]
    },
    {
      "cell_type": "code",
      "execution_count": null,
      "metadata": {
        "id": "BeaV-lky4gkR"
      },
      "outputs": [],
      "source": [
        "import numpy as np\n",
        "import GeDiM4Py as gedim\n",
        "from scipy.sparse.linalg import splu\n",
        "import time"
      ]
    },
    {
      "cell_type": "code",
      "execution_count": null,
      "metadata": {
        "id": "13zM04WMQ5hJ"
      },
      "outputs": [],
      "source": [
        "lib = gedim.ImportLibrary(\"./release/GeDiM4Py.so\")\n",
        "\n",
        "config = { 'GeometricTolerance': 1.0e-8 }\n",
        "gedim.Initialize(config, lib)"
      ]
    },
    {
      "cell_type": "markdown",
      "metadata": {
        "id": "Ubq1Ge_iQkak"
      },
      "source": [
        "## Poisson problem on variable geometry\n",
        "\n",
        "Solve the following equation on the domain ${\\tilde{\\Omega}} = \\tilde{\\Omega}_1 \\cup \\tilde{\\Omega}_2 =  (0, 1) \\times (0, 1) \\cup (1, 1+\n",
        "\\mu) \\times (0, 1)$\n",
        "\n",
        "$$\n",
        "\\begin{cases}\n",
        "\\nabla \\cdot (\\nabla u) = f & \\text{in } \\tilde{Ω}\\\\\n",
        "u = 0 & \\text{in } \\partial \\tilde{Ω}\n",
        "\\end{cases}\n",
        "$$\n",
        "\n",
        "The parametric space is $\\mathcal P = [1, 3.5]$."
      ]
    },
    {
      "cell_type": "markdown",
      "source": [
        "### Map to reference domain\n",
        "\n",
        "**Goal**: build the ROM space using a reference domain\n",
        "\n",
        "We choose as **reference domain** $\\Omega$ the case $\\mu = 1$.\n",
        "\n",
        "Thus, $\\Omega = \\Omega_1 \\cup \\Omega_2 = [0,1] \\times [0,1] \\cup [1,2] \\times [0,1]$.\n",
        "\n",
        "The affine transformations are the following:\n",
        "$$\\tilde{\\mathbf{x}} = \\Phi_{\\Omega_1}(\\mathbf{x}, \\mu) = \\mathbb{I}\\mathbf{x} + \\mathbf{0}= \\begin{bmatrix}\n",
        "1 & 0 \\\\\n",
        "0 & 1 \n",
        "\\end{bmatrix}\\mathbf{x} + \\begin{pmatrix}\n",
        "0\\\\\n",
        "0\n",
        "\\end{pmatrix} \\quad \\forall \\tilde{\\mathbf{x}} \\in \\tilde{\\Omega_1}$$\n",
        "$$\\tilde{\\mathbf{x}} = \\Phi_{\\Omega_2}(\\mathbf{x}, \\mu) = \\mathbb{A}\\mathbf{x} + \\mathbf{c} = \\begin{bmatrix}\n",
        "\\mu & 0 \\\\\n",
        "0 & 1 \n",
        "\\end{bmatrix}\\mathbf{x} + \\begin{pmatrix}\n",
        "1-\\mu\\\\\n",
        "0\n",
        "\\end{pmatrix} \\quad \\forall \\tilde{\\mathbf{x}} \\in \\tilde{\\Omega_2}$$\n",
        "\n",
        "Notice that\n",
        "$$J_{\\Phi_{\\Omega_2}} =\\begin{bmatrix}\n",
        "\\mu & 0 \\\\\n",
        "0 & 1 \n",
        "\\end{bmatrix} ⇒ J^{-1}_{\\Phi_{\\Omega_2}} =\\begin{bmatrix}\n",
        "\\frac{1}{\\mu} & 0 \\\\\n",
        "0 & 1 \n",
        "\\end{bmatrix}$$\n",
        "and $|J_{\\Phi_{\\Omega_2}}| = \\mu$"
      ],
      "metadata": {
        "id": "2LbKgDeI_L7G"
      }
    },
    {
      "cell_type": "code",
      "source": [
        "def Map(points, mu):\n",
        "  numPoints = points.shape[1]\n",
        "  mappedPoints = np.copy(points)\n",
        "\n",
        "  for p in range(1, numPoints):\n",
        "    if (points[0, p] > 1.0 + 1.0e-8):\n",
        "      mappedPoints[0, p] = mu * points[0, p] + (1. - mu)\n",
        "  return mappedPoints"
      ],
      "metadata": {
        "id": "ENlKxhIW_Iew"
      },
      "execution_count": null,
      "outputs": []
    },
    {
      "cell_type": "markdown",
      "source": [
        "### Problem data"
      ],
      "metadata": {
        "id": "zoC4Ng4V-3Et"
      }
    },
    {
      "cell_type": "markdown",
      "source": [
        "For this Lab we would like to find the solution\n",
        "$$u = 16 x y (1 + \\mu - x) (1-y)$$\n",
        "\n",
        "Thus, the forcing term reads\n",
        "$$f = 32 [x(1+\\mu-x) + y(1-y)]$$"
      ],
      "metadata": {
        "id": "Lmwh1YWJFc1f"
      }
    },
    {
      "cell_type": "code",
      "source": [
        "def forcing_term(points):\n",
        "  return 32.0 * (points[1,:] * (1.0 - points[1,:]) + points[0,:] * (1.0 + MU_TILDE - points[0,:]))\n",
        "def exact_solution(points):\n",
        "  return 16.0 * (points[1,:] * (1.0 - points[1,:]) * points[0,:] * (1.0 + MU_TILDE - points[0,:]))\n",
        "def exact_derivative_solution(direction, points):\n",
        "  if direction == 0:\n",
        "    values = 16.0 * (1.0 + MU_TILDE - 2.0 * points[0,:]) * points[1,:] * (1.0 - points[1,:])\n",
        "  elif direction == 1:\n",
        "    values = 16.0 * (1.0 - 2.0 * points[1,:]) * points[0,:] * (1.0 + MU_TILDE - points[0,:])\n",
        "  else:\n",
        "    values = np.zeros(points.shape[1])\n",
        "  return values"
      ],
      "metadata": {
        "id": "bBJ2f12UB2U3"
      },
      "execution_count": null,
      "outputs": []
    },
    {
      "cell_type": "markdown",
      "source": [
        "### Forcing Terms with map applied"
      ],
      "metadata": {
        "id": "Rq3ZOzS---AG"
      }
    },
    {
      "cell_type": "markdown",
      "source": [
        "The problem on the reference domain $Ω$ shall be computing applying the transformation function to the original problem.\n",
        "\n",
        "Thus we will have:\n",
        "\n",
        "$$\\tilde{a}(\\tilde{u}, \\tilde{v}) = \\int_{\\tilde{\\Omega}} \\tilde{\\nabla} \\tilde{u}(\\tilde{\\mathbf{x}})\\cdot \\tilde{\\nabla} \\tilde{v}(\\tilde{\\mathbf{x}}) = \\int_{\\Omega = \\Phi^{-1}(\\tilde{\\Omega})} \\tilde{\\nabla} \\tilde{u}(\\Phi(\\mathbf{x})) \\cdot \\tilde{\\nabla} \\tilde{v}(\\Phi(\\mathbf{x}))|J_{\\Phi}| ⇒$$\n",
        "$$a(u, v) = \\int_{\\Omega = \\Phi^{-1}(\\tilde{\\Omega})} [J_{\\Phi}^{-1}\\nabla u(\\mathbf{x})] \\cdot [J_{\\Phi}^{-1}\\nabla v(\\mathbf{x})]|J_{\\Phi}|$$\n",
        "and:\n",
        "$$\\tilde{f}(\\tilde{v}) = \\int_{\\tilde{\\Omega}} \\tilde{f}(\\tilde{\\mathbf{x}})\\tilde{v}(\\tilde{\\mathbf{x}}) = \\int_{\\Omega = \\Phi^{-1}(\\tilde{\\Omega})} \\tilde{f}(\\Phi(\\mathbf{x})) \\tilde{v}(\\Phi(\\mathbf{x}))|J_{\\Phi}| ⇒$$\n",
        "$$f(v) = \\int_{\\Omega = \\Phi^{-1}(\\tilde{\\Omega})} f(\\mathbf{x}) v(\\mathbf{x})|J_{\\Phi}|$$\n",
        "\n",
        "**NB** $\\tilde{f}$ and $f$ are NOT the same function, as $f = \\tilde{f} \\circ \\Phi$ !!!"
      ],
      "metadata": {
        "id": "ZvX3t-eRF7qY"
      }
    },
    {
      "cell_type": "code",
      "source": [
        "def forcing_term_ref_11(points):\n",
        "  return 32.0 * (points[1,:] * (1.0 - points[1,:]) + points[0,:] * (1.0 - points[0,:]))\n",
        "def forcing_term_ref_12(points):\n",
        "  return 32.0 * points[0,:]\n",
        "def forcing_term_ref_21(points):\n",
        "  return 32.0 * (points[1,:] * (1.0 - points[1,:]))\n",
        "def forcing_term_ref_22(points):\n",
        "  return 32.0 * (points[0,:] * (2.0 - points[0,:]))\n",
        "def forcing_term_ref_23(points):\n",
        "  return 32.0 * (2.0 - points[0,:])"
      ],
      "metadata": {
        "id": "pGtPu1ri9gaC"
      },
      "execution_count": null,
      "outputs": []
    },
    {
      "cell_type": "markdown",
      "source": [
        "### Function for assembling the Offline problem"
      ],
      "metadata": {
        "id": "SSE0PFZU_fzw"
      }
    },
    {
      "cell_type": "code",
      "source": [
        "def OmegaTilde1(numPoints, points):\n",
        "  matPoints = gedim.make_nd_matrix(points, (3, numPoints), np.double)\n",
        "  values = np.zeros(numPoints)\n",
        "  for p in range(0, numPoints):\n",
        "    if (matPoints[0,p] <= (1.0 + 1.0e-8)):\n",
        "      values[p] = 1.\n",
        "  return values.ctypes.data\n",
        "def OmegaTilde2_1(numPoints, points):\n",
        "  matPoints = gedim.make_nd_matrix(points, (3, numPoints), np.double)\n",
        "  values = np.zeros((3, numPoints), order='F')\n",
        "  for p in range(0, numPoints):\n",
        "    if (matPoints[0,p] > (1.0 + 1.0e-8)):\n",
        "      values[0, p] = 1.\n",
        "  return values.ctypes.data\n",
        "def OmegaTilde2_2(numPoints, points):\n",
        "  matPoints = gedim.make_nd_matrix(points, (3, numPoints), np.double)\n",
        "  values = np.zeros((3, numPoints), order='F')\n",
        "  for p in range(0, numPoints):\n",
        "    if (matPoints[0,p] > (1.0 + 1.0e-8)):\n",
        "      values[2, p] = 1.\n",
        "  return values.ctypes.data\n",
        "\n",
        "def ForcingTerm(numPoints, points):\n",
        "  matPoints = gedim.make_nd_matrix(points, (3, numPoints), np.double)\n",
        "  values = forcing_term(matPoints)\n",
        "  return values.ctypes.data\n",
        "def Poisson_exactSolution(numPoints, points):\n",
        "  matPoints = gedim.make_nd_matrix(points, (3, numPoints), np.double)\n",
        "  values = exact_solution(matPoints)\n",
        "  return values.ctypes.data\n",
        "def Poisson_exactDerivativeSolution(direction, numPoints, points):\n",
        "  matPoints = gedim.make_nd_matrix(points, (3, numPoints), np.double)\n",
        "  values = exact_derivative_solution(direction, matPoints)\n",
        "  return values.ctypes.data\n",
        "\n",
        "def ForcingTerm11(numPoints, points):\n",
        "  matPoints = gedim.make_nd_matrix(points, (3, numPoints), np.double)\n",
        "  values = forcing_term_ref_11(matPoints)\n",
        "  for p in range(0, numPoints):\n",
        "    if (matPoints[0, p] > (1.0 + 1.0e-8)):\n",
        "      values[p] = 0. \n",
        "  return values.ctypes.data\n",
        "def ForcingTerm12(numPoints, points):\n",
        "  matPoints = gedim.make_nd_matrix(points, (3, numPoints), np.double)\n",
        "  values = forcing_term_ref_12(matPoints)\n",
        "  for p in range(0, numPoints):\n",
        "    if (matPoints[0, p] > (1.0 + 1.0e-8)):\n",
        "      values[p] = 0. \n",
        "  return values.ctypes.data\n",
        "\n",
        "def ForcingTerm21(numPoints, points):\n",
        "  matPoints = gedim.make_nd_matrix(points, (3, numPoints), np.double)\n",
        "  values = forcing_term_ref_21(matPoints)\n",
        "  for p in range(0, numPoints):\n",
        "    if (matPoints[0, p] <= (1.0 + 1.0e-8)):\n",
        "      values[p] = 0. \n",
        "  return values.ctypes.data\n",
        "def ForcingTerm22(numPoints, points):\n",
        "  matPoints = gedim.make_nd_matrix(points, (3, numPoints), np.double)\n",
        "  values = forcing_term_ref_22(matPoints)\n",
        "  for p in range(0, numPoints):\n",
        "    if (matPoints[0, p] <= (1.0 + 1.0e-8)):\n",
        "      values[p] = 0. \n",
        "  return values.ctypes.data\n",
        "def ForcingTerm23(numPoints, points):\n",
        "  matPoints = gedim.make_nd_matrix(points, (3, numPoints), np.double)\n",
        "  values = forcing_term_ref_23(matPoints)\n",
        "  for p in range(0, numPoints):\n",
        "    if (matPoints[0, p] <= (1.0 + 1.0e-8)):\n",
        "      values[p] = 0. \n",
        "  return values.ctypes.data"
      ],
      "metadata": {
        "id": "QTkcPuYq_XeE"
      },
      "execution_count": null,
      "outputs": []
    },
    {
      "cell_type": "markdown",
      "metadata": {
        "id": "q9JEfUdDRH5W"
      },
      "source": [
        "**Let us code the OFFLINE PHASE**"
      ]
    },
    {
      "cell_type": "code",
      "execution_count": null,
      "metadata": {
        "id": "nfzHSAXORH5X"
      },
      "outputs": [],
      "source": [
        "order = 1"
      ]
    },
    {
      "cell_type": "markdown",
      "source": [
        "**CASE 1** - Creating Mesh Non-Conformed to the interface"
      ],
      "metadata": {
        "id": "kT5a-6eICiuz"
      }
    },
    {
      "cell_type": "code",
      "execution_count": null,
      "metadata": {
        "id": "gFrwWHkGRTcM"
      },
      "outputs": [],
      "source": [
        "meshSize = 0.01\n",
        "domain = { 'RectangleBase': 2.0, 'RectangleHeight': 1.0, 'VerticesBoundaryCondition': [1,1,1,1], 'EdgesBoundaryCondition': [1,1,1,1], 'DiscretizationType': 1, 'MeshCellsMaximumArea': meshSize }\n",
        "[meshInfo, mesh] = gedim.CreateDomainRectangle(domain, lib)"
      ]
    },
    {
      "cell_type": "markdown",
      "source": [
        "**CASE 2** - Importing Mesh Conformed to the interface"
      ],
      "metadata": {
        "id": "UNOZYwEeCvZ0"
      }
    },
    {
      "cell_type": "code",
      "source": [
        "%%writefile ImportMesh.csv\n",
        "InputFolderPath\n",
        "./Meshes/Mesh6"
      ],
      "metadata": {
        "id": "pt2BXt6aDK68"
      },
      "execution_count": null,
      "outputs": []
    },
    {
      "cell_type": "code",
      "source": [
        "[meshInfo, mesh] = gedim.ImportDomainMesh2D(lib)"
      ],
      "metadata": {
        "id": "AzaTIdt7Cr00"
      },
      "execution_count": null,
      "outputs": []
    },
    {
      "cell_type": "code",
      "execution_count": null,
      "metadata": {
        "id": "FifaSs5tRWLp"
      },
      "outputs": [],
      "source": [
        "gedim.PlotMesh(mesh)"
      ]
    },
    {
      "cell_type": "markdown",
      "metadata": {
        "id": "ZFLs55ZIRjRw"
      },
      "source": [
        "### FEM space (the High Fidelity approximation)"
      ]
    },
    {
      "cell_type": "code",
      "execution_count": null,
      "metadata": {
        "id": "vtVL7IqnRlra"
      },
      "outputs": [],
      "source": [
        "discreteSpace = { 'Order': order, 'Type': 1, 'BoundaryConditionsType': [1, 2] }\n",
        "[problemData, dofs, strongs] = gedim.Discretize(discreteSpace, lib)"
      ]
    },
    {
      "cell_type": "code",
      "execution_count": null,
      "metadata": {
        "id": "tNKv663YRvMJ"
      },
      "outputs": [],
      "source": [
        "gedim.PlotDofs(mesh, dofs, strongs)"
      ]
    },
    {
      "cell_type": "markdown",
      "metadata": {
        "id": "9-GPibkUR0yD"
      },
      "source": [
        "### Assemble linear system exploting affinity\n",
        "We define everything that is parameter independent:\n",
        "$$\\mathbb{A}_i,\\ i \\in \\{0,\\dots, q_a\\} \\quad \\mathbf{f}_j,\\ j \\in \\{0,\\dots, q_f\\}.$$\n",
        "Moreover, we define the matrix $\\mathbb{X}$ related to the scalar product of the problem at hand.\n",
        "Finally, we create the parameter dependent variable:\n",
        "$$θ^a_i(\\boldsymbol{\\mu}),\\ i \\in \\{0,\\dots, q_a\\} \\quad θ^f_j(\\boldsymbol{\\mu}),\\ j \\in \\{0,\\dots, q_f\\}$$\n"
      ]
    },
    {
      "cell_type": "code",
      "execution_count": null,
      "metadata": {
        "id": "g7XmYDOGR1m4"
      },
      "outputs": [],
      "source": [
        "[stiffness1, stiffnessStrong1] = gedim.AssembleStiffnessMatrix(OmegaTilde1, problemData, lib)\n",
        "[stiffness2_1, stiffnessStrong2_1] = gedim.AssembleAnisotropicStiffnessMatrix(OmegaTilde2_1, problemData, lib)\n",
        "[stiffness2_2, stiffnessStrong2_2] = gedim.AssembleAnisotropicStiffnessMatrix(OmegaTilde2_2, problemData, lib)\n",
        "\n",
        "forcingTerm11 = gedim.AssembleForcingTerm(ForcingTerm11, problemData, lib)\n",
        "forcingTerm12 = gedim.AssembleForcingTerm(ForcingTerm12, problemData, lib)\n",
        "forcingTerm21 = gedim.AssembleForcingTerm(ForcingTerm21, problemData, lib)\n",
        "forcingTerm22 = gedim.AssembleForcingTerm(ForcingTerm22, problemData, lib)\n",
        "forcingTerm23 = gedim.AssembleForcingTerm(ForcingTerm23, problemData, lib)\n",
        "\n",
        "X = stiffness1 + stiffness2_1 + stiffness2_2\n",
        "\n",
        "### define the problem\n",
        "AQH = [stiffness1, stiffness2_1, stiffness2_2]\n",
        "fQH = [forcingTerm11, forcingTerm12, forcingTerm21, forcingTerm22, forcingTerm23]\n",
        "\n",
        "def thetaA(mu):\n",
        "  return [1.0, 1.0 / mu[0], mu[0]]\n",
        "def thetaF(mu):\n",
        "  return [1.0, mu[0], mu[0], mu[0] * mu[0] * mu[0], mu[0] * mu[0] * (1.0 - mu[0])]"
      ]
    },
    {
      "cell_type": "markdown",
      "source": [
        "We will define some useful functions to perform computations:"
      ],
      "metadata": {
        "id": "OqpcVJhuxJ_4"
      }
    },
    {
      "cell_type": "code",
      "source": [
        "def normX(v, X):\n",
        "\treturn np.sqrt(np.transpose(v) @ X @ v)\n",
        "\n",
        "def ProjectSystem(AQH, fQH, B):\n",
        "    AQN = []\n",
        "    fQN = []\n",
        "    for AH in AQH:\n",
        "        AQN.append(np.copy(np.transpose(B) @ AH @ B))\n",
        "    for fH in fQH:\n",
        "        fQN.append(np.copy(np.transpose(B) @ fH))\n",
        "    return [AQN, fQN]\n",
        "\n",
        "def Solve_full_order(AQH, fQH, thetaA_mu, thetaF_mu):\n",
        "    A = thetaA_mu[0] * AQH[0]\n",
        "    f = thetaF_mu[0] * fQH[0]\n",
        "    for i in range(1, len(AQH)):\n",
        "        A += thetaA_mu[i] * AQH[i]\n",
        "    for i in range(1, len(fQH)):\n",
        "        f += thetaF_mu[i] * fQH[i]\n",
        "    return gedim.LUSolver(A, f, lib)\n",
        "\n",
        "def Solve_reduced_order(AQN, fQN, thetaA_mu, thetaF_mu):\n",
        "    A = thetaA_mu[0] * AQN[0]\n",
        "    f = thetaF_mu[0] * fQN[0]\n",
        "    for i in range(1, len(AQN)):\n",
        "        A += thetaA_mu[i] * AQN[i]\n",
        "    for i in range(1, len(fQN)):\n",
        "        f += thetaF_mu[i] * fQN[i]\n",
        "    return np.linalg.solve(A, f)"
      ],
      "metadata": {
        "id": "-HvwhZwDxNYp"
      },
      "execution_count": null,
      "outputs": []
    },
    {
      "cell_type": "markdown",
      "source": [
        "We here define the finite parametric space $\\mathcal P_{train}$, with random uniform distributed realization of $\\boldsymbol \\mu$.\n",
        "The cardinality of $\\mathcal P_{train}$ is set to $M=100$."
      ],
      "metadata": {
        "id": "9lmJ6XjuZGI8"
      }
    },
    {
      "cell_type": "code",
      "execution_count": null,
      "metadata": {
        "id": "I2dzS4-3dZm2"
      },
      "outputs": [],
      "source": [
        "### define the training set\n",
        "M = 100\n",
        "mu1_range = [1.0, 3.5]\n",
        "P = np.array([mu1_range])\n",
        "\n",
        "training_set = np.random.uniform(low=P[:, 0], high=P[:, 1], size=(M, P.shape[0]))"
      ]
    },
    {
      "cell_type": "markdown",
      "source": [
        "### POD\n",
        "\n"
      ],
      "metadata": {
        "id": "Mr8_qs8YxErD"
      }
    },
    {
      "cell_type": "code",
      "source": [
        "def POD(AQH, fQH, X, N_max, tol):\n",
        "    #### snapshot matrix creation\n",
        "    snapshot_matrix = []\n",
        "\n",
        "    for mu in training_set:\n",
        "        snapshot = Solve_full_order(AQH, fQH, thetaA(mu), thetaF(mu))\n",
        "        snapshot_matrix.append(np.copy(snapshot))\n",
        "    \n",
        "    snapshot_matrix = np.array(snapshot_matrix) \n",
        "\n",
        "    ### covariance matrix\n",
        "    C = snapshot_matrix @ X @ np.transpose(snapshot_matrix) ## metti inner product\n",
        "    L_e, VM_e = np.linalg.eig(C)\n",
        "    eigenvalues = []\n",
        "    eigenvectors = []\n",
        "\n",
        "    for i in range(len(L_e)):\n",
        "        eig_real = L_e[i].real\n",
        "        eig_complex = L_e[i].imag\n",
        "        assert np.isclose(eig_complex, 0.)\n",
        "        eigenvalues.append(eig_real)\n",
        "        eigenvectors.append(VM_e[i].real)\n",
        "\n",
        "    total_energy = sum(eigenvalues)\n",
        "    retained_energy_vector = np.cumsum(eigenvalues)\n",
        "    relative_retained_energy = retained_energy_vector/total_energy\n",
        "\n",
        "    if all(flag==False for flag in relative_retained_energy >= (1.0 - tol)):\n",
        "        N = N_max\n",
        "    else:\n",
        "        N = np.argmax(relative_retained_energy >= (1.0 - tol)) + 1\n",
        "\n",
        "    # Create the basis function matrix\n",
        "    basis_functions = []\n",
        "    for n in range(N):\n",
        "        eigenvector =  eigenvectors[n]\n",
        "        # basis = (1/np.sqrt(M))*np.transpose(snapshot_matrix)@eigenvector \n",
        "        basis = np.transpose(snapshot_matrix) @ eigenvector\n",
        "        norm = normX(basis, X)\n",
        "        # norm = np.sqrt(np.transpose(basis)@basis)\n",
        "        basis /= norm\n",
        "        basis_functions.append(np.copy(basis))\n",
        "\n",
        "    return [N, np.transpose(np.array(basis_functions))]"
      ],
      "metadata": {
        "id": "C-zNCCnaxDwh"
      },
      "execution_count": null,
      "outputs": []
    },
    {
      "cell_type": "markdown",
      "source": [
        "### Offline Phase\n"
      ],
      "metadata": {
        "id": "cCwwUAKRWi5A"
      }
    },
    {
      "cell_type": "code",
      "source": [
        "tol = 1.0e-7\n",
        "N_max = 20"
      ],
      "metadata": {
        "id": "uGvHXN1RW3E6"
      },
      "execution_count": null,
      "outputs": []
    },
    {
      "cell_type": "markdown",
      "source": [
        "We perform now the POD as for comparison:"
      ],
      "metadata": {
        "id": "sakp3wg6W5EN"
      }
    },
    {
      "cell_type": "code",
      "execution_count": null,
      "metadata": {
        "id": "TwmcTXRtWi5K"
      },
      "outputs": [],
      "source": [
        "### Compute POD\n",
        "[N_POD, B_POD] = POD(AQH, fQH, X, N_max, tol)\n",
        "[AQN_POD, fQN_POD] = ProjectSystem(AQH, fQH, B_POD)"
      ]
    },
    {
      "cell_type": "markdown",
      "metadata": {
        "id": "TcVTiQGqR-oz"
      },
      "source": [
        "### Online Phase\n",
        "\n",
        "In the _online phase_ we can use all the pre-assembled quantities to generate a new solution for a new parameter. \n",
        "\n"
      ]
    },
    {
      "cell_type": "code",
      "execution_count": null,
      "metadata": {
        "id": "DfINEnRbR_31"
      },
      "outputs": [],
      "source": [
        "mu_test = 3.5\n",
        "MU_TILDE = mu_test"
      ]
    },
    {
      "cell_type": "code",
      "source": [
        "def TestSingleParameter(AQH, fQH, AQN, fQN, B, mu):\n",
        "    reduced_solution = Solve_reduced_order(AQN, fQN, thetaA(mu), thetaF(mu))\n",
        "    full_solution = Solve_full_order(AQH, fQH, thetaA(mu), thetaF(mu))\n",
        "\n",
        "    ###### plot #######\n",
        "    proj_reduced_solution = B @ reduced_solution\n",
        "\n",
        "    ### computing error\n",
        "    error_function = full_solution - proj_reduced_solution\n",
        "    error_norm_squared_component = np.transpose(error_function) @ X @ error_function\n",
        "    abs_err_ROM = np.sqrt(abs(error_norm_squared_component))\n",
        "\n",
        "    full_solution_norm_squared_component = np.transpose(full_solution) @ X @ full_solution\n",
        "    rel_err_ROM = abs_err_ROM / np.sqrt(abs(full_solution_norm_squared_component))\n",
        "\n",
        "    solutionStrong = np.zeros(problemData['NumberStrongs'])\n",
        "\n",
        "    map_mu = mu[0]\n",
        "    mappedMesh = Map(mesh, map_mu)\n",
        "    mappedDofs = Map(dofs, map_mu)\n",
        "    mappedStrongs = Map(strongs, map_mu)\n",
        "\n",
        "    exact_solution_Dofs = exact_solution(mappedDofs)\n",
        "    exact_solution_norm_squared_component = np.transpose(exact_solution_Dofs) @ X @ exact_solution_Dofs\n",
        "\n",
        "    gedim.PlotSolution(mappedMesh, mappedDofs, mappedStrongs, exact_solution_Dofs, solutionStrong, \"EXACT Solution\")\n",
        "    gedim.PlotSolution(mappedMesh, mappedDofs, mappedStrongs, full_solution, solutionStrong, \"FULL ORDER Solution\")\n",
        "    gedim.PlotSolution(mappedMesh, mappedDofs, mappedStrongs, proj_reduced_solution, solutionStrong, \"REDUCED ORDER Solution\")\n",
        "    \n",
        "    abs_err_L2 = gedim.ComputeErrorL2(Poisson_exactSolution, full_solution, solutionStrong, lib)\n",
        "    abs_err_H1 = gedim.ComputeErrorH1(Poisson_exactDerivativeSolution, full_solution, solutionStrong, lib)\n",
        "    rel_err_L2 = abs_err_L2 / np.sqrt(abs(exact_solution_norm_squared_component))\n",
        "    rel_err_H1 = abs_err_H1 / np.sqrt(abs(exact_solution_norm_squared_component))\n",
        "  \n",
        "    return [rel_err_ROM, abs_err_ROM, rel_err_L2, abs_err_L2, rel_err_H1, abs_err_H1]"
      ],
      "metadata": {
        "id": "ClnjLeqCmIJv"
      },
      "execution_count": null,
      "outputs": []
    },
    {
      "cell_type": "code",
      "execution_count": null,
      "metadata": {
        "id": "JdIlITaWSkRW"
      },
      "outputs": [],
      "source": [
        "[rel_err_ROM, abs_err_ROM, rel_err_L2, abs_err_L2, rel_err_H1, abs_err_H1] = TestSingleParameter(AQH, fQH, AQN_POD, fQN_POD, B_POD, [mu_test])\n",
        "\n",
        "print(\"DOFs\",\"N\",\"rel_err_ROM\",\"abs_err_ROM\",\"rel_err_L2\",\"abs_err_L2\",\"rel_err_H1\",\"abs_err_H1\")\n",
        "print(problemData['NumberDOFs'],\\\n",
        "          N_POD,\\\n",
        "          '{:.4e}'.format(np.mean(rel_err_ROM)),\\\n",
        "          '{:.4e}'.format(np.mean(abs_err_ROM)),\\\n",
        "          '{:.4e}'.format(np.mean(rel_err_L2)),\\\n",
        "          '{:.4e}'.format(np.mean(abs_err_L2)),\\\n",
        "          '{:.4e}'.format(np.mean(rel_err_H1)),\\\n",
        "          '{:.4e}'.format(np.mean(abs_err_H1)))"
      ]
    },
    {
      "cell_type": "markdown",
      "source": [
        "We can now compute an error analysis over the parametric space, together with a _speed-up_ anaslysis.\n",
        "\n",
        "The speed-up is an index that evaluated how many ROM solution I can obtain in the time of a FOM simulation."
      ],
      "metadata": {
        "id": "wol_tgKRmOyw"
      }
    },
    {
      "cell_type": "code",
      "source": [
        "def Avg_error(AQH, fQH, AQN, fQN, B):\n",
        "    ### compute avg error\n",
        "    abs_err = []\n",
        "    rel_err = []\n",
        "    testing_set = np.random.uniform(low=P[:, 0], high=P[:, 1], size=(100, P.shape[0]))\n",
        "    speed_up = []\n",
        "\n",
        "    print(\"Computing error and speedup analysis...\")\n",
        "\n",
        "    for mu in testing_set:\n",
        "        ##### full #####\n",
        "        start_fom = time.time()\n",
        "        full_solution = Solve_full_order(AQH, fQH, thetaA(mu), thetaF(mu))\n",
        "        time_fom = time.time() - start_fom\n",
        "\n",
        "        #### reduced #####\n",
        "        start_rom = time.time()\n",
        "        reduced_solution = Solve_reduced_order(AQN, fQN, thetaA(mu), thetaF(mu))\n",
        "        time_rom = time.time() - start_rom\n",
        "\n",
        "        speed_up.append(time_fom / time_rom)\n",
        "\n",
        "        proj_reduced_solution = B @ reduced_solution\n",
        "\n",
        "        ### computing error\n",
        "        error_function = full_solution - proj_reduced_solution\n",
        "        error_norm_squared_component = np.transpose(error_function) @ X @ error_function\n",
        "        absolute_error = np.sqrt(abs(error_norm_squared_component))\n",
        "        abs_err.append(absolute_error)\n",
        "\n",
        "        full_solution_norm_squared_component = np.transpose(full_solution) @  X @ full_solution\n",
        "        relative_error = absolute_error/np.sqrt(abs(full_solution_norm_squared_component))\n",
        "        rel_err.append(relative_error)\n",
        "    \n",
        "    return [rel_err, abs_err, speed_up]"
      ],
      "metadata": {
        "id": "Il8bS-Al16SV"
      },
      "execution_count": null,
      "outputs": []
    },
    {
      "cell_type": "code",
      "source": [
        "[rel_err_POD, abs_err_POD, speed_up_POD] = Avg_error(AQH, fQH, AQN_POD, fQN_POD, B_POD)\n",
        "print(\"- Average POD relative error = \", '{:.16e}'.format(np.mean(rel_err_POD)) )\n",
        "print(\"- Average POD absolute error = \", '{:.16e}'.format(np.mean(abs_err_POD)) )\n",
        "print(\"- Average POD speed_up       = \", '{:.16e}'.format(np.mean(speed_up_POD)))"
      ],
      "metadata": {
        "id": "oxQFFzPdt7nE"
      },
      "execution_count": null,
      "outputs": []
    }
  ],
  "metadata": {
    "colab": {
      "provenance": []
    },
    "kernelspec": {
      "display_name": "Python 3 (ipykernel)",
      "language": "python",
      "name": "python3"
    },
    "language_info": {
      "codemirror_mode": {
        "name": "ipython",
        "version": 3
      },
      "file_extension": ".py",
      "mimetype": "text/x-python",
      "name": "python",
      "nbconvert_exporter": "python",
      "pygments_lexer": "ipython3",
      "version": "3.10.9"
    }
  },
  "nbformat": 4,
  "nbformat_minor": 0
}