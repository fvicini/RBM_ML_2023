{
  "cells": [
    {
      "cell_type": "markdown",
      "metadata": {
        "id": "rLGyVkeJAhyg"
      },
      "source": []
    },
    {
      "attachments": {},
      "cell_type": "markdown",
      "metadata": {
        "id": "w_BjaEqFMmyA"
      },
      "source": [
        "# **Tensors**\n",
        "\n",
        "**Disclaimer**: large parts of the lab are taken from [Deep Learning with PyTorch: A 60 Minute Blitz](https://pytorch.org/tutorials/beginner/deep_learning_60min_blitz.html) by [Soumith Chintala](http://soumith.ch/) and lectures material of [Sebastian Goldt](https://datascience.sissa.it/research-unit/12/theory-of-neural-networks).\n",
        "\n",
        "PyTorch _uses_ tensors, i.e. specialized data structure that are basically the same as a numpy array. The have nothing to do with the learning procedure: they are generic n-dimensional arrays with data in them (inputs, outputs, parameters of the net).\n",
        "\n",
        " _**Why do we use them?**_ \n",
        "They are able to run on\n",
        "GPUs or specialized hardware that lead to more fast results.\n",
        "\n",
        "_**I am not familiar with ndarrays (false, see last week Lab), do I have to worry?**_\n",
        "No worries, let us go thorugh this quick introduction!\n"
      ]
    },
    {
      "cell_type": "markdown",
      "metadata": {
        "id": "7szXCJsCQlBu"
      },
      "source": [
        "**First thing first**: import Pytorch and numpy"
      ]
    },
    {
      "cell_type": "code",
      "execution_count": null,
      "metadata": {
        "id": "TVvx01yPARNa"
      },
      "outputs": [],
      "source": [
        "import torch\n",
        "import numpy as np"
      ]
    },
    {
      "cell_type": "markdown",
      "metadata": {
        "id": "WMXa6eKNUUmI"
      },
      "source": [
        "Tensors can be _directly_ defined from data"
      ]
    },
    {
      "cell_type": "code",
      "execution_count": null,
      "metadata": {
        "id": "2EV6HKFLQcdE"
      },
      "outputs": [],
      "source": [
        "data = [[1, 2],[3, 4]] # what's the type?\n",
        "x_data = torch.tensor(data)"
      ]
    },
    {
      "cell_type": "markdown",
      "metadata": {
        "id": "BkMKKgmEUc1s"
      },
      "source": [
        "Tensors can be created _from NumPy arrays_ (and [vice versa](https://pytorch.org/tutorials/beginner/blitz/tensor_tutorial.html#bridge-to-np-label))."
      ]
    },
    {
      "cell_type": "code",
      "execution_count": null,
      "metadata": {
        "id": "w0U7GCakXHBw"
      },
      "outputs": [],
      "source": [
        "np_array = np.array(data) # what's the type?\n",
        "x_np = torch.from_numpy(np_array)"
      ]
    },
    {
      "cell_type": "markdown",
      "metadata": {
        "id": "2WoBMhnQaHxM"
      },
      "source": [
        "\n",
        "Tensors can be created from _other tensors_ with the same properties (say shape, datatype), unless overridden."
      ]
    },
    {
      "cell_type": "code",
      "execution_count": null,
      "metadata": {
        "colab": {
          "base_uri": "https://localhost:8080/"
        },
        "id": "CgrItW4DaarI",
        "outputId": "6af30c4f-894c-4cf1-a19c-0a78ed9fc0e2"
      },
      "outputs": [
        {
          "name": "stdout",
          "output_type": "stream",
          "text": [
            "Zeros: \n",
            " tensor([[0, 0],\n",
            "        [0, 0]]) \n",
            "\n",
            "Random: \n",
            " tensor([[0.4706, 0.1125],\n",
            "        [0.3981, 0.2365]]) \n",
            "\n"
          ]
        }
      ],
      "source": [
        "x_ones = torch.zeros_like(x_data) # retains the properties of x_data\n",
        "print(f\"Zeros: \\n {x_ones} \\n\")\n",
        "\n",
        "x_rand = torch.rand_like(x_data, dtype=torch.float) # overrides the datatype of x_data\n",
        "print(f\"Random: \\n {x_rand} \\n\")"
      ]
    },
    {
      "attachments": {},
      "cell_type": "markdown",
      "metadata": {
        "id": "HwOEUSokdGH0"
      },
      "source": [
        "_What about the shape?_  The shape is a tuple with the dimensions. Let us see how to use it "
      ]
    },
    {
      "cell_type": "code",
      "execution_count": null,
      "metadata": {
        "colab": {
          "base_uri": "https://localhost:8080/"
        },
        "id": "0IufsycKa8sD",
        "outputId": "ff122e0e-7d89-4464-de7a-2f45d220b15e"
      },
      "outputs": [
        {
          "name": "stdout",
          "output_type": "stream",
          "text": [
            "Random: \n",
            " tensor([[0.4486, 0.7121, 0.6916],\n",
            "        [0.4367, 0.2485, 0.6414]]) \n",
            "\n",
            "Ones: \n",
            " tensor([[1., 1., 1.],\n",
            "        [1., 1., 1.]]) \n",
            "\n",
            "Zeros: \n",
            " tensor([[0., 0., 0.],\n",
            "        [0., 0., 0.]])\n"
          ]
        }
      ],
      "source": [
        "shape = (2,3,)\n",
        "rand_tensor = torch.rand(shape)\n",
        "ones_tensor = torch.ones(shape)\n",
        "zeros_tensor = torch.zeros(shape)\n",
        "\n",
        "print(f\"Random: \\n {rand_tensor} \\n\")\n",
        "print(f\"Ones: \\n {ones_tensor} \\n\")\n",
        "print(f\"Zeros: \\n {zeros_tensor}\")"
      ]
    },
    {
      "attachments": {},
      "cell_type": "markdown",
      "metadata": {
        "id": "uByFaRowdc_v"
      },
      "source": [
        "The attributes of a tensor are \n",
        "* shape, \n",
        "* datatype,\n",
        "* the device of storage."
      ]
    },
    {
      "cell_type": "code",
      "execution_count": null,
      "metadata": {
        "colab": {
          "base_uri": "https://localhost:8080/"
        },
        "id": "U_Jg6Texdgks",
        "outputId": "a4a28033-82fe-4cfb-bb10-fa0dfcbb8d40"
      },
      "outputs": [
        {
          "name": "stdout",
          "output_type": "stream",
          "text": [
            "Shape of tensor: torch.Size([3, 4])\n",
            "Datatype of tensor: torch.float32\n",
            "Device tensor is stored on: cpu\n"
          ]
        }
      ],
      "source": [
        "tensor = torch.rand(3,4)\n",
        "\n",
        "print(f\"Shape of tensor: {tensor.shape}\")\n",
        "print(f\"Datatype of tensor: {tensor.dtype}\")\n",
        "print(f\"Device tensor is stored on: {tensor.device}\")"
      ]
    },
    {
      "cell_type": "markdown",
      "metadata": {
        "id": "y8BztAfZekgy"
      },
      "source": [
        " **Operations**\n",
        "\n",
        "There are _hundreds_ tensor operations: indexing, slicing,\n",
        "mathematical operations, transposing... [Give a look](https://pytorch.org/docs/stable/torch.html)!\n",
        "\n",
        "Each operation can be performed on GPU (faster then\n",
        "CPU). On Colab, to allocate a GPU go to Edit > Notebook\n",
        "Settings.\n",
        "\n",
        "\n",
        "\n"
      ]
    },
    {
      "cell_type": "code",
      "execution_count": null,
      "metadata": {
        "id": "ELGbtKv_eGV7"
      },
      "outputs": [],
      "source": [
        "# We move our tensor to the GPU if available\n",
        "if torch.cuda.is_available():\n",
        "  tensor = tensor.to('cuda')"
      ]
    },
    {
      "attachments": {},
      "cell_type": "markdown",
      "metadata": {
        "id": "EgOZxadify2Q"
      },
      "source": [
        "Some examples now follow: if you are familiar with numpy, it is a piece of cake"
      ]
    },
    {
      "cell_type": "markdown",
      "metadata": {
        "id": "RDEZ5aOogO1Y"
      },
      "source": [
        "_Indexing and slicing_"
      ]
    },
    {
      "cell_type": "code",
      "execution_count": null,
      "metadata": {
        "colab": {
          "base_uri": "https://localhost:8080/"
        },
        "id": "hjVxPZKNgEFy",
        "outputId": "648e58bc-896c-4b36-fcea-80d963e08da2"
      },
      "outputs": [
        {
          "name": "stdout",
          "output_type": "stream",
          "text": [
            "tensor([[1., 0., 1., 1.],\n",
            "        [1., 0., 1., 1.],\n",
            "        [1., 0., 1., 1.],\n",
            "        [1., 0., 1., 1.]])\n"
          ]
        }
      ],
      "source": [
        "tensor = torch.ones(4, 4)\n",
        "tensor[:,1] = 0\n",
        "print(tensor)"
      ]
    },
    {
      "cell_type": "markdown",
      "metadata": {
        "id": "om2N4sAmgX-5"
      },
      "source": [
        "_Joining tensors_\n"
      ]
    },
    {
      "cell_type": "code",
      "execution_count": null,
      "metadata": {
        "colab": {
          "base_uri": "https://localhost:8080/"
        },
        "id": "sDYAWeDWgv46",
        "outputId": "4c79b7e3-d360-4c59-a30b-0236d0b068c8"
      },
      "outputs": [
        {
          "name": "stdout",
          "output_type": "stream",
          "text": [
            "tensor([[1., 0., 1., 1.],\n",
            "        [1., 0., 1., 1.],\n",
            "        [1., 0., 1., 1.],\n",
            "        [1., 0., 1., 1.],\n",
            "        [1., 0., 1., 1.],\n",
            "        [1., 0., 1., 1.],\n",
            "        [1., 0., 1., 1.],\n",
            "        [1., 0., 1., 1.],\n",
            "        [1., 0., 1., 1.],\n",
            "        [1., 0., 1., 1.],\n",
            "        [1., 0., 1., 1.],\n",
            "        [1., 0., 1., 1.]])\n",
            "tensor([[1., 0., 1., 1., 1., 0., 1., 1., 1., 0., 1., 1.],\n",
            "        [1., 0., 1., 1., 1., 0., 1., 1., 1., 0., 1., 1.],\n",
            "        [1., 0., 1., 1., 1., 0., 1., 1., 1., 0., 1., 1.],\n",
            "        [1., 0., 1., 1., 1., 0., 1., 1., 1., 0., 1., 1.]])\n"
          ]
        }
      ],
      "source": [
        "t1 = torch.cat([tensor, tensor, tensor], dim=0)\n",
        "print(t1)\n",
        "t2 = torch.cat([tensor, tensor, tensor], dim=1)\n",
        "print(t2)"
      ]
    },
    {
      "cell_type": "markdown",
      "metadata": {
        "id": "HGWPBG7vE2dp"
      },
      "source": [
        "_element-wise tensor multiplication_\n",
        "\n"
      ]
    },
    {
      "cell_type": "code",
      "execution_count": null,
      "metadata": {
        "colab": {
          "base_uri": "https://localhost:8080/"
        },
        "id": "tOufPkLlE2dp",
        "jupyter": {
          "outputs_hidden": false
        },
        "outputId": "24cf84b4-ad49-40f9-d9bf-085822be125c"
      },
      "outputs": [
        {
          "name": "stdout",
          "output_type": "stream",
          "text": [
            "tensor.mul(tensor) \n",
            " tensor([[1., 0., 1., 1.],\n",
            "        [1., 0., 1., 1.],\n",
            "        [1., 0., 1., 1.],\n",
            "        [1., 0., 1., 1.]]) \n",
            "\n",
            "tensor * tensor \n",
            " tensor([[1., 0., 1., 1.],\n",
            "        [1., 0., 1., 1.],\n",
            "        [1., 0., 1., 1.],\n",
            "        [1., 0., 1., 1.]])\n"
          ]
        }
      ],
      "source": [
        "# This computes the element-wise product\n",
        "print(f\"tensor.mul(tensor) \\n {tensor.mul(tensor)} \\n\")\n",
        "# Alternative syntax:\n",
        "print(f\"tensor * tensor \\n {tensor * tensor}\")"
      ]
    },
    {
      "cell_type": "markdown",
      "metadata": {
        "id": "ntl3QyV_E2dq"
      },
      "source": [
        "_matrix tensor multiplication_\n",
        "\n"
      ]
    },
    {
      "cell_type": "code",
      "execution_count": null,
      "metadata": {
        "colab": {
          "base_uri": "https://localhost:8080/"
        },
        "id": "n1f5N9yTE2dq",
        "jupyter": {
          "outputs_hidden": false
        },
        "outputId": "5dcf8a2d-22c9-4b32-84ae-9f8496dede7e"
      },
      "outputs": [
        {
          "name": "stdout",
          "output_type": "stream",
          "text": [
            "tensor.matmul(tensor.T) \n",
            " tensor([[3., 3., 3., 3.],\n",
            "        [3., 3., 3., 3.],\n",
            "        [3., 3., 3., 3.],\n",
            "        [3., 3., 3., 3.]]) \n",
            "\n",
            "tensor @ tensor.T \n",
            " tensor([[3., 3., 3., 3.],\n",
            "        [3., 3., 3., 3.],\n",
            "        [3., 3., 3., 3.],\n",
            "        [3., 3., 3., 3.]])\n"
          ]
        }
      ],
      "source": [
        "print(f\"tensor.matmul(tensor.T) \\n {tensor.matmul(tensor.T)} \\n\")\n",
        "# Alternative syntax:\n",
        "print(f\"tensor @ tensor.T \\n {tensor @ tensor.T}\")"
      ]
    },
    {
      "cell_type": "markdown",
      "metadata": {
        "id": "UUwzFotVE2dq"
      },
      "source": [
        "_tensor addition (in-place)_\n",
        "\n"
      ]
    },
    {
      "cell_type": "code",
      "execution_count": null,
      "metadata": {
        "colab": {
          "base_uri": "https://localhost:8080/"
        },
        "id": "11Fb02qME2dq",
        "jupyter": {
          "outputs_hidden": false
        },
        "outputId": "3c3120f5-e3e9-453b-94ff-e6ba0fda5477"
      },
      "outputs": [
        {
          "name": "stdout",
          "output_type": "stream",
          "text": [
            "tensor([[1., 0., 1., 1.],\n",
            "        [1., 0., 1., 1.],\n",
            "        [1., 0., 1., 1.],\n",
            "        [1., 0., 1., 1.]]) \n",
            "\n",
            "tensor([[6., 5., 6., 6.],\n",
            "        [6., 5., 6., 6.],\n",
            "        [6., 5., 6., 6.],\n",
            "        [6., 5., 6., 6.]])\n"
          ]
        }
      ],
      "source": [
        "print(tensor, \"\\n\")\n",
        "tensor.add_(5) # change the same tensor\n",
        "print(tensor)"
      ]
    },
    {
      "cell_type": "markdown",
      "metadata": {
        "id": "HFV5H2AZE2dq"
      },
      "source": [
        "**Be carefull!**\n",
        "\n",
        " In-place operations are good for memory, but can be problematic when computing derivatives.\n",
        "\n"
      ]
    },
    {
      "cell_type": "markdown",
      "metadata": {
        "id": "GgItTGJNE2dq"
      },
      "source": [
        "_From tensors to numpy (only on CPU)_\n",
        "\n"
      ]
    },
    {
      "cell_type": "markdown",
      "metadata": {
        "id": "cFBbDgRuE2dq"
      },
      "source": [
        "### Tensor to NumPy array\n",
        "\n"
      ]
    },
    {
      "cell_type": "code",
      "execution_count": null,
      "metadata": {
        "colab": {
          "base_uri": "https://localhost:8080/"
        },
        "id": "H3eHcl0gE2dr",
        "jupyter": {
          "outputs_hidden": false
        },
        "outputId": "e818c9ce-4a70-4f50-962a-94b6c3839ca2"
      },
      "outputs": [
        {
          "name": "stdout",
          "output_type": "stream",
          "text": [
            "t: tensor([1., 1., 1., 1., 1.])\n",
            "n: [1. 1. 1. 1. 1.]\n"
          ]
        }
      ],
      "source": [
        "t = torch.ones(5)\n",
        "print(f\"t: {t}\")\n",
        "n = t.numpy()\n",
        "print(f\"n: {n}\")"
      ]
    },
    {
      "cell_type": "markdown",
      "metadata": {
        "id": "QZQTqyIpE2dr"
      },
      "source": [
        "if the tensor changes, the array changes (not vice versa).\n",
        "\n"
      ]
    },
    {
      "cell_type": "code",
      "execution_count": null,
      "metadata": {
        "colab": {
          "base_uri": "https://localhost:8080/"
        },
        "id": "iQbKc4I-E2dr",
        "jupyter": {
          "outputs_hidden": false
        },
        "outputId": "c1ffa9c7-00fb-4751-ea4a-4f8d042f20f3"
      },
      "outputs": [
        {
          "name": "stdout",
          "output_type": "stream",
          "text": [
            "t: tensor([2., 2., 2., 2., 2.])\n",
            "n: [2. 2. 2. 2. 2.]\n"
          ]
        }
      ],
      "source": [
        "t.add_(1)\n",
        "print(f\"t: {t}\")\n",
        "print(f\"n: {n}\")"
      ]
    },
    {
      "cell_type": "markdown",
      "metadata": {
        "id": "-4t1xxtIE2dr"
      },
      "source": [
        "_From numpy to tensors_\n",
        "\n"
      ]
    },
    {
      "cell_type": "code",
      "execution_count": null,
      "metadata": {
        "id": "0kiB2XtzE2dr",
        "jupyter": {
          "outputs_hidden": false
        }
      },
      "outputs": [],
      "source": [
        "n = np.ones(5)\n",
        "t = torch.from_numpy(n)"
      ]
    },
    {
      "cell_type": "markdown",
      "metadata": {
        "id": "mAHg9GB_E2dr"
      },
      "source": [
        "Changes in the NumPy array reflects in the tensor.\n",
        "\n"
      ]
    },
    {
      "cell_type": "code",
      "execution_count": null,
      "metadata": {
        "colab": {
          "base_uri": "https://localhost:8080/"
        },
        "id": "dRKmp40xE2dr",
        "jupyter": {
          "outputs_hidden": false
        },
        "outputId": "262004ed-983f-4441-8738-d1efb984e2db"
      },
      "outputs": [
        {
          "name": "stdout",
          "output_type": "stream",
          "text": [
            "t: tensor([2., 2., 2., 2., 2.], dtype=torch.float64)\n",
            "n: [2. 2. 2. 2. 2.]\n"
          ]
        }
      ],
      "source": [
        "np.add(n, 1, out=n)\n",
        "print(f\"t: {t}\")\n",
        "print(f\"n: {n}\")"
      ]
    }
  ],
  "metadata": {
    "colab": {
      "provenance": []
    },
    "kernelspec": {
      "display_name": "Python 3",
      "name": "python3"
    },
    "language_info": {
      "name": "python"
    }
  },
  "nbformat": 4,
  "nbformat_minor": 0
}
