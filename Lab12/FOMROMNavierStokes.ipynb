{
  "cells": [
    {
      "cell_type": "markdown",
      "metadata": {
        "id": "nQi-JUw4k4dc"
      },
      "source": [
        "## **Navier Stokes equations**\n",
        "\n",
        "This tutorial is freely inspired by the [RBniCS tutorial on Navier-Stokes equations](https://colab.research.google.com/github/RBniCS/RBniCS/blob/open-in-colab/tutorials/17_navier_stokes/tutorial_navier_stokes_1_deim.ipynb). \n",
        "We focus on the two-dimensional backward-facing step domain $\\Omega$, defined as follows.\n",
        "\n",
        "<img src=\"https://github.com/RBniCS/RBniCS/raw/master/tutorials/17_navier_stokes/data/backward_facing_step.png\" width=\"80%\"/>\n",
        "\n",
        "A non-homogeneous inlet Dirichlet boundary is applied on the left of the domain. No-slip boundaries (i.e. zero velocity) is imposed on the top and on the bottom of $\\Omega$. The right boundary features homogeneous Neumann conditions.\n",
        "\n",
        "The inflow velocity is parametric\n",
        "$$\\boldsymbol{u}(\\boldsymbol{x};\\mu)=\\mu\\left(\\frac{1}{2.25}(x_1-2)(5-x_1),0\\right ) \\quad \\forall \\boldsymbol{x} \\in \\Omega.$$ \n",
        "\n",
        "The parameter $\\mu$, characterizes the inlet velocity and the **Reynolds number** (i.e. the indicator of how much convective is the flow). The parameter space is $\\mathcal{P}=[1.0,80.0].$\n",
        "\n"
      ]
    },
    {
      "cell_type": "markdown",
      "source": [
        "To solve the problem, we rely on [FEniCS library](https://fenicsproject.org/download/archive/). FEniCS is a python-based library that deals with the Finite Element approximation of PDE."
      ],
      "metadata": {
        "id": "sIsdysgaRS01"
      }
    },
    {
      "cell_type": "code",
      "execution_count": null,
      "metadata": {
        "id": "fenics_installation"
      },
      "outputs": [],
      "source": [
        "# Install FEniCS\n",
        "try:\n",
        "    import dolfin\n",
        "except ImportError:\n",
        "    !wget \"https://fem-on-colab.github.io/releases/fenics-install.sh\" -O \"/tmp/fenics-install.sh\" && bash \"/tmp/fenics-install.sh\"\n",
        "    import dolfin"
      ]
    },
    {
      "cell_type": "markdown",
      "metadata": {
        "id": "NEx5t1j9k4dn"
      },
      "source": [
        "**Parametric problem**\n",
        "\n",
        "Let us denote with $\\boldsymbol{u}(\\mu)$ and $p(\\mu)$ the velocity and the pressure variables of the system.\n",
        "\n",
        "The weak formulation of Navier-Stokes equation reads: for a given parameter $\\mu \\in \\mathcal{P},$ find $\\boldsymbol u(\\mu) \\in \\mathbb{V}, \\; p \\in\\mathbb{M}$ such that </center>\n",
        "$$\n",
        "    \\begin{cases}\n",
        "        \\nu \\displaystyle \\int_{x} \\nabla \\boldsymbol{u} : \\nabla \\boldsymbol{v} \\ dx + \\int_{\\Omega} [(\\boldsymbol{u} \\cdot \\nabla) \\boldsymbol{u}] \\cdot \\boldsymbol{v} \\ dx - \\int_{\\Omega} p \\nabla \\cdot \\boldsymbol{v} \\ dx = \\int_{\\Omega} \\boldsymbol{f} \\cdot \\boldsymbol{v} \\ dx, \\quad \\forall \\boldsymbol{v} \\in\\mathbb{V},  \\\\\n",
        "        \\displaystyle \\int_{\\Omega} q \\nabla \\cdot \\boldsymbol{u} \\ dx = 0, \\quad \\forall q \\in\\mathbb{M}\n",
        "    \\end{cases}\n",
        "$$\n",
        "    \n",
        "where\n",
        "\n",
        "* $\\nu$ is kinematic viscosity,\n",
        "* $\\mathbb{V}=[H^1_{\\Gamma_{wall}}(\\Omega)]^2$,\n",
        "* $\\mathbb{M}=L^2(\\Omega)$ (we have an outlet, so no problems with the uniqueness of the pressure).\n",
        "\n",
        "As in the Stokes case, the well-posedness is related on the inf-sup condition of the divergence operator.\n",
        "Thus: we need $\\mathbb P^2 - \\mathbb P^1$ elements at the FOM level and we need supremizer stabilization for the ROM simulations.\n"
      ]
    },
    {
      "cell_type": "markdown",
      "source": [
        "Let us start to understand how to perform a FE simulation with FEniCS!"
      ],
      "metadata": {
        "id": "knbnqVU9ZJGF"
      }
    },
    {
      "cell_type": "markdown",
      "source": [
        "Let us read the mesh!"
      ],
      "metadata": {
        "id": "0ZenY6buZyB4"
      }
    },
    {
      "cell_type": "code",
      "execution_count": null,
      "metadata": {
        "id": "auxiliary_files"
      },
      "outputs": [],
      "source": [
        "# Download data files\n",
        "!mkdir -p data\n",
        "![ -f data/backward_facing_step.xml ] || wget https://github.com/RBniCS/RBniCS/raw/master/tutorials/17_navier_stokes/data/backward_facing_step.xml -O data/backward_facing_step.xml\n",
        "![ -f data/backward_facing_step_facet_region.xml ] || wget https://github.com/RBniCS/RBniCS/raw/master/tutorials/17_navier_stokes/data/backward_facing_step_facet_region.xml -O data/backward_facing_step_facet_region.xml\n",
        "![ -f data/backward_facing_step_physical_region.xml ] || wget https://github.com/RBniCS/RBniCS/raw/master/tutorials/17_navier_stokes/data/backward_facing_step_physical_region.xml -O data/backward_facing_step_physical_region.xml"
      ]
    },
    {
      "cell_type": "markdown",
      "source": [
        "Let us import FEniCS and the mesh.\n",
        "We define some parameters for the nonlinear solver."
      ],
      "metadata": {
        "id": "AdzYHh_Fd4ZT"
      }
    },
    {
      "cell_type": "code",
      "execution_count": null,
      "metadata": {
        "id": "GafBMp3ak4do"
      },
      "outputs": [],
      "source": [
        "from dolfin import *"
      ]
    },
    {
      "cell_type": "code",
      "source": [
        "mesh = Mesh(\"data/backward_facing_step.xml\")\n",
        "subdomains = MeshFunction(\"size_t\", mesh, \"data/backward_facing_step_physical_region.xml\")\n",
        "boundaries = MeshFunction(\"size_t\", mesh, \"data/backward_facing_step_facet_region.xml\")"
      ],
      "metadata": {
        "id": "i4vZSTKXZEtA"
      },
      "execution_count": null,
      "outputs": []
    },
    {
      "cell_type": "code",
      "source": [
        "# Prepare nonlinear solver\n",
        "snes_solver_parameters = {\"nonlinear_solver\": \"snes\",\n",
        "                          \"snes_solver\": {\"linear_solver\": \"umfpack\",\n",
        "                                          \"maximum_iterations\": 50,\n",
        "                                          \"report\": True,\n",
        "                                          \"error_on_nonconvergence\": True}}\n"
      ],
      "metadata": {
        "id": "h0sqYgOwSPMc"
      },
      "execution_count": null,
      "outputs": []
    },
    {
      "cell_type": "markdown",
      "source": [
        "Let us define the mixed space $\\mathbb W = \\mathbb V \\times \\mathbb M$. Just below you find the definition of trial and test functions."
      ],
      "metadata": {
        "id": "dUBVU5EieIx2"
      }
    },
    {
      "cell_type": "code",
      "source": [
        "# Define function space (P2-P1)\n",
        "V_element = VectorElement(\"Lagrange\", mesh.ufl_cell(), 2)\n",
        "M_element = FiniteElement(\"Lagrange\", mesh.ufl_cell(), 1)\n",
        "W_element = MixedElement(V_element, M_element)\n",
        "W = FunctionSpace(mesh, W_element)\n"
      ],
      "metadata": {
        "id": "Hm4x8LI5SRAG"
      },
      "execution_count": null,
      "outputs": []
    },
    {
      "cell_type": "code",
      "source": [
        "# Define trial and test functions\n",
        "delta_up = TrialFunction(W)\n",
        "vq = TestFunction(W)\n",
        "up = Function(W)\n",
        "\n",
        "(delta_u, delta_p) = split(delta_up)\n",
        "(v, q) = split(vq)\n",
        "(u, p)= split(up)\n"
      ],
      "metadata": {
        "id": "Orx572FNTxbv"
      },
      "execution_count": null,
      "outputs": []
    },
    {
      "cell_type": "markdown",
      "source": [
        "Below we define the parameter, the inlet expression and the boundaries conditions."
      ],
      "metadata": {
        "id": "XhWaLgPBee7e"
      }
    },
    {
      "cell_type": "code",
      "source": [
        "mu = 2.\n",
        "inlet = Expression((\"mu*1. / 2.25 * (x[1] - 2) * (5 - x[1])\", \"0.\"), mu=mu, degree=2)\n",
        "\n",
        "# Impose boundary conditions\n",
        "bc = [DirichletBC(W.sub(0), inlet, boundaries, 1),\n",
        "                   DirichletBC(W.sub(0), Constant((0.0, 0.0)), boundaries, 2)]"
      ],
      "metadata": {
        "id": "iAzfcF4GT2Bj"
      },
      "execution_count": null,
      "outputs": []
    },
    {
      "cell_type": "markdown",
      "source": [
        "We solve the problem by mean of the ``dolfin`` nonlinear solver. First we define the residual ``F``, then the Jacobian."
      ],
      "metadata": {
        "id": "n8saWoT7epLD"
      }
    },
    {
      "cell_type": "code",
      "source": [
        "\n",
        "# Define PDE and problem\n",
        "F = (inner(grad(u), grad(v))*dx + inner(grad(u)*u, v)*dx - div(v)*p*dx \n",
        "    + div(u)*q*dx)\n",
        "\n",
        "J = derivative(F, up, delta_up)\n",
        "\n",
        "problem = NonlinearVariationalProblem(F, up, bc, J)\n",
        "solver  = NonlinearVariationalSolver(problem)\n",
        "solver.parameters.update(snes_solver_parameters)\n",
        "\n",
        "\n"
      ],
      "metadata": {
        "id": "C7hDfRhtT6iw"
      },
      "execution_count": null,
      "outputs": []
    },
    {
      "cell_type": "markdown",
      "source": [
        "**What does the Newton's solver do?**\n",
        "\n",
        "Let us call the global mixed solution variable $U_{\\delta} = \\begin{bmatrix}\n",
        "\\mathbf u_{\\delta}\\\\\n",
        "p_{\\delta}\n",
        "\\end{bmatrix}$.\n",
        "\n",
        "\n",
        "Setting $\\delta U_{\\delta} = U^{k+1}_{\\delta} - U^{k}_{\\delta}$, we want to solve \n",
        "$$\n",
        "J(U^{k}_{\\delta};\\mu) \\delta U_\\delta = - F(U^{k}_{\\delta}; \\mu).\n",
        "$$\n",
        "Namely, we  need:\n",
        "1. the Jacobian matrix $J(U^{k}_\\delta;\\mu) \\in \\mathbb R^{(N_{\\delta}^u + N_{\\delta}^p) \\times (N_{\\delta}^u + N_{\\delta}^p)}$ is\n",
        "$$\n",
        "J(U^{k}_\\delta;\\mu) =\n",
        "\\begin{bmatrix}\n",
        "A + C_1(\\mathbf u_{\\delta}^{k}) + C_2(\\mathbf u_{\\delta}^{k}) & B^T \\\\\n",
        "B & 0 \\\\ \n",
        "\\end{bmatrix},\n",
        "$$\n",
        "where $A$ and $B$ are the classicla stiffness matrix and divergence matrix, respectively, while\n",
        "\n",
        "$$\n",
        "C_1(\\mathbf u_{\\delta}^{k})_{ij} = \\int_{\\Omega} [(\\boldsymbol{u}_{\\delta}^k \\cdot \\nabla) \\boldsymbol{\\varphi}_j] \\cdot \\boldsymbol{\\varphi}_i \\ dx \\quad \\text{and} \\quad \n",
        "C_2(\\mathbf u_{\\delta}^{k})_{ij} = \\int_{\\Omega} [(\\boldsymbol{\\varphi}_j\\cdot \\nabla) \\boldsymbol{u}_{\\delta}^k ] \\cdot \\boldsymbol{\\varphi}_i \\ dx,\n",
        "$$\n",
        "where $\\{\\boldsymbol \\varphi\\}_{i}^{N_{\\delta}^u}$ is a FE basis for the velocity.\n",
        "2. The residual vector\n",
        "$$\n",
        "F(U^{k}_{\\delta}; \\mu) = \\begin{bmatrix}\n",
        "A \\boldsymbol  u_{\\delta}^{k} + C_1(\\mathbf u_{\\delta}^{k})\\boldsymbol  u_{\\delta}^{k} + B^T p_{\\delta}^{k} - \\boldsymbol f  \\\\\n",
        "B \\boldsymbol u_{\\delta}^{k} \\\\ \n",
        "\\end{bmatrix}.\n",
        "$$\n",
        "\n",
        "One goes on until a convergence criterium is met (ugually on the norm of the residual vector).\n"
      ],
      "metadata": {
        "id": "idD8174fiZeM"
      }
    },
    {
      "cell_type": "code",
      "source": [
        "\n",
        "solver.solve()\n",
        "(u, p) = up.split(True)\n"
      ],
      "metadata": {
        "id": "Q2u1lt3qfBqx"
      },
      "execution_count": null,
      "outputs": []
    },
    {
      "cell_type": "markdown",
      "source": [
        "Let us plot velocity and pressure fields."
      ],
      "metadata": {
        "id": "anfRyOAdhkRy"
      }
    },
    {
      "cell_type": "code",
      "source": [
        "plot(u, title='Velocity')\n"
      ],
      "metadata": {
        "id": "3hzKoyLWjSrB"
      },
      "execution_count": null,
      "outputs": []
    },
    {
      "cell_type": "code",
      "source": [
        "plot(p, title='Pressure')"
      ],
      "metadata": {
        "id": "heqlK0XcjdaG"
      },
      "execution_count": null,
      "outputs": []
    },
    {
      "cell_type": "markdown",
      "source": [
        "**What about ROMs?**\n",
        "\n",
        "To build the reduced approximation we rely on a POD approximation with supremizer stabilization (inexact, exactly as Stokes problem).\n",
        "\n",
        "We call the two basis matrices as $\\mathbb B_{us}$ and $\\mathbb B_p$.\n",
        "\n",
        "To build the spaces and to perform online phase, we rely on [RBniCS](https://www.rbnicsproject.org/).\n",
        "\n",
        "RBniCS is a library based on FEniCS that deals with a lot parametric problems and structures.\n",
        "\n",
        "Let us install it and import it."
      ],
      "metadata": {
        "id": "5U1AMjEMbgwu"
      }
    },
    {
      "cell_type": "code",
      "execution_count": null,
      "metadata": {
        "id": "rbnics_installation"
      },
      "outputs": [],
      "source": [
        "# Install RBniCS\n",
        "try:\n",
        "    import rbnics\n",
        "except ImportError:\n",
        "    !pip3 install git+https://github.com/RBniCS/RBniCS.git\n",
        "    import rbnics\n",
        "import rbnics.utils.config\n",
        "assert \"dolfin\" in rbnics.utils.config.config.get(\"backends\", \"required backends\")"
      ]
    },
    {
      "cell_type": "code",
      "source": [
        "from ufl import transpose\n",
        "from rbnics import *"
      ],
      "metadata": {
        "id": "fzhykR6saofl"
      },
      "execution_count": null,
      "outputs": []
    },
    {
      "cell_type": "markdown",
      "metadata": {
        "id": "SPED1cUwk4dp"
      },
      "source": [
        "**Affine Decomposition**\n",
        "\n",
        "In this example we use DEIM approximation to recover the affine assumption over Navier-Stokes equation. \n",
        "\n",
        "Indeed, for nonliner problems as such, without any kind of _hyper-reduction_ we will deal with something of the form\n",
        "\n",
        "$$\n",
        "F_N(U_N;\\mu) = \\mathbb B^T F(\\mathbb B U_N)\n",
        "$$\n",
        "for the residual vector and \n",
        "$$\n",
        "J_N(U_N; \\mu) = \\mathbb B^T J(\\mathbb B U_N; \\mu) \\mathbb B\n",
        "$$\n",
        "for the Jacobian matrix.\n",
        "\n",
        "At each iteration the system to be solved is\n",
        "\n",
        "$$\n",
        "\\mathbb B^T J(\\mathbb B U_N^{k};\\mu) \\mathbb B \\delta U_N = - \\mathbb B^T F(\\mathbb B U_N^{k}; \\mu).\n",
        "$$\n",
        "\n",
        "Namely at **each evaluation of the Newton's method you have to project back the reduced solution at iteration $k$ and assemble the residual and the Jacobian**.\n",
        "\n",
        "DEIM (it is like EIM with POD) helps since the residual and the Jacobian are approximated, respectively, as\n",
        "$$\n",
        "F_N(U_N;\\mu) \\approx \\sum_{q=1}^{Q_q}a_F^q(U_N, \\mu)\\mathbb B^T F^q,\n",
        "$$\n",
        "and \n",
        "$$\n",
        "F_J(U_N;\\mu) \\approx \\sum_{q=1}^{Q_q}\\lambda_J^q(U_N, \\mu)\\mathbb B^T J^q \\mathbb B.\n",
        "$$\n",
        "In this way all the vectors $F^q$ and matrices $J^q$ can be pre-assembled.\n",
        "\n",
        "Let us see how RBniCS works with it. It uses a DEIM approximation online while uses standard snapshots collection in the offline phase (decorators)."
      ]
    },
    {
      "cell_type": "code",
      "execution_count": null,
      "metadata": {
        "id": "HB_2WsJtk4dq"
      },
      "outputs": [],
      "source": [
        "@DEIM(\"online\", basis_generation=\"Greedy\")\n",
        "@ExactParametrizedFunctions(\"offline\")\n",
        "class NavierStokes(NavierStokesProblem):\n",
        "\n",
        "    # Default initialization of members\n",
        "    def __init__(self, V, **kwargs):\n",
        "        # Call the standard initialization\n",
        "        NavierStokesProblem.__init__(self, V, **kwargs)\n",
        "        # ... and also store FEniCS data structures for assembly\n",
        "        assert \"subdomains\" in kwargs\n",
        "        assert \"boundaries\" in kwargs\n",
        "        self.subdomains, self.boundaries = kwargs[\"subdomains\"], kwargs[\"boundaries\"]\n",
        "        dup = TrialFunction(V)\n",
        "        (self.du, self.dp) = split(dup)\n",
        "        (self.u, _) = split(self._solution)\n",
        "        vq = TestFunction(V)\n",
        "        (self.v, self.q) = split(vq)\n",
        "        self.dx = Measure(\"dx\")(subdomain_data=self.subdomains)\n",
        "        self.ds = Measure(\"ds\")(subdomain_data=self.boundaries)\n",
        "        #\n",
        "        self.inlet = Expression((\"1. / 2.25 * (x[1] - 2) * (5 - x[1])\", \"0.\"), degree=2)\n",
        "        self.f = Constant((0.0, 0.0))\n",
        "        self.g = Constant(0.0)\n",
        "        # Customize nonlinear solver parameters\n",
        "        self._nonlinear_solver_parameters.update({\n",
        "            \"linear_solver\": \"mumps\",\n",
        "            \"maximum_iterations\": 20,\n",
        "            \"report\": True\n",
        "        })\n",
        "\n",
        "    # Return custom problem name\n",
        "    def name(self):\n",
        "        return \"NavierStokesDEIM1\"\n",
        "\n",
        "    # Return theta multiplicative terms of the affine expansion of the problem.\n",
        "    @compute_theta_for_derivatives\n",
        "    @compute_theta_for_supremizers\n",
        "    def compute_theta(self, term):\n",
        "        mu = self.mu\n",
        "        if term == \"a\":\n",
        "            theta_a0 = 1.\n",
        "            return (theta_a0,)\n",
        "        elif term in (\"b\", \"bt\"):\n",
        "            theta_b0 = 1.\n",
        "            return (theta_b0,)\n",
        "        elif term == \"c\":\n",
        "            theta_c0 = 1.\n",
        "            return (theta_c0,)\n",
        "        elif term == \"f\":\n",
        "            theta_f0 = 1.\n",
        "            return (theta_f0,)\n",
        "        elif term == \"g\":\n",
        "            theta_g0 = 1.\n",
        "            return (theta_g0,)\n",
        "        elif term == \"dirichlet_bc_u\":\n",
        "            theta_bc00 = mu[0]\n",
        "            return (theta_bc00,)\n",
        "        else:\n",
        "            raise ValueError(\"Invalid term for compute_theta().\")\n",
        "\n",
        "    # Return forms resulting from the discretization of the affine expansion of the problem operators.\n",
        "    @assemble_operator_for_derivatives\n",
        "    @assemble_operator_for_supremizers\n",
        "    def assemble_operator(self, term):\n",
        "        dx = self.dx\n",
        "        if term == \"a\":\n",
        "            u = self.du\n",
        "            v = self.v\n",
        "            a0 = inner(grad(u) + transpose(grad(u)), grad(v)) * dx\n",
        "            return (a0,)\n",
        "        elif term == \"b\":\n",
        "            u = self.du\n",
        "            q = self.q\n",
        "            b0 = - q * div(u) * dx\n",
        "            return (b0,)\n",
        "        elif term == \"bt\":\n",
        "            p = self.dp\n",
        "            v = self.v\n",
        "            bt0 = - p * div(v) * dx\n",
        "            return (bt0,)\n",
        "        elif term == \"c\":\n",
        "            u = self.u\n",
        "            v = self.v\n",
        "            c0 = inner(grad(u) * u, v) * dx\n",
        "            return (c0,)\n",
        "        elif term == \"f\":\n",
        "            v = self.v\n",
        "            f0 = inner(self.f, v) * dx\n",
        "            return (f0,)\n",
        "        elif term == \"g\":\n",
        "            q = self.q\n",
        "            g0 = self.g * q * dx\n",
        "            return (g0,)\n",
        "        elif term == \"dirichlet_bc_u\":\n",
        "            bc0 = [DirichletBC(self.V.sub(0), self.inlet, self.boundaries, 1),\n",
        "                   DirichletBC(self.V.sub(0), Constant((0.0, 0.0)), self.boundaries, 2)]\n",
        "            return (bc0,)\n",
        "        elif term == \"inner_product_u\":\n",
        "            u = self.du\n",
        "            v = self.v\n",
        "            x0 = inner(grad(u), grad(v)) * dx\n",
        "            return (x0,)\n",
        "        elif term == \"inner_product_p\":\n",
        "            p = self.dp\n",
        "            q = self.q\n",
        "            x0 = inner(p, q) * dx\n",
        "            return (x0,)\n",
        "        else:\n",
        "            raise ValueError(\"Invalid term for assemble_operator().\")\n",
        "\n",
        "\n",
        "# Customize the resulting reduced problem\n",
        "@CustomizeReducedProblemFor(NavierStokesProblem)\n",
        "def CustomizeReducedNavierStokes(ReducedNavierStokes_Base):\n",
        "    class ReducedNavierStokes(ReducedNavierStokes_Base):\n",
        "        def __init__(self, truth_problem, **kwargs):\n",
        "            ReducedNavierStokes_Base.__init__(self, truth_problem, **kwargs)\n",
        "            self._nonlinear_solver_parameters.update({\n",
        "                \"report\": True,\n",
        "                \"line_search\": \"wolfe\"\n",
        "            })\n",
        "\n",
        "    return ReducedNavierStokes"
      ]
    },
    {
      "cell_type": "markdown",
      "metadata": {
        "id": "UT0VCtJRk4dr"
      },
      "source": [
        "**The Main**\n",
        "\n",
        "Before we were defining the problem class. Now we are ready to call the methods to solve the parametric problem."
      ]
    },
    {
      "cell_type": "markdown",
      "source": [
        "Let us start with the mesh!"
      ],
      "metadata": {
        "id": "uq3EqzQ_DKmo"
      }
    },
    {
      "cell_type": "code",
      "execution_count": null,
      "metadata": {
        "id": "urDqPJqJk4ds"
      },
      "outputs": [],
      "source": [
        "mesh = Mesh(\"data/backward_facing_step.xml\")\n",
        "subdomains = MeshFunction(\"size_t\", mesh, \"data/backward_facing_step_physical_region.xml\")\n",
        "boundaries = MeshFunction(\"size_t\", mesh, \"data/backward_facing_step_facet_region.xml\")"
      ]
    },
    {
      "cell_type": "markdown",
      "metadata": {
        "id": "7cqDVWRPk4dt"
      },
      "source": [
        "Let us create the Taylor-Hooed approximation!"
      ]
    },
    {
      "cell_type": "code",
      "execution_count": null,
      "metadata": {
        "id": "NIYgB4Czk4dt"
      },
      "outputs": [],
      "source": [
        "element_u = VectorElement(\"Lagrange\", mesh.ufl_cell(), 2)\n",
        "element_p = FiniteElement(\"Lagrange\", mesh.ufl_cell(), 1)\n",
        "element = MixedElement(element_u, element_p)\n",
        "V = FunctionSpace(mesh, element, components=[[\"u\", \"s\"], \"p\"])"
      ]
    },
    {
      "cell_type": "markdown",
      "metadata": {
        "id": "62eXDT_yk4du"
      },
      "source": [
        "We are now ready to allocate the Navier-Stokes class."
      ]
    },
    {
      "cell_type": "code",
      "execution_count": null,
      "metadata": {
        "id": "4MvDi0Ack4du"
      },
      "outputs": [],
      "source": [
        "problem = NavierStokes(V, subdomains=subdomains, boundaries=boundaries)\n",
        "mu_range = [(1.0, 80.0)]\n",
        "problem.set_mu_range(mu_range)"
      ]
    },
    {
      "cell_type": "markdown",
      "metadata": {
        "id": "hV1Wrt7Vk4dv"
      },
      "source": [
        "We have to set the reduction strategy, i.e. POD."
      ]
    },
    {
      "cell_type": "code",
      "execution_count": null,
      "metadata": {
        "id": "ZU45O_Kak4dv"
      },
      "outputs": [],
      "source": [
        "reduction_method = PODGalerkin(problem)\n",
        "reduction_method.set_Nmax(10, DEIM=20)"
      ]
    },
    {
      "cell_type": "markdown",
      "metadata": {
        "id": "7U5FtzFGk4dv"
      },
      "source": [
        "**We perform the offline phase!**"
      ]
    },
    {
      "cell_type": "code",
      "execution_count": null,
      "metadata": {
        "id": "8SqAgaiDk4dw"
      },
      "outputs": [],
      "source": [
        "lifting_mu = (1.0,)\n",
        "problem.set_mu(lifting_mu)\n",
        "reduction_method.initialize_training_set(100, DEIM=144, sampling=EquispacedDistribution())\n",
        "reduced_problem = reduction_method.offline()"
      ]
    },
    {
      "cell_type": "markdown",
      "metadata": {
        "id": "6bZTQD6Pk4dw"
      },
      "source": [
        "**Perform an online solve**"
      ]
    },
    {
      "cell_type": "code",
      "execution_count": null,
      "metadata": {
        "id": "Dt6GFZQkk4dx"
      },
      "outputs": [],
      "source": [
        "online_mu = (10.0,)\n",
        "reduced_problem.set_mu(online_mu)\n",
        "reduced_solution = reduced_problem.solve()"
      ]
    },
    {
      "cell_type": "code",
      "execution_count": null,
      "metadata": {
        "id": "eldFN8B2k4dx"
      },
      "outputs": [],
      "source": [
        "plot(reduced_solution, reduced_problem=reduced_problem, component=\"u\")"
      ]
    },
    {
      "cell_type": "code",
      "execution_count": null,
      "metadata": {
        "id": "4dWr_8gwk4dx"
      },
      "outputs": [],
      "source": [
        "plot(reduced_solution, reduced_problem=reduced_problem, component=\"p\")"
      ]
    },
    {
      "cell_type": "markdown",
      "metadata": {
        "id": "Xv3nXcMbk4dx"
      },
      "source": [
        "**Error Analysis and Speedup Analysis**"
      ]
    },
    {
      "cell_type": "code",
      "execution_count": null,
      "metadata": {
        "id": "JC3Fzlcpk4dy"
      },
      "outputs": [],
      "source": [
        "reduction_method.initialize_testing_set(16, DEIM=25, sampling=EquispacedDistribution())\n",
        "reduction_method.error_analysis()"
      ]
    },
    {
      "cell_type": "code",
      "execution_count": null,
      "metadata": {
        "id": "RpxqSQt7k4dy"
      },
      "outputs": [],
      "source": [
        "reduction_method.speedup_analysis()"
      ]
    }
  ],
  "metadata": {
    "kernelspec": {
      "display_name": "Python 3",
      "language": "python",
      "name": "python3"
    },
    "language_info": {
      "codemirror_mode": {
        "name": "ipython"
      },
      "file_extension": ".py",
      "mimetype": "text/x-python",
      "name": "python",
      "nbconvert_exporter": "python"
    },
    "colab": {
      "provenance": []
    }
  },
  "nbformat": 4,
  "nbformat_minor": 0
}